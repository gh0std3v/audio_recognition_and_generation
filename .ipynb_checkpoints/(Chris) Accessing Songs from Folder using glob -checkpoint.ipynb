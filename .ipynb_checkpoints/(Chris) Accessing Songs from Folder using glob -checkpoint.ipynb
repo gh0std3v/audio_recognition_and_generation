{
 "cells": [
  {
   "cell_type": "markdown",
   "id": "163cb753",
   "metadata": {},
   "source": [
    "## Initialization Stuff"
   ]
  },
  {
   "cell_type": "code",
   "execution_count": 26,
   "id": "e64d192c",
   "metadata": {},
   "outputs": [
    {
     "name": "stderr",
     "output_type": "stream",
     "text": [
      "[nltk_data] Downloading package stopwords to\n",
      "[nltk_data]     C:\\Users\\gammi\\AppData\\Roaming\\nltk_data...\n",
      "[nltk_data]   Package stopwords is already up-to-date!\n"
     ]
    }
   ],
   "source": [
    "import nltk \n",
    "from nltk.corpus import stopwords\n",
    "import glob\n",
    "nltk.download('stopwords')\n",
    "\n",
    "def tokenize_without_stopwords(lyrics):\n",
    "    tokenized = punc_regex.sub('', lyrics).lower().split()\n",
    "    return tuple(word for word in tokenized if not word in stopwords.words())"
   ]
  },
  {
   "cell_type": "code",
   "execution_count": 27,
   "id": "5dae84b1",
   "metadata": {},
   "outputs": [],
   "source": [
    "import re, string\n",
    "\n",
    "punc_regex = re.compile('[{}]'.format(re.escape(string.punctuation)))"
   ]
  },
  {
   "cell_type": "markdown",
   "id": "a8bf18c0",
   "metadata": {},
   "source": [
    "## Positive Chorus"
   ]
  },
  {
   "cell_type": "code",
   "execution_count": 28,
   "id": "c43257c7",
   "metadata": {},
   "outputs": [],
   "source": [
    "path = 'Positive Chorus/*.txt'\n",
    "files = glob.glob(path, recursive=True)\n",
    "\n",
    "all_test_songs = dict()\n",
    "\n",
    "for file in files:\n",
    "    f = open(file, \"r\")\n",
    "    chorus = f.read().replace(\"\\n\", \" \")\n",
    "    song_title = file[:-4].replace(\"Positive Chorus\\\\\", \"\")\n",
    "    tokenized_chorus = tokenize_without_stopwords(chorus)\n",
    "    \n",
    "    all_test_songs[song_title] = tokenized_chorus\n",
    "    \n",
    "    f.close()"
   ]
  },
  {
   "cell_type": "code",
   "execution_count": 29,
   "id": "d7511582",
   "metadata": {},
   "outputs": [],
   "source": [
    "positive_chorus = all_test_songs"
   ]
  },
  {
   "cell_type": "code",
   "execution_count": 30,
   "id": "386f207f",
   "metadata": {},
   "outputs": [
    {
     "data": {
      "text/plain": [
       "dict_keys(['a_thousand_years', 'fight_song', 'hall_of_fame', 'happy', 'high_hopes', 'just_the_way_you_are', 'perfect', 'we_are_the_champions'])"
      ]
     },
     "execution_count": 30,
     "metadata": {},
     "output_type": "execute_result"
    }
   ],
   "source": [
    "positive_chorus.keys()"
   ]
  },
  {
   "cell_type": "markdown",
   "id": "a95124c6",
   "metadata": {},
   "source": [
    "## Negative Chorus"
   ]
  },
  {
   "cell_type": "code",
   "execution_count": 35,
   "id": "0283a2c3",
   "metadata": {},
   "outputs": [],
   "source": [
    "path = 'Negative Chorus/*.txt'\n",
    "files = glob.glob(path, recursive=True)\n",
    "\n",
    "all_test_songs = dict()\n",
    "\n",
    "for file in files:\n",
    "    f = open(file, \"r\")\n",
    "    chorus = f.read().replace(\"\\n\", \" \")\n",
    "    song_title = file[:-4].replace(\"Negative Chorus\\\\\", \"\")\n",
    "    tokenized_chorus = tokenize_without_stopwords(chorus)\n",
    "    \n",
    "    all_test_songs[song_title] = tokenized_chorus\n",
    "    \n",
    "    f.close()"
   ]
  },
  {
   "cell_type": "code",
   "execution_count": 36,
   "id": "36ca7225",
   "metadata": {},
   "outputs": [],
   "source": [
    "negative_chorus = all_test_songs"
   ]
  },
  {
   "cell_type": "code",
   "execution_count": 37,
   "id": "f52e0685",
   "metadata": {},
   "outputs": [
    {
     "data": {
      "text/plain": [
       "dict_keys(['hold_on', 'how_to_save_a_life', 'let_her_go', 'sad_song', 'say_something', 'someone_like_you', 'someone_you_loved', 'viva_la_vida', 'you_broke_me_first'])"
      ]
     },
     "execution_count": 37,
     "metadata": {},
     "output_type": "execute_result"
    }
   ],
   "source": [
    "negative_chorus.keys()"
   ]
  },
  {
   "cell_type": "markdown",
   "id": "45fa6bd2",
   "metadata": {},
   "source": [
    "## Positive Song Lyrics"
   ]
  },
  {
   "cell_type": "code",
   "execution_count": 39,
   "id": "26f892a5",
   "metadata": {},
   "outputs": [],
   "source": [
    "path = 'Positive Song Lyrics/*.txt'\n",
    "files = glob.glob(path, recursive=True)\n",
    "\n",
    "all_test_songs = dict()\n",
    "\n",
    "for file in files:\n",
    "    f = open(file, \"r\")\n",
    "    chorus = f.read().replace(\"\\n\", \" \")\n",
    "    song_title = file[:-4].replace(\"Positive Song Lyrics\\\\\", \"\")\n",
    "    tokenized_chorus = tokenize_without_stopwords(chorus)\n",
    "    \n",
    "    all_test_songs[song_title] = tokenized_chorus\n",
    "    \n",
    "    f.close()"
   ]
  },
  {
   "cell_type": "code",
   "execution_count": 40,
   "id": "e50f797a",
   "metadata": {},
   "outputs": [],
   "source": [
    "positive_song_lyrics = all_test_songs"
   ]
  },
  {
   "cell_type": "code",
   "execution_count": 41,
   "id": "da92b6e5",
   "metadata": {},
   "outputs": [
    {
     "data": {
      "text/plain": [
       "dict_keys(['a_thousand_years_full', 'fight_song_full', 'hall_of_fame_full', 'happy_full', 'high_hopes_full', 'just_the_way_you_are_full', 'perfect_full', 'we_are_the_champions_full'])"
      ]
     },
     "execution_count": 41,
     "metadata": {},
     "output_type": "execute_result"
    }
   ],
   "source": [
    "positive_song_lyrics.keys()"
   ]
  },
  {
   "cell_type": "markdown",
   "id": "3e6bca23",
   "metadata": {},
   "source": [
    "## Negative Song Lyrics"
   ]
  },
  {
   "cell_type": "code",
   "execution_count": 42,
   "id": "334e8d6d",
   "metadata": {},
   "outputs": [],
   "source": [
    "path = 'Negative Song Lyrics/*.txt'\n",
    "files = glob.glob(path, recursive=True)\n",
    "\n",
    "all_test_songs = dict()\n",
    "\n",
    "for file in files:\n",
    "    f = open(file, \"r\")\n",
    "    chorus = f.read().replace(\"\\n\", \" \")\n",
    "    song_title = file[:-4].replace(\"Negative Song Lyrics\\\\\", \"\")\n",
    "    tokenized_chorus = tokenize_without_stopwords(chorus)\n",
    "    \n",
    "    all_test_songs[song_title] = tokenized_chorus\n",
    "    \n",
    "    f.close()"
   ]
  },
  {
   "cell_type": "code",
   "execution_count": 43,
   "id": "cbc7a7b8",
   "metadata": {},
   "outputs": [],
   "source": [
    "negative_song_lyrics = all_test_songs"
   ]
  },
  {
   "cell_type": "code",
   "execution_count": 44,
   "id": "79cd97da",
   "metadata": {},
   "outputs": [
    {
     "data": {
      "text/plain": [
       "dict_keys(['hold_on_full', 'how_to_save_a_life_full', 'let_her_go_full', 'sad_song_full', 'say_something_full', 'someone_like_you_full', 'someone_you_loved_full', 'viva_la_vida_full', 'you_broke_me_first_full'])"
      ]
     },
     "execution_count": 44,
     "metadata": {},
     "output_type": "execute_result"
    }
   ],
   "source": [
    "negative_song_lyrics.keys()"
   ]
  },
  {
   "cell_type": "code",
   "execution_count": null,
   "id": "a78be520",
   "metadata": {},
   "outputs": [],
   "source": []
  }
 ],
 "metadata": {
  "kernelspec": {
   "display_name": "Python 3",
   "language": "python",
   "name": "python3"
  },
  "language_info": {
   "codemirror_mode": {
    "name": "ipython",
    "version": 3
   },
   "file_extension": ".py",
   "mimetype": "text/x-python",
   "name": "python",
   "nbconvert_exporter": "python",
   "pygments_lexer": "ipython3",
   "version": "3.8.10"
  }
 },
 "nbformat": 4,
 "nbformat_minor": 5
}
