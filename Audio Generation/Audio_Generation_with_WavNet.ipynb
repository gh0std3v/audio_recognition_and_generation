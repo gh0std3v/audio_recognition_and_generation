{
  "nbformat": 4,
  "nbformat_minor": 0,
  "metadata": {
    "colab": {
      "name": "Audio Generation with WavNet.ipynb",
      "provenance": [],
      "collapsed_sections": [
        "ih8MOuKSBMjc"
      ]
    },
    "kernelspec": {
      "name": "python3",
      "display_name": "Python 3"
    },
    "language_info": {
      "name": "python"
    },
    "accelerator": "GPU"
  },
  "cells": [
    {
      "cell_type": "markdown",
      "metadata": {
        "id": "x3ycEbn_01YS"
      },
      "source": [
        "# Audio Generation Notebook\n",
        "\n",
        "Makes classical music!\n",
        "\n",
        "MAKE SURE TO USE GPU"
      ]
    },
    {
      "cell_type": "code",
      "metadata": {
        "colab": {
          "base_uri": "https://localhost:8080/"
        },
        "id": "auotEBfHl1za",
        "outputId": "ca484942-941e-48bd-d1ca-96d0fa53523a"
      },
      "source": [
        "!pip install music21"
      ],
      "execution_count": null,
      "outputs": [
        {
          "output_type": "stream",
          "text": [
            "Requirement already satisfied: music21 in /usr/local/lib/python3.7/dist-packages (5.5.0)\n"
          ],
          "name": "stdout"
        }
      ]
    },
    {
      "cell_type": "code",
      "metadata": {
        "id": "h19hj3XJmgbm"
      },
      "source": [
        "from music21 import *"
      ],
      "execution_count": null,
      "outputs": []
    },
    {
      "cell_type": "markdown",
      "metadata": {
        "id": "EYfrkXusoj66"
      },
      "source": [
        "## Reading in the Files"
      ]
    },
    {
      "cell_type": "code",
      "metadata": {
        "id": "mh33TDDBmjbf"
      },
      "source": [
        "#defining function to read MIDI files\n",
        "def read_midi(file):\n",
        "    \n",
        "    print(\"Loading Music File:\",file)\n",
        "    \n",
        "    notes=[]\n",
        "    notes_to_parse = None\n",
        "    \n",
        "    #parsing a midi file\n",
        "    midi = converter.parse(file)\n",
        "  \n",
        "    #grouping based on different instruments\n",
        "    s2 = instrument.partitionByInstrument(midi)\n",
        "\n",
        "    #Looping over all the instruments\n",
        "    for part in s2.parts:\n",
        "    \n",
        "        #select elements of only piano\n",
        "        if 'Piano' in str(part): \n",
        "        \n",
        "            notes_to_parse = part.recurse() \n",
        "      \n",
        "            #finding whether a particular element is note or a chord\n",
        "            for element in notes_to_parse:\n",
        "                \n",
        "                #note\n",
        "                if isinstance(element, note.Note):\n",
        "                    notes.append(str(element.pitch))\n",
        "                \n",
        "                #chord\n",
        "                elif isinstance(element, chord.Chord):\n",
        "                    notes.append('.'.join(str(n) for n in element.normalOrder))\n",
        "\n",
        "    return np.array(notes)"
      ],
      "execution_count": null,
      "outputs": []
    },
    {
      "cell_type": "code",
      "metadata": {
        "colab": {
          "base_uri": "https://localhost:8080/"
        },
        "id": "nmp8eS6wmucP",
        "outputId": "3786149e-5907-435d-cb7d-91360bae11bf"
      },
      "source": [
        "#for listing down the file names\n",
        "import os\n",
        "\n",
        "#Array Processing\n",
        "import numpy as np\n",
        "\n",
        "#specify the path\n",
        "path='schubert/'\n",
        "path2='bach/'\n",
        "\n",
        "#read all the filenames\n",
        "files=[i for i in os.listdir(path) if i.endswith(\".mid\")]\n",
        "bach_files=[i for i in os.listdir(path2) if i.endswith(\".mid\")]\n",
        "\n",
        "#reading each midi file\n",
        "notes_array = np.array([read_midi(path+i) for i in files])\n",
        "bach_array = np.array([read_midi(path2+i) for i in bach_files])\n",
        "notes_array = np.hstack((notes_array, bach_array))"
      ],
      "execution_count": null,
      "outputs": [
        {
          "output_type": "stream",
          "text": [
            "Loading Music File: schubert/schubert_D850_2.mid\n",
            "Loading Music File: schubert/schuim-2.mid\n",
            "Loading Music File: schubert/schub_d760_2.mid\n",
            "Loading Music File: schubert/schumm-4.mid\n",
            "Loading Music File: schubert/schumm-1.mid\n",
            "Loading Music File: schubert/schubert_D935_1.mid\n",
            "Loading Music File: schubert/schuim-1.mid\n",
            "Loading Music File: schubert/schub_d960_1.mid\n",
            "Loading Music File: schubert/schuim-4.mid\n",
            "Loading Music File: schubert/schub_d760_1.mid\n",
            "Loading Music File: schubert/schubert_D935_2.mid\n",
            "Loading Music File: schubert/schub_d960_4.mid\n",
            "Loading Music File: schubert/schu_143_1.mid\n",
            "Loading Music File: schubert/schub_d960_3.mid\n",
            "Loading Music File: schubert/schuim-3.mid\n",
            "Loading Music File: schubert/schubert_D850_3.mid\n",
            "Loading Music File: schubert/schub_d760_3.mid\n",
            "Loading Music File: schubert/schubert_D850_1.mid\n",
            "Loading Music File: schubert/schub_d760_4.mid\n",
            "Loading Music File: schubert/schu_143_3.mid\n",
            "Loading Music File: schubert/schumm-6.mid\n",
            "Loading Music File: schubert/schubert_D935_3.mid\n",
            "Loading Music File: schubert/schumm-5.mid\n",
            "Loading Music File: schubert/schub_d960_2.mid\n",
            "Loading Music File: schubert/schu_143_2.mid\n",
            "Loading Music File: schubert/schubert_D850_4.mid\n",
            "Loading Music File: schubert/schumm-2.mid\n",
            "Loading Music File: schubert/schubert_D935_4.mid\n",
            "Loading Music File: schubert/schumm-3.mid\n",
            "Loading Music File: bach/BACH.JohannSebastian.TOCCFUG.Organ.mid\n"
          ],
          "name": "stdout"
        },
        {
          "output_type": "stream",
          "text": [
            "/usr/local/lib/python3.7/dist-packages/ipykernel_launcher.py:16: VisibleDeprecationWarning: Creating an ndarray from ragged nested sequences (which is a list-or-tuple of lists-or-tuples-or ndarrays with different lengths or shapes) is deprecated. If you meant to do this, you must specify 'dtype=object' when creating the ndarray\n",
            "  app.launch_new_instance()\n"
          ],
          "name": "stderr"
        },
        {
          "output_type": "stream",
          "text": [
            "Loading Music File: bach/BACH.JohannSebastian.TOCC_911.mid\n",
            "Loading Music File: bach/BACH.JohannSebastian.TOCC_910.mid\n",
            "Loading Music File: bach/BACH.JohannSebastian.TOCC_916.mid\n",
            "Loading Music File: bach/BACH.JohannSebastian.TOCARFUG.mid\n",
            "Loading Music File: bach/BACH.JohannSebastian.ItalianConcerto.A.mid\n",
            "Loading Music File: bach/BACH.JohannSebastian.PASCFUG.mid\n",
            "Loading Music File: bach/BACH.JohannSebastian.TOCC_914.mid\n",
            "Loading Music File: bach/BACH.JohannSebastian.TOCC_913.mid\n",
            "Loading Music File: bach/BACH.JohannSebastian.ItalianConcerto.C.mid\n",
            "Loading Music File: bach/BACH.JohannSebastian.TOCC_915.mid\n",
            "Loading Music File: bach/BACH.JohannSebastian.ItalianConcerto.B.mid\n"
          ],
          "name": "stdout"
        },
        {
          "output_type": "stream",
          "text": [
            "/usr/local/lib/python3.7/dist-packages/ipykernel_launcher.py:17: VisibleDeprecationWarning: Creating an ndarray from ragged nested sequences (which is a list-or-tuple of lists-or-tuples-or ndarrays with different lengths or shapes) is deprecated. If you meant to do this, you must specify 'dtype=object' when creating the ndarray\n"
          ],
          "name": "stderr"
        }
      ]
    },
    {
      "cell_type": "code",
      "metadata": {
        "colab": {
          "base_uri": "https://localhost:8080/"
        },
        "id": "y4vlkDtynDiw",
        "outputId": "b663b931-f590-42df-9d12-a0ea0356f435"
      },
      "source": [
        "len(notes_array)"
      ],
      "execution_count": null,
      "outputs": [
        {
          "output_type": "execute_result",
          "data": {
            "text/plain": [
              "41"
            ]
          },
          "metadata": {
            "tags": []
          },
          "execution_count": 9
        }
      ]
    },
    {
      "cell_type": "markdown",
      "metadata": {
        "id": "Zr1-aB3poo9p"
      },
      "source": [
        "## Understanding the Data"
      ]
    },
    {
      "cell_type": "code",
      "metadata": {
        "colab": {
          "base_uri": "https://localhost:8080/"
        },
        "id": "VeLfW7zvoTM4",
        "outputId": "f5419058-5f6a-4e12-bb50-0e8f0f324a7b"
      },
      "source": [
        "#converting 2D array into 1D array\n",
        "notes_ = [element for note_ in notes_array for element in note_]\n",
        "\n",
        "#No. of unique notes\n",
        "unique_notes = list(set(notes_))\n",
        "print(len(unique_notes))"
      ],
      "execution_count": null,
      "outputs": [
        {
          "output_type": "stream",
          "text": [
            "326\n"
          ],
          "name": "stdout"
        }
      ]
    },
    {
      "cell_type": "code",
      "metadata": {
        "colab": {
          "base_uri": "https://localhost:8080/",
          "height": 403
        },
        "id": "T519rtmeortK",
        "outputId": "eb4f9e51-91ac-4fea-8bb8-2973d8ff5bf6"
      },
      "source": [
        "#importing library\n",
        "from collections import Counter\n",
        "\n",
        "#computing frequency of each note\n",
        "freq = dict(Counter(notes_))\n",
        "\n",
        "#library for visualiation\n",
        "import matplotlib.pyplot as plt\n",
        "\n",
        "#consider only the frequencies\n",
        "no=[count for _,count in freq.items()]\n",
        "\n",
        "#set the figure size\n",
        "plt.figure(figsize=(5,5))\n",
        "\n",
        "#plot\n",
        "plt.hist(no)"
      ],
      "execution_count": null,
      "outputs": [
        {
          "output_type": "execute_result",
          "data": {
            "text/plain": [
              "(array([222.,  48.,  14.,   9.,   3.,   8.,   6.,   9.,   4.,   3.]),\n",
              " array([1.0000e+00, 2.3030e+02, 4.5960e+02, 6.8890e+02, 9.1820e+02,\n",
              "        1.1475e+03, 1.3768e+03, 1.6061e+03, 1.8354e+03, 2.0647e+03,\n",
              "        2.2940e+03]),\n",
              " <a list of 10 Patch objects>)"
            ]
          },
          "metadata": {
            "tags": []
          },
          "execution_count": 11
        },
        {
          "output_type": "display_data",
          "data": {
            "image/png": "[encoded data removed]",
            "text/plain": [
              "<Figure size 360x360 with 1 Axes>"
            ]
          },
          "metadata": {
            "tags": [],
            "image/png": {
              "width": 319,
              "height": 302
            },
            "needs_background": "light"
          }
        }
      ]
    },
    {
      "cell_type": "code",
      "metadata": {
        "colab": {
          "base_uri": "https://localhost:8080/"
        },
        "id": "1fqpwZu5owdr",
        "outputId": "f6fc669c-fc51-4784-895c-fae59e0cea7a"
      },
      "source": [
        "# Ignore the Low Frequency Notes\n",
        "\n",
        "frequent_notes = [note_ for note_, count in freq.items() if count>=50] # ORIGINALLY count >= 50\n",
        "print(len(frequent_notes))\n"
      ],
      "execution_count": null,
      "outputs": [
        {
          "output_type": "stream",
          "text": [
            "171\n"
          ],
          "name": "stdout"
        }
      ]
    },
    {
      "cell_type": "code",
      "metadata": {
        "colab": {
          "base_uri": "https://localhost:8080/"
        },
        "id": "jnBh6jgRo5Zv",
        "outputId": "20bfa4f8-12e1-4f87-c33e-3a8e21f11204"
      },
      "source": [
        "# Preparing new musical files that contian only the top frequent notes\n",
        "\n",
        "new_music=[]\n",
        "\n",
        "for notes in notes_array:\n",
        "    temp=[]\n",
        "    for note_ in notes:\n",
        "        if note_ in frequent_notes:\n",
        "            temp.append(note_)            \n",
        "    new_music.append(temp)\n",
        "    \n",
        "new_music = np.array(new_music)"
      ],
      "execution_count": null,
      "outputs": [
        {
          "output_type": "stream",
          "text": [
            "/usr/local/lib/python3.7/dist-packages/ipykernel_launcher.py:12: VisibleDeprecationWarning: Creating an ndarray from ragged nested sequences (which is a list-or-tuple of lists-or-tuples-or ndarrays with different lengths or shapes) is deprecated. If you meant to do this, you must specify 'dtype=object' when creating the ndarray\n",
            "  if sys.path[0] == '':\n"
          ],
          "name": "stderr"
        }
      ]
    },
    {
      "cell_type": "markdown",
      "metadata": {
        "id": "xlu3VLRUpEWE"
      },
      "source": [
        "## Preparing the Data"
      ]
    },
    {
      "cell_type": "code",
      "metadata": {
        "colab": {
          "base_uri": "https://localhost:8080/"
        },
        "id": "gViypBX1rX9D",
        "outputId": "e7f00ea1-f653-4a9d-ff51-8b47556cf313"
      },
      "source": [
        "len(new_music[1])"
      ],
      "execution_count": null,
      "outputs": [
        {
          "output_type": "execute_result",
          "data": {
            "text/plain": [
              "2646"
            ]
          },
          "metadata": {
            "tags": []
          },
          "execution_count": 14
        }
      ]
    },
    {
      "cell_type": "code",
      "metadata": {
        "id": "qhG4aaQopBuu"
      },
      "source": [
        "no_of_timesteps = 400 # HOW MANY PREVIOUS NOTES TO ANALYZE TO MAKE NEW NOTE\n",
        "x = []\n",
        "y = []\n",
        "\n",
        "for note_ in new_music:\n",
        "    for i in range(0, len(note_) - no_of_timesteps, 1):\n",
        "        \n",
        "        #preparing input and output sequences\n",
        "        input_ = note_[i:i + no_of_timesteps]\n",
        "        output = note_[i + no_of_timesteps]\n",
        "        \n",
        "        x.append(input_)\n",
        "        y.append(output)\n",
        "        \n",
        "x=np.array(x)\n",
        "y=np.array(y)"
      ],
      "execution_count": null,
      "outputs": []
    },
    {
      "cell_type": "code",
      "metadata": {
        "colab": {
          "base_uri": "https://localhost:8080/"
        },
        "id": "TmIYJKYip2ba",
        "outputId": "760b8f5d-cccb-40a1-b175-7cf2ab1fe9f4"
      },
      "source": [
        "print(\"x shape\", x.shape)\n",
        "print(\"y shape\", y.shape)"
      ],
      "execution_count": null,
      "outputs": [
        {
          "output_type": "stream",
          "text": [
            "x shape (76773, 400)\n",
            "y shape (76773,)\n"
          ],
          "name": "stdout"
        }
      ]
    },
    {
      "cell_type": "code",
      "metadata": {
        "id": "NPelB5gipIgh"
      },
      "source": [
        "# Assign a unique integer to every note:\n",
        "\n",
        "unique_x = list(set(x.ravel()))\n",
        "x_note_to_int = dict((note_, number) for number, note_ in enumerate(unique_x))"
      ],
      "execution_count": null,
      "outputs": []
    },
    {
      "cell_type": "code",
      "metadata": {
        "colab": {
          "base_uri": "https://localhost:8080/"
        },
        "id": "D44eB3cTpmhD",
        "outputId": "4630b0ef-4969-4828-8d1d-8f4bc23bc9d0"
      },
      "source": [
        "len(x_note_to_int.keys())"
      ],
      "execution_count": null,
      "outputs": [
        {
          "output_type": "execute_result",
          "data": {
            "text/plain": [
              "171"
            ]
          },
          "metadata": {
            "tags": []
          },
          "execution_count": 67
        }
      ]
    },
    {
      "cell_type": "code",
      "metadata": {
        "id": "Ht0qbirRpO5e"
      },
      "source": [
        "# Preparing the integer sequences for input data\n",
        "\n",
        "x_seq=[]\n",
        "for i in x:\n",
        "    temp=[]\n",
        "    for j in i:\n",
        "        #assigning unique integer to every note\n",
        "        temp.append(x_note_to_int[j])\n",
        "    x_seq.append(temp)\n",
        "    \n",
        "x_seq = np.array(x_seq)"
      ],
      "execution_count": null,
      "outputs": []
    },
    {
      "cell_type": "code",
      "metadata": {
        "colab": {
          "base_uri": "https://localhost:8080/"
        },
        "id": "PbH_EKHTpf3x",
        "outputId": "a3b444e1-b62a-4c40-bd11-a80c0371654a"
      },
      "source": [
        "x_seq.shape"
      ],
      "execution_count": null,
      "outputs": [
        {
          "output_type": "execute_result",
          "data": {
            "text/plain": [
              "(76773, 400)"
            ]
          },
          "metadata": {
            "tags": []
          },
          "execution_count": 69
        }
      ]
    },
    {
      "cell_type": "code",
      "metadata": {
        "id": "Gtga3k5qpf-1"
      },
      "source": [
        "# Do the same for output data\n",
        "\n",
        "unique_y = list(set(y))\n",
        "y_note_to_int = dict((note_, number) for number, note_ in enumerate(unique_y)) \n",
        "y_seq=np.array([y_note_to_int[i] for i in y])"
      ],
      "execution_count": null,
      "outputs": []
    },
    {
      "cell_type": "code",
      "metadata": {
        "id": "pl_AZcvJqPNU"
      },
      "source": [
        "# 80% of dat for training and the rest 20% for evaluation\n",
        "from sklearn.model_selection import train_test_split\n",
        "x_tr, x_val, y_tr, y_val = train_test_split(x_seq,y_seq,test_size=0.2,random_state=0)"
      ],
      "execution_count": null,
      "outputs": []
    },
    {
      "cell_type": "markdown",
      "metadata": {
        "id": "zTCVyIK0stMD"
      },
      "source": [
        "## Building WaveNet Model"
      ]
    },
    {
      "cell_type": "code",
      "metadata": {
        "colab": {
          "base_uri": "https://localhost:8080/"
        },
        "id": "01RHXaYAzWlY",
        "outputId": "3dae2da9-d46c-48d8-afaf-95d77e8ec22d"
      },
      "source": [
        "len(unique_x)"
      ],
      "execution_count": null,
      "outputs": [
        {
          "output_type": "execute_result",
          "data": {
            "text/plain": [
              "171"
            ]
          },
          "metadata": {
            "tags": []
          },
          "execution_count": 72
        }
      ]
    },
    {
      "cell_type": "code",
      "metadata": {
        "colab": {
          "base_uri": "https://localhost:8080/"
        },
        "id": "6GqK4zhqsW1s",
        "outputId": "cdeeda7b-d5a8-444c-868d-7a8f41d6f836"
      },
      "source": [
        "# DEFINING WAVENET MODEL\n",
        "# NOTE: NO RESIDUAL OR SKIP CONNECTIONS\n",
        "\n",
        "from keras.layers import *\n",
        "from keras.models import *\n",
        "from keras.callbacks import *\n",
        "import keras.backend as K\n",
        "\n",
        "K.clear_session()\n",
        "model = Sequential()\n",
        "    \n",
        "#embedding layer\n",
        "model.add(Embedding(len(unique_x), 100, input_length=no_of_timesteps,trainable=True)) \n",
        "\n",
        "model.add(Conv1D(64,3, padding='causal',activation='relu'))\n",
        "model.add(Dropout(0.2))\n",
        "model.add(MaxPool1D(2))\n",
        "    \n",
        "model.add(Conv1D(128,3,activation='relu',dilation_rate=2,padding='causal'))\n",
        "model.add(Dropout(0.2))\n",
        "model.add(MaxPool1D(2))\n",
        "\n",
        "model.add(Conv1D(256,3,activation='relu',dilation_rate=4,padding='causal'))\n",
        "model.add(Dropout(0.2))\n",
        "model.add(MaxPool1D(2))\n",
        "          \n",
        "#model.add(Conv1D(256,5,activation='relu'))    \n",
        "model.add(GlobalMaxPool1D())\n",
        "    \n",
        "model.add(Dense(256, activation='relu'))\n",
        "model.add(Dense(len(unique_y), activation='softmax'))\n",
        "    \n",
        "model.compile(loss='sparse_categorical_crossentropy', optimizer='adam')\n",
        "\n",
        "model.summary()"
      ],
      "execution_count": null,
      "outputs": [
        {
          "output_type": "stream",
          "text": [
            "Model: \"sequential\"\n",
            "_________________________________________________________________\n",
            "Layer (type)                 Output Shape              Param #   \n",
            "=================================================================\n",
            "embedding (Embedding)        (None, 400, 100)          17100     \n",
            "_________________________________________________________________\n",
            "conv1d (Conv1D)              (None, 400, 64)           19264     \n",
            "_________________________________________________________________\n",
            "dropout (Dropout)            (None, 400, 64)           0         \n",
            "_________________________________________________________________\n",
            "max_pooling1d (MaxPooling1D) (None, 200, 64)           0         \n",
            "_________________________________________________________________\n",
            "conv1d_1 (Conv1D)            (None, 200, 128)          24704     \n",
            "_________________________________________________________________\n",
            "dropout_1 (Dropout)          (None, 200, 128)          0         \n",
            "_________________________________________________________________\n",
            "max_pooling1d_1 (MaxPooling1 (None, 100, 128)          0         \n",
            "_________________________________________________________________\n",
            "conv1d_2 (Conv1D)            (None, 100, 256)          98560     \n",
            "_________________________________________________________________\n",
            "dropout_2 (Dropout)          (None, 100, 256)          0         \n",
            "_________________________________________________________________\n",
            "max_pooling1d_2 (MaxPooling1 (None, 50, 256)           0         \n",
            "_________________________________________________________________\n",
            "global_max_pooling1d (Global (None, 256)               0         \n",
            "_________________________________________________________________\n",
            "dense (Dense)                (None, 256)               65792     \n",
            "_________________________________________________________________\n",
            "dense_1 (Dense)              (None, 171)               43947     \n",
            "=================================================================\n",
            "Total params: 269,367\n",
            "Trainable params: 269,367\n",
            "Non-trainable params: 0\n",
            "_________________________________________________________________\n"
          ],
          "name": "stdout"
        }
      ]
    },
    {
      "cell_type": "code",
      "metadata": {
        "id": "yUfR7km6syGm"
      },
      "source": [
        "# Defining the callback to save the best model during training\n",
        "\n",
        "mc = ModelCheckpoint('best_model.h5', monitor='val_loss', mode='min', save_best_only=True,verbose=1)"
      ],
      "execution_count": null,
      "outputs": []
    },
    {
      "cell_type": "code",
      "metadata": {
        "colab": {
          "base_uri": "https://localhost:8080/"
        },
        "id": "udi7_x2Qs_2q",
        "outputId": "0701181f-ebe6-4646-f2a0-b937032a5373"
      },
      "source": [
        "# TRAINING THE MODEL\n",
        "BATCH_SIZE = 128\n",
        "EPOCHS = 100\n",
        "\n",
        "history = model.fit(np.array(x_tr),np.array(y_tr),batch_size=BATCH_SIZE,epochs=EPOCHS, validation_data=(np.array(x_val),np.array(y_val)),verbose=1, callbacks=[mc])\n",
        "# 2 min 38 seconds"
      ],
      "execution_count": null,
      "outputs": [
        {
          "output_type": "stream",
          "text": [
            "Epoch 1/100\n",
            "480/480 [==============================] - 16s 31ms/step - loss: 4.6377 - val_loss: 4.3561\n",
            "\n",
            "Epoch 00001: val_loss improved from inf to 4.35605, saving model to best_model.h5\n",
            "Epoch 2/100\n",
            "480/480 [==============================] - 14s 29ms/step - loss: 4.2363 - val_loss: 4.2062\n",
            "\n",
            "Epoch 00002: val_loss improved from 4.35605 to 4.20615, saving model to best_model.h5\n",
            "Epoch 3/100\n",
            "480/480 [==============================] - 14s 29ms/step - loss: 4.0708 - val_loss: 4.0709\n",
            "\n",
            "Epoch 00003: val_loss improved from 4.20615 to 4.07092, saving model to best_model.h5\n",
            "Epoch 4/100\n",
            "480/480 [==============================] - 14s 28ms/step - loss: 3.9409 - val_loss: 3.9841\n",
            "\n",
            "Epoch 00004: val_loss improved from 4.07092 to 3.98411, saving model to best_model.h5\n",
            "Epoch 5/100\n",
            "480/480 [==============================] - 14s 29ms/step - loss: 3.8391 - val_loss: 3.9221\n",
            "\n",
            "Epoch 00005: val_loss improved from 3.98411 to 3.92210, saving model to best_model.h5\n",
            "Epoch 6/100\n",
            "480/480 [==============================] - 14s 29ms/step - loss: 3.7466 - val_loss: 3.8670\n",
            "\n",
            "Epoch 00006: val_loss improved from 3.92210 to 3.86705, saving model to best_model.h5\n",
            "Epoch 7/100\n",
            "480/480 [==============================] - 14s 29ms/step - loss: 3.6798 - val_loss: 3.8117\n",
            "\n",
            "Epoch 00007: val_loss improved from 3.86705 to 3.81170, saving model to best_model.h5\n",
            "Epoch 8/100\n",
            "480/480 [==============================] - 14s 29ms/step - loss: 3.6148 - val_loss: 3.7657\n",
            "\n",
            "Epoch 00008: val_loss improved from 3.81170 to 3.76575, saving model to best_model.h5\n",
            "Epoch 9/100\n",
            "480/480 [==============================] - 14s 29ms/step - loss: 3.5495 - val_loss: 3.7282\n",
            "\n",
            "Epoch 00009: val_loss improved from 3.76575 to 3.72818, saving model to best_model.h5\n",
            "Epoch 10/100\n",
            "480/480 [==============================] - 14s 28ms/step - loss: 3.5096 - val_loss: 3.7070\n",
            "\n",
            "Epoch 00010: val_loss improved from 3.72818 to 3.70704, saving model to best_model.h5\n",
            "Epoch 11/100\n",
            "480/480 [==============================] - 13s 28ms/step - loss: 3.4767 - val_loss: 3.6821\n",
            "\n",
            "Epoch 00011: val_loss improved from 3.70704 to 3.68209, saving model to best_model.h5\n",
            "Epoch 12/100\n",
            "480/480 [==============================] - 14s 30ms/step - loss: 3.4458 - val_loss: 3.6708\n",
            "\n",
            "Epoch 00012: val_loss improved from 3.68209 to 3.67078, saving model to best_model.h5\n",
            "Epoch 13/100\n",
            "480/480 [==============================] - 14s 29ms/step - loss: 3.4121 - val_loss: 3.6234\n",
            "\n",
            "Epoch 00013: val_loss improved from 3.67078 to 3.62340, saving model to best_model.h5\n",
            "Epoch 14/100\n",
            "480/480 [==============================] - 14s 28ms/step - loss: 3.3882 - val_loss: 3.6171\n",
            "\n",
            "Epoch 00014: val_loss improved from 3.62340 to 3.61711, saving model to best_model.h5\n",
            "Epoch 15/100\n",
            "480/480 [==============================] - 14s 29ms/step - loss: 3.3605 - val_loss: 3.6176\n",
            "\n",
            "Epoch 00015: val_loss did not improve from 3.61711\n",
            "Epoch 16/100\n",
            "480/480 [==============================] - 14s 28ms/step - loss: 3.3280 - val_loss: 3.6012\n",
            "\n",
            "Epoch 00016: val_loss improved from 3.61711 to 3.60123, saving model to best_model.h5\n",
            "Epoch 17/100\n",
            "480/480 [==============================] - 13s 28ms/step - loss: 3.3215 - val_loss: 3.5834\n",
            "\n",
            "Epoch 00017: val_loss improved from 3.60123 to 3.58343, saving model to best_model.h5\n",
            "Epoch 18/100\n",
            "480/480 [==============================] - 13s 28ms/step - loss: 3.2865 - val_loss: 3.5744\n",
            "\n",
            "Epoch 00018: val_loss improved from 3.58343 to 3.57439, saving model to best_model.h5\n",
            "Epoch 19/100\n",
            "480/480 [==============================] - 14s 29ms/step - loss: 3.2580 - val_loss: 3.5505\n",
            "\n",
            "Epoch 00019: val_loss improved from 3.57439 to 3.55048, saving model to best_model.h5\n",
            "Epoch 20/100\n",
            "480/480 [==============================] - 14s 29ms/step - loss: 3.2557 - val_loss: 3.5388\n",
            "\n",
            "Epoch 00020: val_loss improved from 3.55048 to 3.53876, saving model to best_model.h5\n",
            "Epoch 21/100\n",
            "480/480 [==============================] - 14s 29ms/step - loss: 3.2311 - val_loss: 3.5389\n",
            "\n",
            "Epoch 00021: val_loss did not improve from 3.53876\n",
            "Epoch 22/100\n",
            "480/480 [==============================] - 14s 28ms/step - loss: 3.2109 - val_loss: 3.5402\n",
            "\n",
            "Epoch 00022: val_loss did not improve from 3.53876\n",
            "Epoch 23/100\n",
            "480/480 [==============================] - 13s 28ms/step - loss: 3.1954 - val_loss: 3.5319\n",
            "\n",
            "Epoch 00023: val_loss improved from 3.53876 to 3.53194, saving model to best_model.h5\n",
            "Epoch 24/100\n",
            "480/480 [==============================] - 14s 29ms/step - loss: 3.1873 - val_loss: 3.5104\n",
            "\n",
            "Epoch 00024: val_loss improved from 3.53194 to 3.51041, saving model to best_model.h5\n",
            "Epoch 25/100\n",
            "480/480 [==============================] - 14s 29ms/step - loss: 3.1698 - val_loss: 3.4982\n",
            "\n",
            "Epoch 00025: val_loss improved from 3.51041 to 3.49815, saving model to best_model.h5\n",
            "Epoch 26/100\n",
            "480/480 [==============================] - 14s 28ms/step - loss: 3.1665 - val_loss: 3.4953\n",
            "\n",
            "Epoch 00026: val_loss improved from 3.49815 to 3.49534, saving model to best_model.h5\n",
            "Epoch 27/100\n",
            "480/480 [==============================] - 13s 28ms/step - loss: 3.1359 - val_loss: 3.4976\n",
            "\n",
            "Epoch 00027: val_loss did not improve from 3.49534\n",
            "Epoch 28/100\n",
            "480/480 [==============================] - 13s 28ms/step - loss: 3.1365 - val_loss: 3.4922\n",
            "\n",
            "Epoch 00028: val_loss improved from 3.49534 to 3.49222, saving model to best_model.h5\n",
            "Epoch 29/100\n",
            "480/480 [==============================] - 14s 29ms/step - loss: 3.1325 - val_loss: 3.4856\n",
            "\n",
            "Epoch 00029: val_loss improved from 3.49222 to 3.48563, saving model to best_model.h5\n",
            "Epoch 30/100\n",
            "480/480 [==============================] - 14s 29ms/step - loss: 3.1189 - val_loss: 3.4739\n",
            "\n",
            "Epoch 00030: val_loss improved from 3.48563 to 3.47388, saving model to best_model.h5\n",
            "Epoch 31/100\n",
            "480/480 [==============================] - 14s 28ms/step - loss: 3.1019 - val_loss: 3.4780\n",
            "\n",
            "Epoch 00031: val_loss did not improve from 3.47388\n",
            "Epoch 32/100\n",
            "480/480 [==============================] - 13s 28ms/step - loss: 3.1020 - val_loss: 3.4614\n",
            "\n",
            "Epoch 00032: val_loss improved from 3.47388 to 3.46141, saving model to best_model.h5\n",
            "Epoch 33/100\n",
            "480/480 [==============================] - 14s 28ms/step - loss: 3.0854 - val_loss: 3.4546\n",
            "\n",
            "Epoch 00033: val_loss improved from 3.46141 to 3.45461, saving model to best_model.h5\n",
            "Epoch 34/100\n",
            "480/480 [==============================] - 14s 29ms/step - loss: 3.0821 - val_loss: 3.4548\n",
            "\n",
            "Epoch 00034: val_loss did not improve from 3.45461\n",
            "Epoch 35/100\n",
            "480/480 [==============================] - 14s 29ms/step - loss: 3.0650 - val_loss: 3.4438\n",
            "\n",
            "Epoch 00035: val_loss improved from 3.45461 to 3.44376, saving model to best_model.h5\n",
            "Epoch 36/100\n",
            "480/480 [==============================] - 14s 29ms/step - loss: 3.0611 - val_loss: 3.4563\n",
            "\n",
            "Epoch 00036: val_loss did not improve from 3.44376\n",
            "Epoch 37/100\n",
            "480/480 [==============================] - 14s 29ms/step - loss: 3.0556 - val_loss: 3.4342\n",
            "\n",
            "Epoch 00037: val_loss improved from 3.44376 to 3.43419, saving model to best_model.h5\n",
            "Epoch 38/100\n",
            "480/480 [==============================] - 14s 28ms/step - loss: 3.0398 - val_loss: 3.4466\n",
            "\n",
            "Epoch 00038: val_loss did not improve from 3.43419\n",
            "Epoch 39/100\n",
            "480/480 [==============================] - 14s 28ms/step - loss: 3.0307 - val_loss: 3.4338\n",
            "\n",
            "Epoch 00039: val_loss improved from 3.43419 to 3.43380, saving model to best_model.h5\n",
            "Epoch 40/100\n",
            "480/480 [==============================] - 14s 28ms/step - loss: 3.0293 - val_loss: 3.4336\n",
            "\n",
            "Epoch 00040: val_loss improved from 3.43380 to 3.43363, saving model to best_model.h5\n",
            "Epoch 41/100\n",
            "480/480 [==============================] - 14s 29ms/step - loss: 3.0280 - val_loss: 3.4307\n",
            "\n",
            "Epoch 00041: val_loss improved from 3.43363 to 3.43067, saving model to best_model.h5\n",
            "Epoch 42/100\n",
            "480/480 [==============================] - 14s 29ms/step - loss: 3.0152 - val_loss: 3.4227\n",
            "\n",
            "Epoch 00042: val_loss improved from 3.43067 to 3.42268, saving model to best_model.h5\n",
            "Epoch 43/100\n",
            "480/480 [==============================] - 14s 28ms/step - loss: 3.0168 - val_loss: 3.4219\n",
            "\n",
            "Epoch 00043: val_loss improved from 3.42268 to 3.42191, saving model to best_model.h5\n",
            "Epoch 44/100\n",
            "480/480 [==============================] - 14s 28ms/step - loss: 3.0050 - val_loss: 3.4255\n",
            "\n",
            "Epoch 00044: val_loss did not improve from 3.42191\n",
            "Epoch 45/100\n",
            "480/480 [==============================] - 14s 28ms/step - loss: 3.0066 - val_loss: 3.4190\n",
            "\n",
            "Epoch 00045: val_loss improved from 3.42191 to 3.41905, saving model to best_model.h5\n",
            "Epoch 46/100\n",
            "480/480 [==============================] - 14s 29ms/step - loss: 2.9959 - val_loss: 3.4172\n",
            "\n",
            "Epoch 00046: val_loss improved from 3.41905 to 3.41717, saving model to best_model.h5\n",
            "Epoch 47/100\n",
            "480/480 [==============================] - 14s 29ms/step - loss: 2.9885 - val_loss: 3.4195\n",
            "\n",
            "Epoch 00047: val_loss did not improve from 3.41717\n",
            "Epoch 48/100\n",
            "480/480 [==============================] - 14s 28ms/step - loss: 2.9843 - val_loss: 3.4069\n",
            "\n",
            "Epoch 00048: val_loss improved from 3.41717 to 3.40692, saving model to best_model.h5\n",
            "Epoch 49/100\n",
            "480/480 [==============================] - 14s 29ms/step - loss: 2.9735 - val_loss: 3.4135\n",
            "\n",
            "Epoch 00049: val_loss did not improve from 3.40692\n",
            "Epoch 50/100\n",
            "480/480 [==============================] - 14s 29ms/step - loss: 2.9638 - val_loss: 3.4128\n",
            "\n",
            "Epoch 00050: val_loss did not improve from 3.40692\n",
            "Epoch 51/100\n",
            "480/480 [==============================] - 14s 29ms/step - loss: 2.9547 - val_loss: 3.4027\n",
            "\n",
            "Epoch 00051: val_loss improved from 3.40692 to 3.40272, saving model to best_model.h5\n",
            "Epoch 52/100\n",
            "480/480 [==============================] - 14s 29ms/step - loss: 2.9573 - val_loss: 3.4039\n",
            "\n",
            "Epoch 00052: val_loss did not improve from 3.40272\n",
            "Epoch 53/100\n",
            "480/480 [==============================] - 14s 29ms/step - loss: 2.9553 - val_loss: 3.4149\n",
            "\n",
            "Epoch 00053: val_loss did not improve from 3.40272\n",
            "Epoch 54/100\n",
            "480/480 [==============================] - 14s 28ms/step - loss: 2.9548 - val_loss: 3.4081\n",
            "\n",
            "Epoch 00054: val_loss did not improve from 3.40272\n",
            "Epoch 55/100\n",
            "480/480 [==============================] - 14s 29ms/step - loss: 2.9515 - val_loss: 3.4051\n",
            "\n",
            "Epoch 00055: val_loss did not improve from 3.40272\n",
            "Epoch 56/100\n",
            "480/480 [==============================] - 14s 29ms/step - loss: 2.9261 - val_loss: 3.4008\n",
            "\n",
            "Epoch 00056: val_loss improved from 3.40272 to 3.40077, saving model to best_model.h5\n",
            "Epoch 57/100\n",
            "480/480 [==============================] - 14s 29ms/step - loss: 2.9293 - val_loss: 3.4027\n",
            "\n",
            "Epoch 00057: val_loss did not improve from 3.40077\n",
            "Epoch 58/100\n",
            "480/480 [==============================] - 14s 29ms/step - loss: 2.9278 - val_loss: 3.3983\n",
            "\n",
            "Epoch 00058: val_loss improved from 3.40077 to 3.39829, saving model to best_model.h5\n",
            "Epoch 59/100\n",
            "480/480 [==============================] - 14s 28ms/step - loss: 2.9371 - val_loss: 3.3959\n",
            "\n",
            "Epoch 00059: val_loss improved from 3.39829 to 3.39589, saving model to best_model.h5\n",
            "Epoch 60/100\n",
            "480/480 [==============================] - 14s 29ms/step - loss: 2.9245 - val_loss: 3.3905\n",
            "\n",
            "Epoch 00060: val_loss improved from 3.39589 to 3.39050, saving model to best_model.h5\n",
            "Epoch 61/100\n",
            "480/480 [==============================] - 14s 28ms/step - loss: 2.9204 - val_loss: 3.3877\n",
            "\n",
            "Epoch 00061: val_loss improved from 3.39050 to 3.38769, saving model to best_model.h5\n",
            "Epoch 62/100\n",
            "480/480 [==============================] - 13s 28ms/step - loss: 2.9107 - val_loss: 3.3883\n",
            "\n",
            "Epoch 00062: val_loss did not improve from 3.38769\n",
            "Epoch 63/100\n",
            "480/480 [==============================] - 14s 28ms/step - loss: 2.9205 - val_loss: 3.3968\n",
            "\n",
            "Epoch 00063: val_loss did not improve from 3.38769\n",
            "Epoch 64/100\n",
            "480/480 [==============================] - 13s 28ms/step - loss: 2.9040 - val_loss: 3.3918\n",
            "\n",
            "Epoch 00064: val_loss did not improve from 3.38769\n",
            "Epoch 65/100\n",
            "480/480 [==============================] - 13s 28ms/step - loss: 2.8966 - val_loss: 3.3899\n",
            "\n",
            "Epoch 00065: val_loss did not improve from 3.38769\n",
            "Epoch 66/100\n",
            "480/480 [==============================] - 13s 28ms/step - loss: 2.8953 - val_loss: 3.3863\n",
            "\n",
            "Epoch 00066: val_loss improved from 3.38769 to 3.38626, saving model to best_model.h5\n",
            "Epoch 67/100\n",
            "480/480 [==============================] - 13s 28ms/step - loss: 2.8848 - val_loss: 3.3819\n",
            "\n",
            "Epoch 00067: val_loss improved from 3.38626 to 3.38194, saving model to best_model.h5\n",
            "Epoch 68/100\n",
            "480/480 [==============================] - 14s 28ms/step - loss: 2.8909 - val_loss: 3.3878\n",
            "\n",
            "Epoch 00068: val_loss did not improve from 3.38194\n",
            "Epoch 69/100\n",
            "480/480 [==============================] - 13s 28ms/step - loss: 2.8771 - val_loss: 3.3992\n",
            "\n",
            "Epoch 00069: val_loss did not improve from 3.38194\n",
            "Epoch 70/100\n",
            "480/480 [==============================] - 13s 28ms/step - loss: 2.8812 - val_loss: 3.3880\n",
            "\n",
            "Epoch 00070: val_loss did not improve from 3.38194\n",
            "Epoch 71/100\n",
            "480/480 [==============================] - 13s 28ms/step - loss: 2.8686 - val_loss: 3.3887\n",
            "\n",
            "Epoch 00071: val_loss did not improve from 3.38194\n",
            "Epoch 72/100\n",
            "480/480 [==============================] - 13s 28ms/step - loss: 2.8689 - val_loss: 3.3925\n",
            "\n",
            "Epoch 00072: val_loss did not improve from 3.38194\n",
            "Epoch 73/100\n",
            "480/480 [==============================] - 14s 28ms/step - loss: 2.8752 - val_loss: 3.3817\n",
            "\n",
            "Epoch 00073: val_loss improved from 3.38194 to 3.38167, saving model to best_model.h5\n",
            "Epoch 74/100\n",
            "480/480 [==============================] - 13s 28ms/step - loss: 2.8712 - val_loss: 3.3861\n",
            "\n",
            "Epoch 00074: val_loss did not improve from 3.38167\n",
            "Epoch 75/100\n",
            "480/480 [==============================] - 13s 28ms/step - loss: 2.8615 - val_loss: 3.3838\n",
            "\n",
            "Epoch 00075: val_loss did not improve from 3.38167\n",
            "Epoch 76/100\n",
            "480/480 [==============================] - 13s 28ms/step - loss: 2.8606 - val_loss: 3.3799\n",
            "\n",
            "Epoch 00076: val_loss improved from 3.38167 to 3.37995, saving model to best_model.h5\n",
            "Epoch 77/100\n",
            "480/480 [==============================] - 14s 28ms/step - loss: 2.8557 - val_loss: 3.3800\n",
            "\n",
            "Epoch 00077: val_loss did not improve from 3.37995\n",
            "Epoch 78/100\n",
            "480/480 [==============================] - 14s 28ms/step - loss: 2.8595 - val_loss: 3.3838\n",
            "\n",
            "Epoch 00078: val_loss did not improve from 3.37995\n",
            "Epoch 79/100\n",
            "480/480 [==============================] - 13s 28ms/step - loss: 2.8502 - val_loss: 3.3843\n",
            "\n",
            "Epoch 00079: val_loss did not improve from 3.37995\n",
            "Epoch 80/100\n",
            "480/480 [==============================] - 13s 28ms/step - loss: 2.8395 - val_loss: 3.3829\n",
            "\n",
            "Epoch 00080: val_loss did not improve from 3.37995\n",
            "Epoch 81/100\n",
            "480/480 [==============================] - 13s 28ms/step - loss: 2.8402 - val_loss: 3.3832\n",
            "\n",
            "Epoch 00081: val_loss did not improve from 3.37995\n",
            "Epoch 82/100\n",
            "480/480 [==============================] - 14s 28ms/step - loss: 2.8474 - val_loss: 3.3722\n",
            "\n",
            "Epoch 00082: val_loss improved from 3.37995 to 3.37218, saving model to best_model.h5\n",
            "Epoch 83/100\n",
            "480/480 [==============================] - 14s 29ms/step - loss: 2.8378 - val_loss: 3.3848\n",
            "\n",
            "Epoch 00083: val_loss did not improve from 3.37218\n",
            "Epoch 84/100\n",
            "480/480 [==============================] - 13s 28ms/step - loss: 2.8389 - val_loss: 3.3811\n",
            "\n",
            "Epoch 00084: val_loss did not improve from 3.37218\n",
            "Epoch 85/100\n",
            "480/480 [==============================] - 14s 29ms/step - loss: 2.8412 - val_loss: 3.3671\n",
            "\n",
            "Epoch 00085: val_loss improved from 3.37218 to 3.36709, saving model to best_model.h5\n",
            "Epoch 86/100\n",
            "480/480 [==============================] - 14s 28ms/step - loss: 2.8322 - val_loss: 3.3895\n",
            "\n",
            "Epoch 00086: val_loss did not improve from 3.36709\n",
            "Epoch 87/100\n",
            "480/480 [==============================] - 13s 28ms/step - loss: 2.8299 - val_loss: 3.3782\n",
            "\n",
            "Epoch 00087: val_loss did not improve from 3.36709\n",
            "Epoch 88/100\n",
            "480/480 [==============================] - 13s 28ms/step - loss: 2.8248 - val_loss: 3.3680\n",
            "\n",
            "Epoch 00088: val_loss did not improve from 3.36709\n",
            "Epoch 89/100\n",
            "480/480 [==============================] - 13s 28ms/step - loss: 2.8232 - val_loss: 3.3608\n",
            "\n",
            "Epoch 00089: val_loss improved from 3.36709 to 3.36075, saving model to best_model.h5\n",
            "Epoch 90/100\n",
            "480/480 [==============================] - 14s 29ms/step - loss: 2.8101 - val_loss: 3.3696\n",
            "\n",
            "Epoch 00090: val_loss did not improve from 3.36075\n",
            "Epoch 91/100\n",
            "480/480 [==============================] - 14s 28ms/step - loss: 2.8240 - val_loss: 3.3673\n",
            "\n",
            "Epoch 00091: val_loss did not improve from 3.36075\n",
            "Epoch 92/100\n",
            "480/480 [==============================] - 13s 28ms/step - loss: 2.8211 - val_loss: 3.3668\n",
            "\n",
            "Epoch 00092: val_loss did not improve from 3.36075\n",
            "Epoch 93/100\n",
            "480/480 [==============================] - 13s 28ms/step - loss: 2.8108 - val_loss: 3.3658\n",
            "\n",
            "Epoch 00093: val_loss did not improve from 3.36075\n",
            "Epoch 94/100\n",
            "480/480 [==============================] - 14s 28ms/step - loss: 2.8068 - val_loss: 3.3658\n",
            "\n",
            "Epoch 00094: val_loss did not improve from 3.36075\n",
            "Epoch 95/100\n",
            "480/480 [==============================] - 14s 29ms/step - loss: 2.7998 - val_loss: 3.3638\n",
            "\n",
            "Epoch 00095: val_loss did not improve from 3.36075\n",
            "Epoch 96/100\n",
            "480/480 [==============================] - 13s 28ms/step - loss: 2.8113 - val_loss: 3.3684\n",
            "\n",
            "Epoch 00096: val_loss did not improve from 3.36075\n",
            "Epoch 97/100\n",
            "480/480 [==============================] - 13s 28ms/step - loss: 2.8153 - val_loss: 3.3666\n",
            "\n",
            "Epoch 00097: val_loss did not improve from 3.36075\n",
            "Epoch 98/100\n",
            "480/480 [==============================] - 13s 28ms/step - loss: 2.8090 - val_loss: 3.3624\n",
            "\n",
            "Epoch 00098: val_loss did not improve from 3.36075\n",
            "Epoch 99/100\n",
            "480/480 [==============================] - 14s 28ms/step - loss: 2.7843 - val_loss: 3.3676\n",
            "\n",
            "Epoch 00099: val_loss did not improve from 3.36075\n",
            "Epoch 100/100\n",
            "480/480 [==============================] - 14s 29ms/step - loss: 2.7945 - val_loss: 3.3760\n",
            "\n",
            "Epoch 00100: val_loss did not improve from 3.36075\n"
          ],
          "name": "stdout"
        }
      ]
    },
    {
      "cell_type": "code",
      "metadata": {
        "id": "JvUHylMvtS64"
      },
      "source": [
        "# Loading the Best Model:\n",
        "from keras.models import load_model\n",
        "model = load_model('best_model.h5')"
      ],
      "execution_count": null,
      "outputs": []
    },
    {
      "cell_type": "markdown",
      "metadata": {
        "id": "ih8MOuKSBMjc"
      },
      "source": [
        "### Plotting Training Statistics"
      ]
    },
    {
      "cell_type": "code",
      "metadata": {
        "colab": {
          "base_uri": "https://localhost:8080/"
        },
        "id": "Fn3WcfjKBS04",
        "outputId": "43050066-9de0-4d19-8364-50ea21da8b32"
      },
      "source": [
        "# list all data in history\n",
        "print(history.history.keys())"
      ],
      "execution_count": null,
      "outputs": [
        {
          "output_type": "stream",
          "text": [
            "dict_keys(['loss', 'val_loss'])\n"
          ],
          "name": "stdout"
        }
      ]
    },
    {
      "cell_type": "code",
      "metadata": {
        "colab": {
          "base_uri": "https://localhost:8080/",
          "height": 294
        },
        "id": "pxL0_Vi9BPH7",
        "outputId": "cee55855-0344-4211-f820-35aa22e2f299"
      },
      "source": [
        "plt.plot(history.history['loss'])\n",
        "plt.plot(history.history['val_loss'])\n",
        "plt.title('model loss')\n",
        "plt.ylabel('loss')\n",
        "plt.xlabel('epoch')\n",
        "plt.legend(['train', 'test'], loc='upper left')\n",
        "plt.show()"
      ],
      "execution_count": null,
      "outputs": [
        {
          "output_type": "display_data",
          "data": {
            "image/png": "[encoded data removed]",
            "text/plain": [
              "<Figure size 432x288 with 1 Axes>"
            ]
          },
          "metadata": {
            "tags": [],
            "image/png": {
              "width": 392,
              "height": 277
            },
            "needs_background": "light"
          }
        }
      ]
    },
    {
      "cell_type": "markdown",
      "metadata": {
        "id": "lW14K-bwvTDh"
      },
      "source": [
        "## Making our own Music (Inference Phase)"
      ]
    },
    {
      "cell_type": "code",
      "metadata": {
        "colab": {
          "base_uri": "https://localhost:8080/"
        },
        "id": "HyoLpuqOEF-A",
        "outputId": "a9a676bd-ae78-4085-ae0a-4e66c6f607d8"
      },
      "source": [
        "len(x_val[5])"
      ],
      "execution_count": null,
      "outputs": [
        {
          "output_type": "execute_result",
          "data": {
            "text/plain": [
              "400"
            ]
          },
          "metadata": {
            "tags": []
          },
          "execution_count": 79
        }
      ]
    },
    {
      "cell_type": "code",
      "metadata": {
        "colab": {
          "base_uri": "https://localhost:8080/"
        },
        "id": "2TdXS1LRvQWh",
        "outputId": "5854138b-fae9-403b-88b5-56567008ffe5"
      },
      "source": [
        "#Select a random array of sample values as a starting point to our model\n",
        "\n",
        "import random\n",
        "ind = np.random.randint(0,len(x_val)-1)\n",
        "\n",
        "random_music = x_val[ind]\n",
        "\n",
        "predictions=[]\n",
        "for i in range(800):\n",
        "\n",
        "    random_music = random_music.reshape(1,no_of_timesteps)\n",
        "\n",
        "    prob  = model.predict(random_music)[0]\n",
        "    y_pred= np.argmax(prob,axis=0)\n",
        "    predictions.append(y_pred)\n",
        "\n",
        "    random_music = np.insert(random_music[0],len(random_music[0]),y_pred)\n",
        "    random_music = random_music[1:]\n",
        "    \n",
        "print(predictions)"
      ],
      "execution_count": null,
      "outputs": [
        {
          "output_type": "stream",
          "text": [
            "[107, 107, 107, 107, 107, 107, 107, 133, 107, 107, 107, 133, 107, 107, 107, 133, 107, 107, 107, 142, 107, 107, 107, 107, 107, 142, 107, 107, 107, 148, 148, 148, 148, 148, 107, 107, 107, 131, 107, 133, 107, 142, 107, 133, 107, 133, 133, 133, 107, 133, 133, 133, 133, 142, 107, 133, 131, 142, 8, 106, 131, 145, 133, 133, 131, 142, 147, 133, 147, 142, 147, 133, 147, 147, 147, 133, 147, 50, 147, 133, 147, 50, 147, 133, 147, 147, 147, 133, 147, 147, 147, 133, 147, 50, 147, 147, 147, 147, 147, 147, 147, 147, 147, 147, 147, 147, 147, 50, 147, 50, 147, 50, 20, 50, 147, 133, 20, 84, 50, 50, 107, 84, 131, 50, 52, 84, 50, 50, 84, 84, 84, 84, 20, 84, 20, 20, 84, 20, 20, 20, 84, 20, 20, 84, 84, 84, 20, 52, 52, 20, 120, 52, 52, 20, 120, 20, 50, 84, 50, 84, 20, 84, 20, 84, 84, 148, 20, 20, 107, 84, 20, 84, 84, 20, 20, 84, 107, 84, 50, 50, 52, 84, 50, 74, 52, 52, 74, 74, 52, 84, 74, 115, 147, 84, 131, 115, 147, 115, 120, 84, 120, 84, 131, 84, 34, 84, 84, 148, 34, 148, 147, 148, 147, 148, 148, 148, 148, 148, 147, 148, 148, 148, 34, 151, 148, 148, 48, 70, 148, 148, 34, 34, 148, 148, 74, 51, 148, 148, 50, 50, 50, 50, 43, 50, 50, 50, 50, 136, 75, 136, 75, 136, 75, 136, 75, 50, 17, 17, 50, 50, 138, 138, 50, 50, 138, 17, 50, 50, 17, 17, 50, 50, 50, 50, 50, 50, 50, 50, 50, 50, 17, 17, 50, 50, 145, 50, 50, 50, 29, 50, 50, 50, 65, 65, 50, 50, 50, 50, 50, 50, 125, 50, 34, 34, 125, 65, 34, 34, 50, 50, 50, 50, 50, 50, 50, 50, 50, 50, 50, 50, 50, 17, 75, 17, 75, 17, 17, 112, 148, 17, 17, 17, 112, 17, 17, 17, 17, 17, 17, 70, 112, 17, 17, 148, 112, 112, 70, 70, 136, 112, 70, 70, 25, 112, 116, 112, 112, 116, 116, 116, 25, 116, 116, 116, 25, 116, 116, 112, 112, 116, 116, 112, 112, 112, 112, 148, 112, 116, 148, 148, 112, 29, 112, 116, 112, 112, 148, 148, 108, 108, 52, 52, 52, 108, 52, 52, 108, 108, 148, 108, 108, 108, 108, 108, 108, 108, 108, 108, 108, 108, 108, 108, 108, 108, 108, 108, 108, 49, 108, 108, 108, 108, 108, 108, 112, 112, 108, 112, 112, 112, 109, 148, 109, 109, 120, 30, 7, 7, 120, 120, 7, 112, 148, 148, 148, 148, 108, 108, 108, 108, 69, 69, 69, 69, 69, 69, 108, 108, 69, 69, 69, 108, 69, 108, 108, 108, 69, 108, 108, 108, 69, 108, 108, 69, 69, 108, 108, 108, 69, 69, 108, 108, 69, 108, 108, 108, 65, 65, 108, 108, 65, 65, 138, 65, 65, 65, 108, 108, 65, 65, 90, 69, 69, 69, 69, 69, 69, 88, 108, 88, 7, 7, 7, 7, 7, 7, 7, 136, 136, 136, 136, 136, 136, 136, 7, 99, 7, 136, 7, 7, 136, 136, 84, 84, 138, 136, 136, 99, 136, 136, 136, 136, 136, 136, 108, 108, 99, 108, 7, 108, 7, 7, 7, 7, 7, 7, 7, 7, 7, 7, 7, 7, 7, 7, 7, 108, 7, 108, 7, 108, 7, 108, 108, 57, 95, 108, 108, 108, 95, 108, 108, 108, 95, 108, 108, 108, 95, 108, 7, 108, 108, 108, 108, 108, 108, 49, 108, 49, 49, 49, 49, 49, 49, 49, 49, 49, 49, 49, 49, 49, 49, 49, 49, 49, 49, 49, 49, 49, 49, 49, 130, 49, 69, 130, 90, 49, 69, 90, 69, 49, 69, 69, 69, 49, 69, 69, 22, 69, 22, 69, 22, 69, 95, 95, 95, 95, 95, 95, 95, 95, 95, 95, 95, 65, 95, 95, 7, 95, 95, 65, 95, 65, 95, 35, 65, 65, 95, 35, 65, 65, 95, 35, 95, 65, 95, 95, 95, 69, 95, 69, 95, 69, 95, 69, 95, 69, 69, 69, 69, 69, 73, 69, 69, 36, 69, 69, 69, 69, 69, 73, 108, 108, 108, 108, 108, 35, 108, 108, 7, 35, 108, 108, 7, 7, 108, 108, 7, 108, 108, 112, 95, 95, 95, 95, 95, 95, 95, 95, 95, 69, 69, 69, 95, 69, 95, 95, 22, 69, 69, 69, 69, 69, 69, 69, 69, 69, 69, 69, 69, 69, 69, 69, 73, 69, 73, 73, 73, 73, 73, 73, 73, 49, 69, 49, 22, 49, 49, 90, 22, 49, 49, 90, 90, 49, 35, 22, 36, 36, 90, 22, 22, 22, 22, 22, 22, 22, 69, 108, 7, 69, 136, 136, 7, 7, 162, 136, 162, 7, 69, 136]\n"
          ],
          "name": "stdout"
        }
      ]
    },
    {
      "cell_type": "code",
      "metadata": {
        "id": "yACe2YhqyQny"
      },
      "source": [
        "# Convert integers back into notes\n",
        "\n",
        "x_int_to_note = dict((number, note_) for number, note_ in enumerate(unique_x)) \n",
        "predicted_notes = [x_int_to_note[i] for i in predictions]"
      ],
      "execution_count": null,
      "outputs": []
    },
    {
      "cell_type": "code",
      "metadata": {
        "id": "I1xYrptxyTvY"
      },
      "source": [
        "# Convert back the predictions into a MIDI file.\n",
        "\n",
        "def convert_to_midi(prediction_output, file_path='music.mid'):\n",
        "   \n",
        "    offset = 0\n",
        "    output_notes = []\n",
        "\n",
        "    # create note and chord objects based on the values generated by the model\n",
        "    for pattern in prediction_output:\n",
        "        \n",
        "        # pattern is a chord\n",
        "        if ('.' in pattern) or pattern.isdigit():\n",
        "            notes_in_chord = pattern.split('.')\n",
        "            notes = []\n",
        "            for current_note in notes_in_chord:\n",
        "                \n",
        "                cn=int(current_note)\n",
        "                new_note = note.Note(cn)\n",
        "                new_note.storedInstrument = instrument.Piano()\n",
        "                notes.append(new_note)\n",
        "                \n",
        "            new_chord = chord.Chord(notes)\n",
        "            new_chord.offset = offset\n",
        "            output_notes.append(new_chord)\n",
        "            \n",
        "        # pattern is a note\n",
        "        else:\n",
        "            \n",
        "            new_note = note.Note(pattern)\n",
        "            new_note.offset = offset\n",
        "            new_note.storedInstrument = instrument.Piano()\n",
        "            output_notes.append(new_note)\n",
        "\n",
        "        # increase offset each iteration so that notes do not stack\n",
        "        offset += 0.25\n",
        "    midi_stream = stream.Stream(output_notes)\n",
        "    midi_stream.write('midi', fp=file_path)"
      ],
      "execution_count": null,
      "outputs": []
    },
    {
      "cell_type": "code",
      "metadata": {
        "id": "DSEMa15-yfjK"
      },
      "source": [
        "convert_to_midi(predicted_notes, file_path=\"music11+10x.mid\")\n",
        "\n",
        "# Just found it! - trying to figure out how to play midi files :("
      ],
      "execution_count": null,
      "outputs": []
    },
    {
      "cell_type": "markdown",
      "metadata": {
        "id": "8CzVoIWM0SR4"
      },
      "source": [
        "***Parameters that can be tuned:***\n",
        "- The input sequence: *32 notes*\n",
        "- Number of songs to add: *10 songs*\n",
        "- Notes to analyze: *Notes that appear at least 50 times across databse*\n",
        "- Input Sequence: *Randomly Generated*\n",
        "- Batch Size: *128*\n",
        "- Epochs: *50*\n",
        "\n",
        "\n",
        "TODO:\n",
        "- Try doing the LSTM-RNN"
      ]
    },
    {
      "cell_type": "code",
      "metadata": {
        "id": "dJ5SI0zN1TbG"
      },
      "source": [
        ""
      ],
      "execution_count": null,
      "outputs": []
    }
  ]
}