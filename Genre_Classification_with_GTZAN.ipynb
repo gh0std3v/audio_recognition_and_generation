{
  "nbformat": 4,
  "nbformat_minor": 0,
  "metadata": {
    "accelerator": "GPU",
    "colab": {
      "name": "Genre Classification with GTZAN.ipynb",
      "provenance": [],
      "collapsed_sections": []
    },
    "kernelspec": {
      "display_name": "Python 3",
      "name": "python3"
    },
    "language_info": {
      "name": "python"
    }
  },
  "cells": [
    {
      "cell_type": "markdown",
      "metadata": {
        "id": "Tq-fMoiGo_57"
      },
      "source": [
        "# Citations: \n",
        "\n",
        "\n",
        "CRNN Model for Genre Classification - Priya Dwivedi: https://github.com/priya-dwivedi/Music_Genre_Classification \n",
        "\n",
        "GTZAN Dataset with sliced audios: https://drive.google.com/drive/folders/1thlHfYV1cjNPCkuFg-e81nalDVyYf4OH?usp=sharing \n",
        "\n",
        "Original GTZAN Dataset: http://marsyas.info/downloads/datasets.html \n"
      ]
    },
    {
      "cell_type": "markdown",
      "metadata": {
        "id": "ySj2jzKOzpfz"
      },
      "source": [
        "# **Load in GTZAN Dataset**"
      ]
    },
    {
      "cell_type": "code",
      "metadata": {
        "colab": {
          "base_uri": "https://localhost:8080/"
        },
        "id": "oBY1rej8-wyX",
        "outputId": "a2aee8e1-0bd6-41b8-8f66-268b422c5efb"
      },
      "source": [
        "from google.colab import drive\n",
        "drive.mount('/content/drive')"
      ],
      "execution_count": 41,
      "outputs": [
        {
          "output_type": "stream",
          "text": [
            "Drive already mounted at /content/drive; to attempt to forcibly remount, call drive.mount(\"/content/drive\", force_remount=True).\n"
          ],
          "name": "stdout"
        }
      ]
    },
    {
      "cell_type": "code",
      "metadata": {
        "id": "UnbJoN7Cz6xb"
      },
      "source": [
        "#audo_dataset = open('drive/MyDrive/Data/genres_original')\n",
        "\n",
        "#audio_dataset.read()\n",
        "import pandas as pd\n",
        "\n",
        "\n",
        "audio_data_3 = pd.DataFrame(pd.read_csv('drive/MyDrive/GTZAN Data/features_3_sec.csv'))\n",
        "\n",
        "audio_data_30 = pd.DataFrame(pd.read_csv('drive/MyDrive/GTZAN Data/features_30_sec.csv'))\n",
        "\n",
        "\n"
      ],
      "execution_count": null,
      "outputs": []
    },
    {
      "cell_type": "code",
      "metadata": {
        "id": "NAVbUi7S_RVD"
      },
      "source": [
        "import os\n",
        "##FOLDER_PATH = 'labelled-dataset'\n",
        "#ROOT_PATH = '/content/drive/MyDrive/'\n",
        "#print(len(os.listdir('drive/MyDrive/GTZAN Data/sliced_audios')))\n"
      ],
      "execution_count": 42,
      "outputs": []
    },
    {
      "cell_type": "markdown",
      "metadata": {
        "id": "lmZv2WYfCSO6"
      },
      "source": [
        "# Split each audio into 10 parts (3 second clips)\n"
      ]
    },
    {
      "cell_type": "code",
      "metadata": {
        "colab": {
          "base_uri": "https://localhost:8080/"
        },
        "id": "9deirUD5EsEe",
        "outputId": "fde7b38a-3c52-4b6a-a40d-b1580f88d4b8"
      },
      "source": [
        "pip install pydub"
      ],
      "execution_count": null,
      "outputs": [
        {
          "output_type": "stream",
          "text": [
            "Collecting pydub\n",
            "  Downloading pydub-0.25.1-py2.py3-none-any.whl (32 kB)\n",
            "Installing collected packages: pydub\n",
            "Successfully installed pydub-0.25.1\n"
          ],
          "name": "stdout"
        }
      ]
    },
    {
      "cell_type": "code",
      "metadata": {
        "colab": {
          "base_uri": "https://localhost:8080/",
          "height": 35
        },
        "id": "siDrMrRj2yVL",
        "outputId": "6959f1ca-2f99-4a36-ff98-14db03bc0e23"
      },
      "source": [
        "a = 'drive/My Drive/GTZAN Data/genres_original/blues.00000.wav'\n",
        "a[42:a.index('.')]"
      ],
      "execution_count": null,
      "outputs": [
        {
          "output_type": "execute_result",
          "data": {
            "application/vnd.google.colaboratory.intrinsic+json": {
              "type": "string"
            },
            "text/plain": [
              "'blues'"
            ]
          },
          "metadata": {
            "tags": []
          },
          "execution_count": 19
        }
      ]
    },
    {
      "cell_type": "code",
      "metadata": {
        "id": "urPLdI-X0jt5"
      },
      "source": [
        "from pydub import AudioSegment\n",
        "def get_wavs():\n",
        "  #new_files = []\n",
        "  for _file in audio_data_30['filename']:\n",
        "    if not _file == 'jazz.00054.wav':\n",
        "      full_file = 'drive/My Drive/GTZAN Data/genres_original/' + _file\n",
        "      genre = _file[:_file.index('.')]\n",
        "      start = 0\n",
        "      end = 3000\n",
        "      for interval in range(10):\n",
        "        audio_segment = AudioSegment.from_wav(full_file)[start:end]\n",
        "        new_path = 'drive/My Drive/GTZAN Data/sliced_audios/'+ _file[:_file.index('w')]+ str(interval) + '.wav'\n",
        "        audio_segment.export(new_path, format=\"wav\")\n",
        "        #new_files.append((new_path, genre))\n",
        "        start += 3000\n",
        "        end+= 3000\n",
        "  #return new_files"
      ],
      "execution_count": null,
      "outputs": []
    },
    {
      "cell_type": "code",
      "metadata": {
        "id": "WqymQZtwRWny"
      },
      "source": [
        "get_wavs()"
      ],
      "execution_count": null,
      "outputs": []
    },
    {
      "cell_type": "code",
      "metadata": {
        "id": "p1Vzqi7B6h9h"
      },
      "source": [
        "import os\n",
        "\n",
        "all_files = os.listdir('drive/MyDrive/GTZAN Data/sliced_audios')"
      ],
      "execution_count": 23,
      "outputs": []
    },
    {
      "cell_type": "code",
      "metadata": {
        "id": "eGDrPPflPzHr"
      },
      "source": [
        "\n",
        "all_files = list(reversed(all_files))\n",
        "all_files\n",
        "\n"
      ],
      "execution_count": null,
      "outputs": []
    },
    {
      "cell_type": "markdown",
      "metadata": {
        "id": "k3bh__5npxCH"
      },
      "source": [
        "#Make a Dictionary mapping sliced audio to its genres"
      ]
    },
    {
      "cell_type": "code",
      "metadata": {
        "id": "DwnTug_juM6t"
      },
      "source": [
        "def get_spectrogram(file):\n",
        "  time_series, sample_rate = librosa.load(file, sr = 44100)\n",
        "  mel_spec = librosa.feature.melspectrogram(time_series, sr = sample_rate)\n",
        "  mel_spec = librosa.core.amplitude_to_db(mel_spec)\n",
        "\n",
        "  return mel_spec"
      ],
      "execution_count": 30,
      "outputs": []
    },
    {
      "cell_type": "code",
      "metadata": {
        "id": "a3qVzakap9tz"
      },
      "source": [
        "file_to_genre = {}\n",
        "for file in all_files:\n",
        "  file_to_genre[file] = file[:file.index('.')]\n",
        "\n"
      ],
      "execution_count": 25,
      "outputs": []
    },
    {
      "cell_type": "markdown",
      "metadata": {
        "id": "1XxGiW_9qQ6y"
      },
      "source": [
        "#Make a Dictionary mapping genre to a one hot encoding of their label"
      ]
    },
    {
      "cell_type": "code",
      "metadata": {
        "id": "v4ypyPnEs-YW"
      },
      "source": [
        "import numpy as np\n",
        "def one_hot_encode(label, num_classes = 10):\n",
        "  hot = np.zeros(num_classes)\n",
        "  hot[label] = 1\n",
        "  return hot\n",
        "\n"
      ],
      "execution_count": 26,
      "outputs": []
    },
    {
      "cell_type": "code",
      "metadata": {
        "id": "4Dj5HZLbqouH",
        "colab": {
          "base_uri": "https://localhost:8080/"
        },
        "outputId": "30e5661d-4299-4e33-dc1d-cc14eacdca3c"
      },
      "source": [
        "# First, correspong each genre to an integer to be one hot encoded\n",
        "genre_to_id = {'blues': 0, 'classical': 1, 'country': 2, \n",
        "               'disco': 3, 'hiphop': 4, 'jazz': 5,\n",
        "               'metal': 6, 'pop': 7, 'reggae': 8, \n",
        "               'rock':9}\n",
        "genre_to_hot = {}\n",
        "for genre in file_to_genre.values():\n",
        "  genre_to_hot[genre] = one_hot_encode(genre_to_id[genre])\n",
        "\n",
        "genre_to_hot\n"
      ],
      "execution_count": 27,
      "outputs": [
        {
          "output_type": "execute_result",
          "data": {
            "text/plain": [
              "{'blues': array([1., 0., 0., 0., 0., 0., 0., 0., 0., 0.]),\n",
              " 'classical': array([0., 1., 0., 0., 0., 0., 0., 0., 0., 0.]),\n",
              " 'country': array([0., 0., 1., 0., 0., 0., 0., 0., 0., 0.]),\n",
              " 'disco': array([0., 0., 0., 1., 0., 0., 0., 0., 0., 0.]),\n",
              " 'hiphop': array([0., 0., 0., 0., 1., 0., 0., 0., 0., 0.]),\n",
              " 'jazz': array([0., 0., 0., 0., 0., 1., 0., 0., 0., 0.]),\n",
              " 'metal': array([0., 0., 0., 0., 0., 0., 1., 0., 0., 0.]),\n",
              " 'pop': array([0., 0., 0., 0., 0., 0., 0., 1., 0., 0.]),\n",
              " 'reggae': array([0., 0., 0., 0., 0., 0., 0., 0., 1., 0.]),\n",
              " 'rock': array([0., 0., 0., 0., 0., 0., 0., 0., 0., 1.])}"
            ]
          },
          "metadata": {
            "tags": []
          },
          "execution_count": 27
        }
      ]
    },
    {
      "cell_type": "markdown",
      "metadata": {
        "id": "6NTyzu3F4LgD"
      },
      "source": [
        "#Make Mel Spectrograms"
      ]
    },
    {
      "cell_type": "code",
      "metadata": {
        "id": "xDwoTYlU5Rvs"
      },
      "source": [
        "import librosa"
      ],
      "execution_count": 28,
      "outputs": []
    },
    {
      "cell_type": "markdown",
      "metadata": {
        "id": "uvWVk5Jtr6AA"
      },
      "source": [
        "# Make a list of all spectrograms"
      ]
    },
    {
      "cell_type": "code",
      "metadata": {
        "id": "Ten6uSP_tEVl"
      },
      "source": [
        "from IPython.display import Audio\n",
        "\n",
        "Audio('drive/MyDrive/Data/'+file)"
      ],
      "execution_count": null,
      "outputs": []
    },
    {
      "cell_type": "code",
      "metadata": {
        "id": "JF--OihBUlTk"
      },
      "source": [
        "audio_specs = []\n",
        "for file in all_files:\n",
        "\n",
        "  audio_specs.append(get_spectrogram('drive/MyDrive/GTZAN Data/sliced_audios/'+file))\n"
      ],
      "execution_count": 46,
      "outputs": []
    },
    {
      "cell_type": "code",
      "metadata": {
        "colab": {
          "base_uri": "https://localhost:8080/"
        },
        "id": "g60wQqGJbIGc",
        "outputId": "5e4eb758-81f5-4b4e-9a63-8cdb28fed886"
      },
      "source": [
        "len(audio_specs)"
      ],
      "execution_count": 61,
      "outputs": [
        {
          "output_type": "execute_result",
          "data": {
            "text/plain": [
              "9990"
            ]
          },
          "metadata": {
            "tags": []
          },
          "execution_count": 61
        }
      ]
    },
    {
      "cell_type": "markdown",
      "metadata": {
        "id": "VojB119JsDH5"
      },
      "source": [
        "#Cleaning up Spectrogram Data"
      ]
    },
    {
      "cell_type": "code",
      "metadata": {
        "colab": {
          "base_uri": "https://localhost:8080/"
        },
        "id": "nwgjBAQoUAbB",
        "outputId": "d278da15-fecf-431c-fd91-fb5248047a63"
      },
      "source": [
        "\n",
        "from statistics import mode\n",
        "col_shapes = [spec.shape[1] for spec in audio_specs]\n",
        "\n",
        "#print(col_shapes.count(2586) )\n",
        "#print(col_shapes.count(2585))\n",
        "print(len([shape for shape in col_shapes if shape > 259]))\n",
        "print(len([shape for shape in col_shapes if shape < 259]))\n",
        "print(mode(col_shapes))\n",
        "print(min(col_shapes))"
      ],
      "execution_count": 60,
      "outputs": [
        {
          "output_type": "stream",
          "text": [
            "0\n",
            "4\n",
            "259\n",
            "253\n"
          ],
          "name": "stdout"
        }
      ]
    },
    {
      "cell_type": "code",
      "metadata": {
        "colab": {
          "base_uri": "https://localhost:8080/"
        },
        "id": "xsjSBIrNw1At",
        "outputId": "2f698570-6391-4a0f-9ad9-c088a3de2ec8"
      },
      "source": [
        "save_specs = audio_specs[:]\n",
        "len(save_specs)"
      ],
      "execution_count": 63,
      "outputs": [
        {
          "output_type": "execute_result",
          "data": {
            "text/plain": [
              "9990"
            ]
          },
          "metadata": {
            "tags": []
          },
          "execution_count": 63
        }
      ]
    },
    {
      "cell_type": "code",
      "metadata": {
        "id": "OzHCINaMflJQ",
        "colab": {
          "base_uri": "https://localhost:8080/"
        },
        "outputId": "91d1827c-311c-4db9-9170-edfe46859ed7"
      },
      "source": [
        "#remove = []\n",
        "print(len(save_specs))\n",
        "for i in range(len(save_specs)):\n",
        "  if save_specs[i].shape[1] > 253:\n",
        "      idxs = np.arange(253, save_specs[i].shape[1])\n",
        "      save_specs[i] = np.delete(save_specs[i], [idxs], axis=1)\n",
        "#for spec in audio_specs:\n",
        "\n",
        "print(len(save_specs))\n",
        "\n",
        "\n",
        "\n",
        "\n"
      ],
      "execution_count": 64,
      "outputs": [
        {
          "output_type": "stream",
          "text": [
            "9990\n",
            "9990\n"
          ],
          "name": "stdout"
        }
      ]
    },
    {
      "cell_type": "markdown",
      "metadata": {
        "id": "RRH_-CqFsKro"
      },
      "source": [
        "#Save spectrograms to an NPY file"
      ]
    },
    {
      "cell_type": "code",
      "metadata": {
        "id": "WbpR0O9dkolJ"
      },
      "source": [
        "from numpy import asarray\n",
        "from numpy import save\n",
        "\n",
        "audio_specs= asarray(audio_specs)\n",
        "save('audio_specs.npy',audio_specs)"
      ],
      "execution_count": 35,
      "outputs": []
    },
    {
      "cell_type": "code",
      "metadata": {
        "id": "IZOoe5PuwJEs"
      },
      "source": [
        "import numpy as np\n",
        "audio_specs = np.load('drive/My Drive/audio_specs.npy')"
      ],
      "execution_count": 36,
      "outputs": []
    },
    {
      "cell_type": "code",
      "metadata": {
        "colab": {
          "base_uri": "https://localhost:8080/"
        },
        "id": "SmFFE44ukfTf",
        "outputId": "de56d98c-f4dd-40ec-cd75-10fc14aa0bd0"
      },
      "source": [
        "len(audio_specs)"
      ],
      "execution_count": 37,
      "outputs": [
        {
          "output_type": "execute_result",
          "data": {
            "text/plain": [
              "999"
            ]
          },
          "metadata": {
            "tags": []
          },
          "execution_count": 37
        }
      ]
    },
    {
      "cell_type": "markdown",
      "metadata": {
        "id": "FSOs1IM7V272"
      },
      "source": [
        "Make Training and Validation Sets"
      ]
    },
    {
      "cell_type": "code",
      "metadata": {
        "colab": {
          "base_uri": "https://localhost:8080/"
        },
        "id": "pCY4yFY8dtz-",
        "outputId": "9e7b2df7-bd87-4842-cb60-e612b2f9bf55"
      },
      "source": [
        "#all_labels = genre_to_hot.values()\n",
        "#all_labels[:50]\n",
        "all_labels = []\n",
        "for genre in file_to_genre.values():\n",
        "  all_labels.append(genre_to_hot[genre])\n",
        "\n",
        "len(all_labels)"
      ],
      "execution_count": 65,
      "outputs": [
        {
          "output_type": "execute_result",
          "data": {
            "text/plain": [
              "9990"
            ]
          },
          "metadata": {
            "tags": []
          },
          "execution_count": 65
        }
      ]
    },
    {
      "cell_type": "code",
      "metadata": {
        "id": "YYugZ9ZjV6lF",
        "colab": {
          "base_uri": "https://localhost:8080/"
        },
        "outputId": "da03f987-de24-41be-a99e-a73601393615"
      },
      "source": [
        "# Read in all values and shuffle\n",
        "import numpy as np\n",
        "cutoff = 0.8\n",
        "inputs = np.array(save_specs) \n",
        "idxs = np.arange(len(save_specs))\n",
        "np.random.shuffle(idxs)\n",
        "print(idxs[0])\n",
        "train_set = inputs[idxs][:int(len(save_specs) * cutoff)]\n",
        "train_labels = np.array(all_labels)[idxs][:int(len(save_specs) * cutoff)]\n",
        "test_set = inputs[idxs][int(len(save_specs) * cutoff):]\n",
        "test_labels = np.array(all_labels)[idxs][int(len(save_specs) * cutoff):]\n",
        "print(train_set[0])\n",
        "\n",
        "#799\n",
        "\n"
      ],
      "execution_count": 66,
      "outputs": [
        {
          "output_type": "stream",
          "text": [
            "4773\n",
            "[[ -7.4717293  -13.557655   -13.557655   ...  54.319572    54.064888\n",
            "   53.77398   ]\n",
            " [ -0.9428033  -11.908184   -13.557655   ...  60.314774    60.027763\n",
            "   59.709053  ]\n",
            " [  0.48797962 -10.506069   -13.557655   ...  38.67866     39.156124\n",
            "   39.109356  ]\n",
            " ...\n",
            " [-13.557655   -13.557655   -13.557655   ... -13.557655   -13.557655\n",
            "  -13.557655  ]\n",
            " [-13.557655   -13.557655   -13.557655   ... -13.557655   -13.557655\n",
            "  -13.557655  ]\n",
            " [-13.557655   -13.557655   -13.557655   ... -13.557655   -13.557655\n",
            "  -13.557655  ]]\n"
          ],
          "name": "stdout"
        }
      ]
    },
    {
      "cell_type": "code",
      "metadata": {
        "colab": {
          "base_uri": "https://localhost:8080/"
        },
        "id": "jVGBklawnEth",
        "outputId": "a62f5e27-db00-45a0-95bc-e5966bc68150"
      },
      "source": [
        "inputs[4773]"
      ],
      "execution_count": 67,
      "outputs": [
        {
          "output_type": "execute_result",
          "data": {
            "text/plain": [
              "array([[ -7.4717293 , -13.557655  , -13.557655  , ...,  54.319572  ,\n",
              "         54.064888  ,  53.77398   ],\n",
              "       [ -0.9428033 , -11.908184  , -13.557655  , ...,  60.314774  ,\n",
              "         60.027763  ,  59.709053  ],\n",
              "       [  0.48797962, -10.506069  , -13.557655  , ...,  38.67866   ,\n",
              "         39.156124  ,  39.109356  ],\n",
              "       ...,\n",
              "       [-13.557655  , -13.557655  , -13.557655  , ..., -13.557655  ,\n",
              "        -13.557655  , -13.557655  ],\n",
              "       [-13.557655  , -13.557655  , -13.557655  , ..., -13.557655  ,\n",
              "        -13.557655  , -13.557655  ],\n",
              "       [-13.557655  , -13.557655  , -13.557655  , ..., -13.557655  ,\n",
              "        -13.557655  , -13.557655  ]], dtype=float32)"
            ]
          },
          "metadata": {
            "tags": []
          },
          "execution_count": 67
        }
      ]
    },
    {
      "cell_type": "code",
      "metadata": {
        "colab": {
          "base_uri": "https://localhost:8080/"
        },
        "id": "q0rr3QEzfyUs",
        "outputId": "65e04c11-e32b-4669-cd3b-c70a7d4f5bb0"
      },
      "source": [
        "print(train_labels)"
      ],
      "execution_count": 68,
      "outputs": [
        {
          "output_type": "stream",
          "text": [
            "[[0. 0. 0. ... 0. 0. 0.]\n",
            " [0. 0. 0. ... 0. 0. 0.]\n",
            " [1. 0. 0. ... 0. 0. 0.]\n",
            " ...\n",
            " [0. 0. 0. ... 0. 0. 0.]\n",
            " [0. 1. 0. ... 0. 0. 0.]\n",
            " [0. 0. 0. ... 0. 1. 0.]]\n"
          ],
          "name": "stdout"
        }
      ]
    },
    {
      "cell_type": "code",
      "metadata": {
        "colab": {
          "base_uri": "https://localhost:8080/"
        },
        "id": "-vsOcWmKnGII",
        "outputId": "c36f58a8-472e-42ae-a701-3ca979c8915e"
      },
      "source": [
        "pip install keras-utils"
      ],
      "execution_count": null,
      "outputs": [
        {
          "output_type": "stream",
          "text": [
            "Collecting keras-utils\n",
            "  Downloading keras-utils-1.0.13.tar.gz (2.4 kB)\n",
            "Requirement already satisfied: Keras>=2.1.5 in /usr/local/lib/python3.7/dist-packages (from keras-utils) (2.4.3)\n",
            "Requirement already satisfied: scipy>=0.14 in /usr/local/lib/python3.7/dist-packages (from Keras>=2.1.5->keras-utils) (1.4.1)\n",
            "Requirement already satisfied: pyyaml in /usr/local/lib/python3.7/dist-packages (from Keras>=2.1.5->keras-utils) (3.13)\n",
            "Requirement already satisfied: numpy>=1.9.1 in /usr/local/lib/python3.7/dist-packages (from Keras>=2.1.5->keras-utils) (1.19.5)\n",
            "Requirement already satisfied: h5py in /usr/local/lib/python3.7/dist-packages (from Keras>=2.1.5->keras-utils) (3.1.0)\n",
            "Requirement already satisfied: cached-property in /usr/local/lib/python3.7/dist-packages (from h5py->Keras>=2.1.5->keras-utils) (1.5.2)\n",
            "Building wheels for collected packages: keras-utils\n",
            "  Building wheel for keras-utils (setup.py) ... \u001b[?25l\u001b[?25hdone\n",
            "  Created wheel for keras-utils: filename=keras_utils-1.0.13-py3-none-any.whl size=2657 sha256=34f284b89f8c3aeebf8ed7e56937cf563181c6da1d04ebdd615da3152e7b0587\n",
            "  Stored in directory: /root/.cache/pip/wheels/d0/dd/3b/493952a5240d486a83805d65360dedadbadeae71d25e2c877f\n",
            "Successfully built keras-utils\n",
            "Installing collected packages: keras-utils\n",
            "Successfully installed keras-utils-1.0.13\n"
          ],
          "name": "stdout"
        }
      ]
    },
    {
      "cell_type": "code",
      "metadata": {
        "id": "UqVng5rTWM_w"
      },
      "source": [
        "def one_hot_encode(label, num_classes):\n",
        "  hot = np.zeros(num_classes)\n",
        "  hot[label] = 1\n",
        "  return hot"
      ],
      "execution_count": null,
      "outputs": []
    },
    {
      "cell_type": "code",
      "metadata": {
        "id": "CG-oVK_xkpUp"
      },
      "source": [
        "\n",
        "genre_to_id = {'blues': [1,0,0,0,0,0,0,0,0,0], 'classical': [0,1,0,0,0,0,0,0,0,0], 'country': [0,0,1,0,0,0,0,0,0,0], \n",
        "               'disco': [0,0,0,1,0,0,0,0,0,0], 'hiphop': [0,0,0,0,1,0,0,0,0,0], 'jazz': [0,0,0,0,0,1,0,0,0,0],\n",
        "               'metal': [0,0,0,0,0,0,1,0,0,0], 'pop': [0,0,0,0,0,0,0,1,0,0], 'reggae': [0,0,0,0,0,0,0,0,1,0], \n",
        "               'rock': [0,0,0,0,0,0,0,0,0,1]}\n",
        "\n",
        "train_labels = list(train_labels)\n",
        "for i in range(len(train_labels)):\n",
        "  \n",
        "  train_labels[i] = genre_to_id[train_labels[i]]\n",
        "  \n",
        "\n",
        "\n",
        "test_labels = list(test_labels)\n",
        "for i in range(len(test_labels)):\n",
        "  test_labels[i] = genre_to_id[test_labels[i]]\n",
        "\n"
      ],
      "execution_count": null,
      "outputs": []
    },
    {
      "cell_type": "code",
      "metadata": {
        "id": "9pzljE7N46n8"
      },
      "source": [
        "test_labels = np.array(test_labels)\n",
        "train_labels = np.array(train_labels)"
      ],
      "execution_count": null,
      "outputs": []
    },
    {
      "cell_type": "code",
      "metadata": {
        "id": "nvM0azp4XTnH"
      },
      "source": [
        "\n",
        "import tensorflow as tf"
      ],
      "execution_count": null,
      "outputs": []
    },
    {
      "cell_type": "markdown",
      "metadata": {
        "id": "TFCX3a5R0FNL"
      },
      "source": [
        "**CRNN Model**"
      ]
    },
    {
      "cell_type": "code",
      "metadata": {
        "id": "Tuzf4tw20KUN"
      },
      "source": [
        "N_LAYERS = 3\n",
        "FILTER_LENGTH = 5\n",
        "CONV_FILTER_COUNT = 56\n",
        "batch_size = 50\n",
        "LSTM_COUNT = 96\n",
        "EPOCH_COUNT = 100\n",
        "NUM_HIDDEN = 64\n",
        "L2_regularization = 0.003\n",
        "\n",
        "def conv_recurrent_model_build(model_input, num_classes = 10, n_layers = 3, filter_size = 5, num_filters = 56,lstm_cnt = 96, num_hidden = 64, l2_reg = 0.001):\n",
        "    print('Building model...')\n",
        "    layer = model_input\n",
        "    \n",
        "    ### 3 1D Convolution Layers\n",
        "    for i in range(n_layers):\n",
        "        # give name to the layers\n",
        "        layer = Conv1D(\n",
        "                filters=num_filters,\n",
        "                kernel_size=filter_size,\n",
        "                kernel_regularizer=regularizers.l2(l2_reg),  \n",
        "                name='convolution_' + str(i + 1)\n",
        "            )(layer)\n",
        "        layer = BatchNormalization(momentum=0.9)(layer)\n",
        "        layer = Activation('relu')(layer)\n",
        "        layer = MaxPooling1D(2)(layer)\n",
        "        layer = Dropout(0.5)(layer)\n",
        "    \n",
        "    ## LSTM Layer\n",
        "    layer = LSTM(lstm_cnt, activation=\"relu\", return_sequences=False)(layer)\n",
        "    layer = Dropout(0.5)(layer)\n",
        "    \n",
        "    ## Dense Layer\n",
        "    layer = Dense(num_hidden, kernel_regularizer=regularizers.l2(l2_reg), name='dense1')(layer)\n",
        "    layer = Dropout(0.5)(layer)\n",
        "    \n",
        "    ## Softmax Output\n",
        "    layer = Dense(num_classes)(layer)\n",
        "    layer = Activation('softmax', name='output_realtime')(layer)\n",
        "    model_output = layer\n",
        "    model = Model(model_input, model_output)\n",
        "    \n",
        "    \n",
        "    opt = SGD(learning_rate=0.01)\n",
        "    model.compile(\n",
        "            loss='categorical_crossentropy',\n",
        "            optimizer=opt,\n",
        "            metrics=['accuracy']\n",
        "        )\n",
        "    \n",
        "    #print(model.summary())\n",
        "    return model"
      ],
      "execution_count": 75,
      "outputs": []
    },
    {
      "cell_type": "code",
      "metadata": {
        "id": "bnuZPiCFPncu"
      },
      "source": [
        "def train_model(x_train, y_train, x_val, y_val):\n",
        "    \n",
        "    n_features = x_train.shape[2]\n",
        "    input_shape = (None, n_features)\n",
        "    model_input = Input(input_shape, name='input')\n",
        "    \n",
        "    model = conv_recurrent_model_build(model_input)\n",
        "\n",
        "    checkpoint = ModelCheckpoint('best_params.hd5', monitor='val_accuracy', verbose=1,\n",
        "                                          save_best_only=True, mode='max')\n",
        "    \n",
        "    reducelr = ReduceLROnPlateau(\n",
        "                monitor='val_accuracy', factor=0.5, patience=10, min_delta=0.01,\n",
        "                verbose=1\n",
        "            )\n",
        "    callbacks = [checkpoint, reducelr]\n",
        "\n",
        "    # Fit the model and get training history\n",
        "    \n",
        "    history = model.fit(x_train, y_train, batch_size=32, epochs=EPOCH_COUNT,\n",
        "                        validation_data=(x_val, y_val), verbose=1, callbacks=callbacks)\n",
        "\n",
        "    return model, history"
      ],
      "execution_count": 76,
      "outputs": []
    },
    {
      "cell_type": "code",
      "metadata": {
        "id": "C7aCVObaPs1b"
      },
      "source": [
        "def show_summary_stats(history):\n",
        "    # List all data in history\n",
        "    print(history.history.keys())\n",
        "\n",
        "    # Summarize history for accuracy\n",
        "    plt.plot(history.history['accuracy'])\n",
        "    plt.plot(history.history['val_accuracy'])\n",
        "    plt.title('model accuracy')\n",
        "    plt.ylabel('accuracy')\n",
        "    plt.xlabel('epoch')\n",
        "    plt.legend(['train', 'test'], loc='upper left')\n",
        "    plt.show()\n",
        "\n",
        "    # Summarize history for loss\n",
        "    plt.plot(history.history['loss'])\n",
        "    plt.plot(history.history['val_loss'])\n",
        "    plt.title('model loss')\n",
        "    plt.ylabel('loss')\n",
        "    plt.xlabel('epoch')\n",
        "    plt.legend(['train', 'test'], loc='upper left')\n",
        "    plt.show()"
      ],
      "execution_count": 71,
      "outputs": []
    },
    {
      "cell_type": "code",
      "metadata": {
        "id": "9z-6m5lKgq6L"
      },
      "source": [
        "import numpy as np\n",
        "import os\n",
        "from os.path import isfile\n",
        "import keras\n",
        "from keras.models import Sequential, Model\n",
        "from keras.layers import Input, Dense, TimeDistributed, LSTM, Dropout, Activation\n",
        "from keras.layers import Conv1D, MaxPooling1D, Flatten, Conv2D, BatchNormalization, Lambda\n",
        "from keras.layers.advanced_activations import ELU\n",
        "from keras.callbacks import ModelCheckpoint, TensorBoard, ReduceLROnPlateau\n",
        "from keras import backend\n",
        "from keras.utils import np_utils\n",
        "from keras.optimizers import RMSprop, SGD\n",
        "\n",
        "from keras import regularizers\n",
        "\n",
        "import librosa.display\n",
        "import matplotlib.pyplot as plt\n",
        "%matplotlib inline"
      ],
      "execution_count": 72,
      "outputs": []
    },
    {
      "cell_type": "code",
      "metadata": {
        "colab": {
          "base_uri": "https://localhost:8080/"
        },
        "id": "UJw5l1l4gY2H",
        "outputId": "44bfc7bd-8e82-45ce-9678-d0ad8488ab09"
      },
      "source": [
        "\n",
        "model, history  = train_model(train_set, train_labels, test_set, test_labels)"
      ],
      "execution_count": 77,
      "outputs": [
        {
          "output_type": "stream",
          "text": [
            "Building model...\n",
            "Epoch 1/100\n",
            "250/250 [==============================] - 52s 185ms/step - loss: 2.6522 - accuracy: 0.1327 - val_loss: 2.4322 - val_accuracy: 0.2297\n",
            "\n",
            "Epoch 00001: val_accuracy improved from -inf to 0.22973, saving model to best_params.hd5\n",
            "INFO:tensorflow:Assets written to: best_params.hd5/assets\n",
            "Epoch 2/100\n",
            "250/250 [==============================] - 55s 221ms/step - loss: 2.4314 - accuracy: 0.1911 - val_loss: 2.4084 - val_accuracy: 0.2207\n",
            "\n",
            "Epoch 00002: val_accuracy did not improve from 0.22973\n",
            "Epoch 3/100\n",
            "250/250 [==============================] - 52s 208ms/step - loss: 2.3692 - accuracy: 0.2069 - val_loss: 2.3661 - val_accuracy: 0.2227\n",
            "\n",
            "Epoch 00003: val_accuracy did not improve from 0.22973\n",
            "Epoch 4/100\n",
            "250/250 [==============================] - 52s 210ms/step - loss: 2.3353 - accuracy: 0.2367 - val_loss: 2.2995 - val_accuracy: 0.2437\n",
            "\n",
            "Epoch 00004: val_accuracy improved from 0.22973 to 0.24374, saving model to best_params.hd5\n",
            "INFO:tensorflow:Assets written to: best_params.hd5/assets\n",
            "Epoch 5/100\n",
            "250/250 [==============================] - 55s 219ms/step - loss: 2.3109 - accuracy: 0.2279 - val_loss: 2.2888 - val_accuracy: 0.2382\n",
            "\n",
            "Epoch 00005: val_accuracy did not improve from 0.24374\n",
            "Epoch 6/100\n",
            "250/250 [==============================] - 52s 207ms/step - loss: 2.2875 - accuracy: 0.2402 - val_loss: 2.2914 - val_accuracy: 0.2302\n",
            "\n",
            "Epoch 00006: val_accuracy did not improve from 0.24374\n",
            "Epoch 7/100\n",
            "250/250 [==============================] - 44s 175ms/step - loss: 2.2628 - accuracy: 0.2578 - val_loss: 2.2533 - val_accuracy: 0.2382\n",
            "\n",
            "Epoch 00007: val_accuracy did not improve from 0.24374\n",
            "Epoch 8/100\n",
            "250/250 [==============================] - 39s 155ms/step - loss: 2.2442 - accuracy: 0.2663 - val_loss: 2.2801 - val_accuracy: 0.2117\n",
            "\n",
            "Epoch 00008: val_accuracy did not improve from 0.24374\n",
            "Epoch 9/100\n",
            "250/250 [==============================] - 45s 180ms/step - loss: 2.2232 - accuracy: 0.2648 - val_loss: 2.2211 - val_accuracy: 0.2558\n",
            "\n",
            "Epoch 00009: val_accuracy improved from 0.24374 to 0.25576, saving model to best_params.hd5\n",
            "INFO:tensorflow:Assets written to: best_params.hd5/assets\n",
            "Epoch 10/100\n",
            "250/250 [==============================] - 50s 202ms/step - loss: 2.2167 - accuracy: 0.2622 - val_loss: 2.2475 - val_accuracy: 0.2282\n",
            "\n",
            "Epoch 00010: val_accuracy did not improve from 0.25576\n",
            "Epoch 11/100\n",
            "250/250 [==============================] - 46s 182ms/step - loss: 2.1984 - accuracy: 0.2817 - val_loss: 2.2283 - val_accuracy: 0.2317\n",
            "\n",
            "Epoch 00011: val_accuracy did not improve from 0.25576\n",
            "Epoch 12/100\n",
            "250/250 [==============================] - 54s 214ms/step - loss: 2.1607 - accuracy: 0.2962 - val_loss: 2.1797 - val_accuracy: 0.2568\n",
            "\n",
            "Epoch 00012: val_accuracy improved from 0.25576 to 0.25676, saving model to best_params.hd5\n",
            "INFO:tensorflow:Assets written to: best_params.hd5/assets\n",
            "Epoch 13/100\n",
            "250/250 [==============================] - 40s 159ms/step - loss: 2.1615 - accuracy: 0.2932 - val_loss: 2.1224 - val_accuracy: 0.2928\n",
            "\n",
            "Epoch 00013: val_accuracy improved from 0.25676 to 0.29279, saving model to best_params.hd5\n",
            "INFO:tensorflow:Assets written to: best_params.hd5/assets\n",
            "Epoch 14/100\n",
            "250/250 [==============================] - 34s 137ms/step - loss: 2.1371 - accuracy: 0.3036 - val_loss: 2.1500 - val_accuracy: 0.2713\n",
            "\n",
            "Epoch 00014: val_accuracy did not improve from 0.29279\n",
            "Epoch 15/100\n",
            "250/250 [==============================] - 32s 128ms/step - loss: 2.1203 - accuracy: 0.3113 - val_loss: 2.1922 - val_accuracy: 0.2352\n",
            "\n",
            "Epoch 00015: val_accuracy did not improve from 0.29279\n",
            "Epoch 16/100\n",
            "250/250 [==============================] - 34s 134ms/step - loss: 2.1214 - accuracy: 0.3122 - val_loss: 2.0909 - val_accuracy: 0.3003\n",
            "\n",
            "Epoch 00016: val_accuracy improved from 0.29279 to 0.30030, saving model to best_params.hd5\n",
            "INFO:tensorflow:Assets written to: best_params.hd5/assets\n",
            "Epoch 17/100\n",
            "250/250 [==============================] - 32s 129ms/step - loss: 2.0977 - accuracy: 0.3208 - val_loss: 2.0586 - val_accuracy: 0.3208\n",
            "\n",
            "Epoch 00017: val_accuracy improved from 0.30030 to 0.32082, saving model to best_params.hd5\n",
            "INFO:tensorflow:Assets written to: best_params.hd5/assets\n",
            "Epoch 18/100\n",
            "250/250 [==============================] - 36s 144ms/step - loss: 2.0692 - accuracy: 0.3286 - val_loss: 2.0750 - val_accuracy: 0.3148\n",
            "\n",
            "Epoch 00018: val_accuracy did not improve from 0.32082\n",
            "Epoch 19/100\n",
            "250/250 [==============================] - 34s 137ms/step - loss: 2.0851 - accuracy: 0.3172 - val_loss: 2.0250 - val_accuracy: 0.3333\n",
            "\n",
            "Epoch 00019: val_accuracy improved from 0.32082 to 0.33333, saving model to best_params.hd5\n",
            "INFO:tensorflow:Assets written to: best_params.hd5/assets\n",
            "Epoch 20/100\n",
            "250/250 [==============================] - 35s 138ms/step - loss: 2.0437 - accuracy: 0.3256 - val_loss: 2.0871 - val_accuracy: 0.2888\n",
            "\n",
            "Epoch 00020: val_accuracy did not improve from 0.33333\n",
            "Epoch 21/100\n",
            "250/250 [==============================] - 32s 129ms/step - loss: 2.0377 - accuracy: 0.3434 - val_loss: 1.9872 - val_accuracy: 0.3378\n",
            "\n",
            "Epoch 00021: val_accuracy improved from 0.33333 to 0.33784, saving model to best_params.hd5\n",
            "INFO:tensorflow:Assets written to: best_params.hd5/assets\n",
            "Epoch 22/100\n",
            "250/250 [==============================] - 33s 132ms/step - loss: 1.9983 - accuracy: 0.3440 - val_loss: 1.9783 - val_accuracy: 0.3408\n",
            "\n",
            "Epoch 00022: val_accuracy improved from 0.33784 to 0.34084, saving model to best_params.hd5\n",
            "INFO:tensorflow:Assets written to: best_params.hd5/assets\n",
            "Epoch 23/100\n",
            "250/250 [==============================] - 37s 146ms/step - loss: 2.0233 - accuracy: 0.3442 - val_loss: 1.9597 - val_accuracy: 0.3534\n",
            "\n",
            "Epoch 00023: val_accuracy improved from 0.34084 to 0.35335, saving model to best_params.hd5\n",
            "INFO:tensorflow:Assets written to: best_params.hd5/assets\n",
            "Epoch 24/100\n",
            "250/250 [==============================] - 38s 153ms/step - loss: 1.9980 - accuracy: 0.3519 - val_loss: 1.9611 - val_accuracy: 0.3514\n",
            "\n",
            "Epoch 00024: val_accuracy did not improve from 0.35335\n",
            "Epoch 25/100\n",
            "250/250 [==============================] - 40s 160ms/step - loss: 1.9963 - accuracy: 0.3425 - val_loss: 2.0133 - val_accuracy: 0.3153\n",
            "\n",
            "Epoch 00025: val_accuracy did not improve from 0.35335\n",
            "Epoch 26/100\n",
            "250/250 [==============================] - 38s 152ms/step - loss: 1.9751 - accuracy: 0.3650 - val_loss: 2.1374 - val_accuracy: 0.2538\n",
            "\n",
            "Epoch 00026: val_accuracy did not improve from 0.35335\n",
            "Epoch 27/100\n",
            "250/250 [==============================] - 37s 149ms/step - loss: 1.9526 - accuracy: 0.3647 - val_loss: 2.1043 - val_accuracy: 0.2678\n",
            "\n",
            "Epoch 00027: val_accuracy did not improve from 0.35335\n",
            "Epoch 28/100\n",
            "250/250 [==============================] - 37s 148ms/step - loss: 1.9400 - accuracy: 0.3705 - val_loss: 1.9755 - val_accuracy: 0.3188\n",
            "\n",
            "Epoch 00028: val_accuracy did not improve from 0.35335\n",
            "Epoch 29/100\n",
            "250/250 [==============================] - 37s 149ms/step - loss: 1.9386 - accuracy: 0.3813 - val_loss: 1.9381 - val_accuracy: 0.3519\n",
            "\n",
            "Epoch 00029: val_accuracy did not improve from 0.35335\n",
            "Epoch 30/100\n",
            "250/250 [==============================] - 36s 144ms/step - loss: 1.9383 - accuracy: 0.3749 - val_loss: 2.3056 - val_accuracy: 0.2322\n",
            "\n",
            "Epoch 00030: val_accuracy did not improve from 0.35335\n",
            "Epoch 31/100\n",
            "250/250 [==============================] - 38s 151ms/step - loss: 1.9061 - accuracy: 0.3748 - val_loss: 2.0011 - val_accuracy: 0.3158\n",
            "\n",
            "Epoch 00031: val_accuracy did not improve from 0.35335\n",
            "Epoch 32/100\n",
            "250/250 [==============================] - 40s 162ms/step - loss: 1.8925 - accuracy: 0.3834 - val_loss: 1.9717 - val_accuracy: 0.3273\n",
            "\n",
            "Epoch 00032: val_accuracy did not improve from 0.35335\n",
            "Epoch 33/100\n",
            "250/250 [==============================] - 38s 150ms/step - loss: 1.9043 - accuracy: 0.3836 - val_loss: 1.8177 - val_accuracy: 0.4029\n",
            "\n",
            "Epoch 00033: val_accuracy improved from 0.35335 to 0.40290, saving model to best_params.hd5\n",
            "INFO:tensorflow:Assets written to: best_params.hd5/assets\n",
            "Epoch 34/100\n",
            "250/250 [==============================] - 42s 167ms/step - loss: 1.8847 - accuracy: 0.3805 - val_loss: 1.9123 - val_accuracy: 0.3468\n",
            "\n",
            "Epoch 00034: val_accuracy did not improve from 0.40290\n",
            "Epoch 35/100\n",
            "250/250 [==============================] - 44s 176ms/step - loss: 1.8710 - accuracy: 0.3843 - val_loss: 1.8657 - val_accuracy: 0.3654\n",
            "\n",
            "Epoch 00035: val_accuracy did not improve from 0.40290\n",
            "Epoch 36/100\n",
            "250/250 [==============================] - 43s 172ms/step - loss: 1.8773 - accuracy: 0.3816 - val_loss: 1.8531 - val_accuracy: 0.3704\n",
            "\n",
            "Epoch 00036: val_accuracy did not improve from 0.40290\n",
            "Epoch 37/100\n",
            "250/250 [==============================] - 45s 180ms/step - loss: 1.8425 - accuracy: 0.3969 - val_loss: 2.1725 - val_accuracy: 0.2638\n",
            "\n",
            "Epoch 00037: val_accuracy did not improve from 0.40290\n",
            "Epoch 38/100\n",
            "250/250 [==============================] - 43s 173ms/step - loss: 1.8505 - accuracy: 0.4007 - val_loss: 1.8715 - val_accuracy: 0.3704\n",
            "\n",
            "Epoch 00038: val_accuracy did not improve from 0.40290\n",
            "Epoch 39/100\n",
            "250/250 [==============================] - 34s 136ms/step - loss: 1.8523 - accuracy: 0.4003 - val_loss: 1.7786 - val_accuracy: 0.4274\n",
            "\n",
            "Epoch 00039: val_accuracy improved from 0.40290 to 0.42743, saving model to best_params.hd5\n",
            "INFO:tensorflow:Assets written to: best_params.hd5/assets\n",
            "Epoch 40/100\n",
            "250/250 [==============================] - 33s 130ms/step - loss: 1.8339 - accuracy: 0.4130 - val_loss: 1.7809 - val_accuracy: 0.4174\n",
            "\n",
            "Epoch 00040: val_accuracy did not improve from 0.42743\n",
            "Epoch 41/100\n",
            "250/250 [==============================] - 40s 159ms/step - loss: 1.8258 - accuracy: 0.3974 - val_loss: 1.8893 - val_accuracy: 0.3403\n",
            "\n",
            "Epoch 00041: val_accuracy did not improve from 0.42743\n",
            "Epoch 42/100\n",
            "250/250 [==============================] - 40s 158ms/step - loss: 1.8287 - accuracy: 0.4034 - val_loss: 1.7670 - val_accuracy: 0.4194\n",
            "\n",
            "Epoch 00042: val_accuracy did not improve from 0.42743\n",
            "Epoch 43/100\n",
            "250/250 [==============================] - 37s 147ms/step - loss: 1.8414 - accuracy: 0.3963 - val_loss: 1.7473 - val_accuracy: 0.4234\n",
            "\n",
            "Epoch 00043: val_accuracy did not improve from 0.42743\n",
            "Epoch 44/100\n",
            "250/250 [==============================] - 35s 140ms/step - loss: 1.7957 - accuracy: 0.4133 - val_loss: 1.7780 - val_accuracy: 0.4124\n",
            "\n",
            "Epoch 00044: val_accuracy did not improve from 0.42743\n",
            "Epoch 45/100\n",
            "250/250 [==============================] - 31s 125ms/step - loss: 1.8015 - accuracy: 0.4156 - val_loss: 3.4836 - val_accuracy: 0.1597\n",
            "\n",
            "Epoch 00045: val_accuracy did not improve from 0.42743\n",
            "Epoch 46/100\n",
            "250/250 [==============================] - 34s 137ms/step - loss: 1.8210 - accuracy: 0.4051 - val_loss: 1.8353 - val_accuracy: 0.4024\n",
            "\n",
            "Epoch 00046: val_accuracy did not improve from 0.42743\n",
            "Epoch 47/100\n",
            "250/250 [==============================] - 38s 153ms/step - loss: 1.7877 - accuracy: 0.4247 - val_loss: 1.9242 - val_accuracy: 0.3428\n",
            "\n",
            "Epoch 00047: val_accuracy did not improve from 0.42743\n",
            "Epoch 48/100\n",
            "250/250 [==============================] - 39s 158ms/step - loss: 1.7765 - accuracy: 0.4146 - val_loss: 2.0558 - val_accuracy: 0.3093\n",
            "\n",
            "Epoch 00048: val_accuracy did not improve from 0.42743\n",
            "Epoch 49/100\n",
            "250/250 [==============================] - 40s 161ms/step - loss: 1.7713 - accuracy: 0.4254 - val_loss: 1.7441 - val_accuracy: 0.4299\n",
            "\n",
            "Epoch 00049: val_accuracy improved from 0.42743 to 0.42993, saving model to best_params.hd5\n",
            "INFO:tensorflow:Assets written to: best_params.hd5/assets\n",
            "\n",
            "Epoch 00049: ReduceLROnPlateau reducing learning rate to 0.004999999888241291.\n",
            "Epoch 50/100\n",
            "250/250 [==============================] - 39s 155ms/step - loss: 1.7317 - accuracy: 0.4389 - val_loss: 2.9774 - val_accuracy: 0.2037\n",
            "\n",
            "Epoch 00050: val_accuracy did not improve from 0.42993\n",
            "Epoch 51/100\n",
            "250/250 [==============================] - 34s 134ms/step - loss: 1.7768 - accuracy: 0.4200 - val_loss: 1.7247 - val_accuracy: 0.4134\n",
            "\n",
            "Epoch 00051: val_accuracy did not improve from 0.42993\n",
            "Epoch 52/100\n",
            "250/250 [==============================] - 32s 126ms/step - loss: 1.7322 - accuracy: 0.4291 - val_loss: 1.6969 - val_accuracy: 0.4304\n",
            "\n",
            "Epoch 00052: val_accuracy improved from 0.42993 to 0.43043, saving model to best_params.hd5\n",
            "INFO:tensorflow:Assets written to: best_params.hd5/assets\n",
            "Epoch 53/100\n",
            "250/250 [==============================] - 38s 151ms/step - loss: 1.7462 - accuracy: 0.4251 - val_loss: 1.7198 - val_accuracy: 0.4199\n",
            "\n",
            "Epoch 00053: val_accuracy did not improve from 0.43043\n",
            "Epoch 54/100\n",
            "250/250 [==============================] - 32s 129ms/step - loss: 1.7276 - accuracy: 0.4435 - val_loss: 1.8126 - val_accuracy: 0.3839\n",
            "\n",
            "Epoch 00054: val_accuracy did not improve from 0.43043\n",
            "Epoch 55/100\n",
            "250/250 [==============================] - 35s 139ms/step - loss: 1.7347 - accuracy: 0.4304 - val_loss: 1.7614 - val_accuracy: 0.4019\n",
            "\n",
            "Epoch 00055: val_accuracy did not improve from 0.43043\n",
            "Epoch 56/100\n",
            "250/250 [==============================] - 34s 135ms/step - loss: 1.7272 - accuracy: 0.4414 - val_loss: 1.7788 - val_accuracy: 0.3939\n",
            "\n",
            "Epoch 00056: val_accuracy did not improve from 0.43043\n",
            "Epoch 57/100\n",
            "250/250 [==============================] - 39s 154ms/step - loss: 1.7278 - accuracy: 0.4420 - val_loss: 1.7269 - val_accuracy: 0.4379\n",
            "\n",
            "Epoch 00057: val_accuracy improved from 0.43043 to 0.43794, saving model to best_params.hd5\n",
            "INFO:tensorflow:Assets written to: best_params.hd5/assets\n",
            "Epoch 58/100\n",
            "250/250 [==============================] - 41s 165ms/step - loss: 1.7061 - accuracy: 0.4369 - val_loss: 1.7239 - val_accuracy: 0.4214\n",
            "\n",
            "Epoch 00058: val_accuracy did not improve from 0.43794\n",
            "Epoch 59/100\n",
            "250/250 [==============================] - 42s 168ms/step - loss: 1.7125 - accuracy: 0.4366 - val_loss: 1.6852 - val_accuracy: 0.4459\n",
            "\n",
            "Epoch 00059: val_accuracy improved from 0.43794 to 0.44595, saving model to best_params.hd5\n",
            "INFO:tensorflow:Assets written to: best_params.hd5/assets\n",
            "Epoch 60/100\n",
            "250/250 [==============================] - 38s 154ms/step - loss: 1.7228 - accuracy: 0.4379 - val_loss: 1.7535 - val_accuracy: 0.4159\n",
            "\n",
            "Epoch 00060: val_accuracy did not improve from 0.44595\n",
            "Epoch 61/100\n",
            "250/250 [==============================] - 35s 141ms/step - loss: 1.7118 - accuracy: 0.4472 - val_loss: 1.7410 - val_accuracy: 0.4209\n",
            "\n",
            "Epoch 00061: val_accuracy did not improve from 0.44595\n",
            "Epoch 62/100\n",
            "250/250 [==============================] - 37s 149ms/step - loss: 1.7015 - accuracy: 0.4425 - val_loss: 1.7050 - val_accuracy: 0.4399\n",
            "\n",
            "Epoch 00062: val_accuracy did not improve from 0.44595\n",
            "Epoch 63/100\n",
            "250/250 [==============================] - 36s 146ms/step - loss: 1.6908 - accuracy: 0.4479 - val_loss: 1.7104 - val_accuracy: 0.4249\n",
            "\n",
            "Epoch 00063: val_accuracy did not improve from 0.44595\n",
            "Epoch 64/100\n",
            "250/250 [==============================] - 37s 149ms/step - loss: 1.7051 - accuracy: 0.4452 - val_loss: 1.6814 - val_accuracy: 0.4369\n",
            "\n",
            "Epoch 00064: val_accuracy did not improve from 0.44595\n",
            "Epoch 65/100\n",
            "250/250 [==============================] - 39s 154ms/step - loss: 1.6787 - accuracy: 0.4538 - val_loss: 1.7177 - val_accuracy: 0.4149\n",
            "\n",
            "Epoch 00065: val_accuracy did not improve from 0.44595\n",
            "Epoch 66/100\n",
            "250/250 [==============================] - 36s 143ms/step - loss: 1.6787 - accuracy: 0.4486 - val_loss: 1.7480 - val_accuracy: 0.4144\n",
            "\n",
            "Epoch 00066: val_accuracy did not improve from 0.44595\n",
            "Epoch 67/100\n",
            "250/250 [==============================] - 39s 155ms/step - loss: 1.6809 - accuracy: 0.4599 - val_loss: 2.3669 - val_accuracy: 0.2788\n",
            "\n",
            "Epoch 00067: val_accuracy did not improve from 0.44595\n",
            "\n",
            "Epoch 00067: ReduceLROnPlateau reducing learning rate to 0.0024999999441206455.\n",
            "Epoch 68/100\n",
            "250/250 [==============================] - 42s 169ms/step - loss: 1.6886 - accuracy: 0.4597 - val_loss: 1.7840 - val_accuracy: 0.4014\n",
            "\n",
            "Epoch 00068: val_accuracy did not improve from 0.44595\n",
            "Epoch 69/100\n",
            "250/250 [==============================] - 42s 170ms/step - loss: 1.6586 - accuracy: 0.4550 - val_loss: 1.6695 - val_accuracy: 0.4515\n",
            "\n",
            "Epoch 00069: val_accuracy improved from 0.44595 to 0.45145, saving model to best_params.hd5\n",
            "INFO:tensorflow:Assets written to: best_params.hd5/assets\n",
            "Epoch 70/100\n",
            "250/250 [==============================] - 40s 161ms/step - loss: 1.6602 - accuracy: 0.4755 - val_loss: 1.6586 - val_accuracy: 0.4469\n",
            "\n",
            "Epoch 00070: val_accuracy did not improve from 0.45145\n",
            "Epoch 71/100\n",
            "250/250 [==============================] - 43s 171ms/step - loss: 1.6418 - accuracy: 0.4681 - val_loss: 1.6546 - val_accuracy: 0.4615\n",
            "\n",
            "Epoch 00071: val_accuracy improved from 0.45145 to 0.46146, saving model to best_params.hd5\n",
            "INFO:tensorflow:Assets written to: best_params.hd5/assets\n",
            "Epoch 72/100\n",
            "250/250 [==============================] - 43s 172ms/step - loss: 1.6602 - accuracy: 0.4649 - val_loss: 1.6895 - val_accuracy: 0.4319\n",
            "\n",
            "Epoch 00072: val_accuracy did not improve from 0.46146\n",
            "Epoch 73/100\n",
            "250/250 [==============================] - 43s 171ms/step - loss: 1.6778 - accuracy: 0.4613 - val_loss: 1.6300 - val_accuracy: 0.4665\n",
            "\n",
            "Epoch 00073: val_accuracy improved from 0.46146 to 0.46647, saving model to best_params.hd5\n",
            "INFO:tensorflow:Assets written to: best_params.hd5/assets\n",
            "Epoch 74/100\n",
            "250/250 [==============================] - 40s 161ms/step - loss: 1.6535 - accuracy: 0.4597 - val_loss: 1.6387 - val_accuracy: 0.4645\n",
            "\n",
            "Epoch 00074: val_accuracy did not improve from 0.46647\n",
            "Epoch 75/100\n",
            "250/250 [==============================] - 39s 155ms/step - loss: 1.6512 - accuracy: 0.4534 - val_loss: 1.6780 - val_accuracy: 0.4299\n",
            "\n",
            "Epoch 00075: val_accuracy did not improve from 0.46647\n",
            "Epoch 76/100\n",
            "250/250 [==============================] - 38s 151ms/step - loss: 1.6568 - accuracy: 0.4685 - val_loss: 1.6859 - val_accuracy: 0.4434\n",
            "\n",
            "Epoch 00076: val_accuracy did not improve from 0.46647\n",
            "Epoch 77/100\n",
            "250/250 [==============================] - 43s 173ms/step - loss: 1.6696 - accuracy: 0.4525 - val_loss: 1.6796 - val_accuracy: 0.4444\n",
            "\n",
            "Epoch 00077: val_accuracy did not improve from 0.46647\n",
            "Epoch 78/100\n",
            "250/250 [==============================] - 39s 154ms/step - loss: 1.6381 - accuracy: 0.4601 - val_loss: 1.6958 - val_accuracy: 0.4424\n",
            "\n",
            "Epoch 00078: val_accuracy did not improve from 0.46647\n",
            "Epoch 79/100\n",
            "250/250 [==============================] - 40s 161ms/step - loss: 1.6692 - accuracy: 0.4509 - val_loss: 2.2784 - val_accuracy: 0.2908\n",
            "\n",
            "Epoch 00079: val_accuracy did not improve from 0.46647\n",
            "Epoch 80/100\n",
            "250/250 [==============================] - 40s 159ms/step - loss: 1.6768 - accuracy: 0.4464 - val_loss: 1.6706 - val_accuracy: 0.4489\n",
            "\n",
            "Epoch 00080: val_accuracy did not improve from 0.46647\n",
            "Epoch 81/100\n",
            "250/250 [==============================] - 37s 148ms/step - loss: 1.6561 - accuracy: 0.4676 - val_loss: 1.6797 - val_accuracy: 0.4444\n",
            "\n",
            "Epoch 00081: val_accuracy did not improve from 0.46647\n",
            "\n",
            "Epoch 00081: ReduceLROnPlateau reducing learning rate to 0.0012499999720603228.\n",
            "Epoch 82/100\n",
            "250/250 [==============================] - 36s 142ms/step - loss: 1.6390 - accuracy: 0.4625 - val_loss: 1.6513 - val_accuracy: 0.4555\n",
            "\n",
            "Epoch 00082: val_accuracy did not improve from 0.46647\n",
            "Epoch 83/100\n",
            "250/250 [==============================] - 37s 149ms/step - loss: 1.6526 - accuracy: 0.4532 - val_loss: 1.7369 - val_accuracy: 0.4214\n",
            "\n",
            "Epoch 00083: val_accuracy did not improve from 0.46647\n",
            "Epoch 84/100\n",
            "250/250 [==============================] - 43s 174ms/step - loss: 1.6348 - accuracy: 0.4681 - val_loss: 1.6388 - val_accuracy: 0.4640\n",
            "\n",
            "Epoch 00084: val_accuracy did not improve from 0.46647\n",
            "Epoch 85/100\n",
            "250/250 [==============================] - 37s 148ms/step - loss: 1.5878 - accuracy: 0.4864 - val_loss: 1.6676 - val_accuracy: 0.4389\n",
            "\n",
            "Epoch 00085: val_accuracy did not improve from 0.46647\n",
            "Epoch 86/100\n",
            "250/250 [==============================] - 37s 147ms/step - loss: 1.6199 - accuracy: 0.4764 - val_loss: 1.6560 - val_accuracy: 0.4515\n",
            "\n",
            "Epoch 00086: val_accuracy did not improve from 0.46647\n",
            "Epoch 87/100\n",
            "250/250 [==============================] - 37s 146ms/step - loss: 1.6195 - accuracy: 0.4751 - val_loss: 1.7106 - val_accuracy: 0.4274\n",
            "\n",
            "Epoch 00087: val_accuracy did not improve from 0.46647\n",
            "Epoch 88/100\n",
            "250/250 [==============================] - 36s 146ms/step - loss: 1.6255 - accuracy: 0.4701 - val_loss: 1.6624 - val_accuracy: 0.4489\n",
            "\n",
            "Epoch 00088: val_accuracy did not improve from 0.46647\n",
            "Epoch 89/100\n",
            "250/250 [==============================] - 42s 168ms/step - loss: 1.6357 - accuracy: 0.4679 - val_loss: 1.6177 - val_accuracy: 0.4670\n",
            "\n",
            "Epoch 00089: val_accuracy improved from 0.46647 to 0.46697, saving model to best_params.hd5\n",
            "INFO:tensorflow:Assets written to: best_params.hd5/assets\n",
            "Epoch 90/100\n",
            "250/250 [==============================] - 42s 169ms/step - loss: 1.6181 - accuracy: 0.4721 - val_loss: 1.6411 - val_accuracy: 0.4535\n",
            "\n",
            "Epoch 00090: val_accuracy did not improve from 0.46697\n",
            "Epoch 91/100\n",
            "250/250 [==============================] - 38s 150ms/step - loss: 1.6268 - accuracy: 0.4689 - val_loss: 1.6367 - val_accuracy: 0.4620\n",
            "\n",
            "Epoch 00091: val_accuracy did not improve from 0.46697\n",
            "\n",
            "Epoch 00091: ReduceLROnPlateau reducing learning rate to 0.0006249999860301614.\n",
            "Epoch 92/100\n",
            "250/250 [==============================] - 38s 151ms/step - loss: 1.5997 - accuracy: 0.4792 - val_loss: 1.6107 - val_accuracy: 0.4710\n",
            "\n",
            "Epoch 00092: val_accuracy improved from 0.46697 to 0.47097, saving model to best_params.hd5\n",
            "INFO:tensorflow:Assets written to: best_params.hd5/assets\n",
            "Epoch 93/100\n",
            "250/250 [==============================] - 42s 168ms/step - loss: 1.6143 - accuracy: 0.4676 - val_loss: 1.6526 - val_accuracy: 0.4525\n",
            "\n",
            "Epoch 00093: val_accuracy did not improve from 0.47097\n",
            "Epoch 94/100\n",
            "250/250 [==============================] - 38s 153ms/step - loss: 1.6047 - accuracy: 0.4631 - val_loss: 1.6496 - val_accuracy: 0.4535\n",
            "\n",
            "Epoch 00094: val_accuracy did not improve from 0.47097\n",
            "Epoch 95/100\n",
            "250/250 [==============================] - 35s 141ms/step - loss: 1.6160 - accuracy: 0.4683 - val_loss: 1.6315 - val_accuracy: 0.4595\n",
            "\n",
            "Epoch 00095: val_accuracy did not improve from 0.47097\n",
            "Epoch 96/100\n",
            "250/250 [==============================] - 35s 142ms/step - loss: 1.6000 - accuracy: 0.4714 - val_loss: 1.6281 - val_accuracy: 0.4615\n",
            "\n",
            "Epoch 00096: val_accuracy did not improve from 0.47097\n",
            "Epoch 97/100\n",
            "250/250 [==============================] - 33s 134ms/step - loss: 1.5906 - accuracy: 0.4741 - val_loss: 1.6301 - val_accuracy: 0.4580\n",
            "\n",
            "Epoch 00097: val_accuracy did not improve from 0.47097\n",
            "Epoch 98/100\n",
            "250/250 [==============================] - 36s 145ms/step - loss: 1.6055 - accuracy: 0.4779 - val_loss: 1.6526 - val_accuracy: 0.4429\n",
            "\n",
            "Epoch 00098: val_accuracy did not improve from 0.47097\n",
            "Epoch 99/100\n",
            "250/250 [==============================] - 33s 132ms/step - loss: 1.6049 - accuracy: 0.4864 - val_loss: 1.6444 - val_accuracy: 0.4489\n",
            "\n",
            "Epoch 00099: val_accuracy did not improve from 0.47097\n",
            "Epoch 100/100\n",
            "250/250 [==============================] - 35s 139ms/step - loss: 1.6105 - accuracy: 0.4820 - val_loss: 1.6185 - val_accuracy: 0.4655\n",
            "\n",
            "Epoch 00100: val_accuracy did not improve from 0.47097\n"
          ],
          "name": "stdout"
        }
      ]
    },
    {
      "cell_type": "code",
      "metadata": {
        "colab": {
          "base_uri": "https://localhost:8080/"
        },
        "id": "sPAzb2WwhIFt",
        "outputId": "ce495343-bca1-423c-ac23-f5e478b8a827"
      },
      "source": [
        "train_labels.shape"
      ],
      "execution_count": null,
      "outputs": [
        {
          "output_type": "execute_result",
          "data": {
            "text/plain": [
              "(349,)"
            ]
          },
          "metadata": {
            "tags": []
          },
          "execution_count": 54
        }
      ]
    },
    {
      "cell_type": "code",
      "metadata": {
        "colab": {
          "base_uri": "https://localhost:8080/"
        },
        "id": "JEd9xf2hiISH",
        "outputId": "3a184f27-7585-4689-cd2c-b65cc6f7c5c7"
      },
      "source": [
        "train_set.shape"
      ],
      "execution_count": null,
      "outputs": [
        {
          "output_type": "execute_result",
          "data": {
            "text/plain": [
              "(349, 128, 2586)"
            ]
          },
          "metadata": {
            "tags": []
          },
          "execution_count": 55
        }
      ]
    },
    {
      "cell_type": "code",
      "metadata": {
        "colab": {
          "base_uri": "https://localhost:8080/",
          "height": 590
        },
        "id": "ZxF-kUUJiPps",
        "outputId": "e8c83d42-f774-441c-844d-e6feaf8a0ede"
      },
      "source": [
        "show_summary_stats(history)"
      ],
      "execution_count": 78,
      "outputs": [
        {
          "output_type": "stream",
          "text": [
            "dict_keys(['loss', 'accuracy', 'val_loss', 'val_accuracy', 'lr'])\n"
          ],
          "name": "stdout"
        },
        {
          "output_type": "display_data",
          "data": {
            "image/png": "[encoded data removed]",
            "text/plain": [
              "<Figure size 432x288 with 1 Axes>"
            ]
          },
          "metadata": {
            "tags": [],
            "needs_background": "light"
          }
        },
        {
          "output_type": "display_data",
          "data": {
            "image/png": "[encoded data removed]",
            "text/plain": [
              "<Figure size 432x288 with 1 Axes>"
            ]
          },
          "metadata": {
            "tags": [],
            "needs_background": "light"
          }
        }
      ]
    }
  ]
}