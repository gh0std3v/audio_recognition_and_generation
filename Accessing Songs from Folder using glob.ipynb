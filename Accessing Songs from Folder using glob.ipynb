{
 "cells": [
  {
   "cell_type": "code",
   "execution_count": null,
   "id": "c43257c7",
   "metadata": {},
   "outputs": [],
   "source": [
    "import glob\n",
    "\n",
    "path = 'Test Songs Chorus/*.txt'\n",
    "files = glob.glob(path, recursive=True)\n",
    "\n",
    "all_test_songs = dict()\n",
    "\n",
    "for file in files:\n",
    "    f = open(file, \"r\")\n",
    "    chorus = f.read().replace(\"\\n\", \" \")\n",
    "    song_title = file[:-4].replace(\"Test Songs Chorus\\\\\", \"\")\n",
    "    tokenized_chorus = tokenize_without_stopwords(chorus)\n",
    "    \n",
    "    all_test_songs[song_title] = tokenized_chorus\n",
    "    \n",
    "    f.close()"
   ]
  }
 ],
 "metadata": {
  "kernelspec": {
   "display_name": "Python 3",
   "language": "python",
   "name": "python3"
  },
  "language_info": {
   "codemirror_mode": {
    "name": "ipython",
    "version": 3
   },
   "file_extension": ".py",
   "mimetype": "text/x-python",
   "name": "python",
   "nbconvert_exporter": "python",
   "pygments_lexer": "ipython3",
   "version": "3.8.10"
  }
 },
 "nbformat": 4,
 "nbformat_minor": 5
}
