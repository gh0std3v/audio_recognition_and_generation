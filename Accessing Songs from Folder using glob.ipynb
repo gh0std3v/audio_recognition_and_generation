{
 "cells": [
  {
   "cell_type": "code",
   "execution_count": null,
   "id": "61f6bf07",
   "metadata": {},
   "outputs": [],
   "source": [
    "# assuming you have all the imports and a completed model"
   ]
  },
  {
   "cell_type": "code",
   "execution_count": null,
   "id": "33443f3f",
   "metadata": {},
   "outputs": [],
   "source": [
    "# tokenizing and removing stop words\n",
    "from nltk.corpus import stopwords\n",
    "nltk.download('stopwords')\n",
    "\n",
    "def tokenize_without_stopwords(lyrics):\n",
    "    tokenized = punc_regex.sub('', lyrics).lower().split()\n",
    "    return tuple(word for word in tokenized if not word in stopwords.words())"
   ]
  },
  {
   "cell_type": "code",
   "execution_count": null,
   "id": "08c36b90",
   "metadata": {},
   "outputs": [],
   "source": [
    "\n",
    "\n",
    "path = 'Test Songs Chorus/*.txt'\n",
    "files = glob.glob(path, recursive=True)\n",
    "\n",
    "all_test_songs = dict()\n",
    "\n",
    "for file in files:\n",
    "    f = open(file, \"r\")\n",
    "    chorus = f.read().replace(\"\\n\", \" \")\n",
    "    song_title = file[:-4].replace(\"Test Songs Chorus\\\\\", \"\")\n",
    "    tokenized_chorus = tokenize_without_stopwords(chorus)\n",
    "    \n",
    "    all_test_songs[song_title] = tokenized_chorus\n",
    "    \n",
    "#     print(song_title)\n",
    "#     print(tokenized_chorus)\n",
    "#     print()\n",
    "    f.close()"
   ]
  }
 ],
 "metadata": {
  "kernelspec": {
   "display_name": "Python 3",
   "language": "python",
   "name": "python3"
  },
  "language_info": {
   "codemirror_mode": {
    "name": "ipython",
    "version": 3
   },
   "file_extension": ".py",
   "mimetype": "text/x-python",
   "name": "python",
   "nbconvert_exporter": "python",
   "pygments_lexer": "ipython3",
   "version": "3.8.10"
  }
 },
 "nbformat": 4,
 "nbformat_minor": 5
}
