{
  "nbformat": 4,
  "nbformat_minor": 0,
  "metadata": {
    "accelerator": "GPU",
    "colab": {
      "name": "Music Genre Classification with GTZAN.ipynb",
      "provenance": [],
      "collapsed_sections": []
    },
    "kernelspec": {
      "display_name": "Python 3",
      "name": "python3"
    },
    "language_info": {
      "name": "python"
    }
  },
  "cells": [
    {
      "cell_type": "markdown",
      "metadata": {
        "id": "ySj2jzKOzpfz"
      },
      "source": [
        "# **Load in GTZAN Dataset**"
      ]
    },
    {
      "cell_type": "markdown",
      "metadata": {
        "id": "ks8e-18No9fz"
      },
      "source": [
        "[Drive Link to GTZAN Dataset](https://drive.google.com/drive/folders/1thlHfYV1cjNPCkuFg-e81nalDVyYf4OH)\n",
        "\n",
        "[CRNN Model for Genre Classification - Priya Dwivedi](https://github.com/priya-dwivedi/Music_Genre_Classification)\n",
        "\n",
        "[GTZAN Dataset with sliced audios](https://drive.google.com/drive/folders/1thlHfYV1cjNPCkuFg-e81nalDVyYf4OH?usp=sharing)\n",
        "\n",
        "[Original GTZAN Dataset](http://marsyas.info/downloads/datasets.html)"
      ]
    },
    {
      "cell_type": "code",
      "metadata": {
        "colab": {
          "base_uri": "https://localhost:8080/"
        },
        "id": "oBY1rej8-wyX",
        "outputId": "9c3fa947-632b-432f-adf9-ca340be19e8e"
      },
      "source": [
        "from google.colab import drive\n",
        "drive.mount('/content/drive')"
      ],
      "execution_count": 8,
      "outputs": [
        {
          "output_type": "stream",
          "text": [
            "Drive already mounted at /content/drive; to attempt to forcibly remount, call drive.mount(\"/content/drive\", force_remount=True).\n"
          ],
          "name": "stdout"
        }
      ]
    },
    {
      "cell_type": "code",
      "metadata": {
        "id": "UnbJoN7Cz6xb"
      },
      "source": [
        "#audo_dataset = open('drive/MyDrive/Data/genres_original')\n",
        "\n",
        "#audio_dataset.read()\n",
        "import pandas as pd\n",
        "\n",
        "\n",
        "audio_data_3 = pd.DataFrame(pd.read_csv('drive/MyDrive/GTZAN Data/features_3_sec.csv'))\n",
        "\n",
        "audio_data_30 = pd.DataFrame(pd.read_csv('drive/MyDrive/GTZAN Data/features_30_sec.csv'))\n",
        "\n",
        "\n"
      ],
      "execution_count": 9,
      "outputs": []
    },
    {
      "cell_type": "code",
      "metadata": {
        "id": "NAVbUi7S_RVD"
      },
      "source": [
        "import os\n",
        "##FOLDER_PATH = 'labelled-dataset'\n",
        "#ROOT_PATH = '/content/drive/MyDrive/'\n",
        "#print(len(os.listdir('drive/MyDrive/GTZAN Data/sliced_audios')))\n"
      ],
      "execution_count": 3,
      "outputs": []
    },
    {
      "cell_type": "markdown",
      "metadata": {
        "id": "lmZv2WYfCSO6"
      },
      "source": [
        "# Split each audio into 10 parts (3 second clips)\n"
      ]
    },
    {
      "cell_type": "code",
      "metadata": {
        "colab": {
          "base_uri": "https://localhost:8080/"
        },
        "id": "9deirUD5EsEe",
        "outputId": "03910056-e1e3-4868-b221-04072fe78fd6"
      },
      "source": [
        "pip install pydub"
      ],
      "execution_count": 10,
      "outputs": [
        {
          "output_type": "stream",
          "text": [
            "Requirement already satisfied: pydub in /usr/local/lib/python3.7/dist-packages (0.25.1)\n"
          ],
          "name": "stdout"
        }
      ]
    },
    {
      "cell_type": "code",
      "metadata": {
        "colab": {
          "base_uri": "https://localhost:8080/",
          "height": 36
        },
        "id": "siDrMrRj2yVL",
        "outputId": "ee1c77c1-fcff-4366-a131-30b503eff76f"
      },
      "source": [
        "a = 'drive/My Drive/GTZAN Data/genres_original/blues.00000.wav'\n",
        "a[42:a.index('.')]"
      ],
      "execution_count": 11,
      "outputs": [
        {
          "output_type": "execute_result",
          "data": {
            "application/vnd.google.colaboratory.intrinsic+json": {
              "type": "string"
            },
            "text/plain": [
              "'blues'"
            ]
          },
          "metadata": {
            "tags": []
          },
          "execution_count": 11
        }
      ]
    },
    {
      "cell_type": "code",
      "metadata": {
        "id": "urPLdI-X0jt5"
      },
      "source": [
        "from pydub import AudioSegment\n",
        "def get_wavs():\n",
        "  #new_files = []\n",
        "  for _file in audio_data_30['filename']:\n",
        "    if not _file == 'jazz.00054.wav':\n",
        "      full_file = 'drive/My Drive/GTZAN Data/genres_original/' + _file\n",
        "      genre = _file[:_file.index('.')]\n",
        "      start = 0\n",
        "      end = 3000\n",
        "      for interval in range(10):\n",
        "        audio_segment = AudioSegment.from_wav(full_file)[start:end]\n",
        "        new_path = 'drive/My Drive/GTZAN Data/sliced_audios/'+ _file[:_file.index('w')]+ str(interval) + '.wav'\n",
        "        audio_segment.export(new_path, format=\"wav\")\n",
        "        #new_files.append((new_path, genre))\n",
        "        start += 3000\n",
        "        end+= 3000\n",
        "  #return new_files"
      ],
      "execution_count": 6,
      "outputs": []
    },
    {
      "cell_type": "code",
      "metadata": {
        "id": "WqymQZtwRWny",
        "colab": {
          "base_uri": "https://localhost:8080/",
          "height": 323
        },
        "outputId": "3e5f762c-fc06-43e7-efbb-491bde8c56e9"
      },
      "source": [
        "get_wavs()"
      ],
      "execution_count": 7,
      "outputs": [
        {
          "output_type": "error",
          "ename": "OSError",
          "evalue": "ignored",
          "traceback": [
            "\u001b[0;31m---------------------------------------------------------------------------\u001b[0m",
            "\u001b[0;31mOSError\u001b[0m                                   Traceback (most recent call last)",
            "\u001b[0;32m<ipython-input-7-3ba3f5df5142>\u001b[0m in \u001b[0;36m<module>\u001b[0;34m()\u001b[0m\n\u001b[0;32m----> 1\u001b[0;31m \u001b[0mget_wavs\u001b[0m\u001b[0;34m(\u001b[0m\u001b[0;34m)\u001b[0m\u001b[0;34m\u001b[0m\u001b[0;34m\u001b[0m\u001b[0m\n\u001b[0m",
            "\u001b[0;32m<ipython-input-6-f56aaf926db0>\u001b[0m in \u001b[0;36mget_wavs\u001b[0;34m()\u001b[0m\n\u001b[1;32m     11\u001b[0m         \u001b[0maudio_segment\u001b[0m \u001b[0;34m=\u001b[0m \u001b[0mAudioSegment\u001b[0m\u001b[0;34m.\u001b[0m\u001b[0mfrom_wav\u001b[0m\u001b[0;34m(\u001b[0m\u001b[0mfull_file\u001b[0m\u001b[0;34m)\u001b[0m\u001b[0;34m[\u001b[0m\u001b[0mstart\u001b[0m\u001b[0;34m:\u001b[0m\u001b[0mend\u001b[0m\u001b[0;34m]\u001b[0m\u001b[0;34m\u001b[0m\u001b[0;34m\u001b[0m\u001b[0m\n\u001b[1;32m     12\u001b[0m         \u001b[0mnew_path\u001b[0m \u001b[0;34m=\u001b[0m \u001b[0;34m'drive/My Drive/GTZAN Data/sliced_audios/'\u001b[0m\u001b[0;34m+\u001b[0m \u001b[0m_file\u001b[0m\u001b[0;34m[\u001b[0m\u001b[0;34m:\u001b[0m\u001b[0m_file\u001b[0m\u001b[0;34m.\u001b[0m\u001b[0mindex\u001b[0m\u001b[0;34m(\u001b[0m\u001b[0;34m'w'\u001b[0m\u001b[0;34m)\u001b[0m\u001b[0;34m]\u001b[0m\u001b[0;34m+\u001b[0m \u001b[0mstr\u001b[0m\u001b[0;34m(\u001b[0m\u001b[0minterval\u001b[0m\u001b[0;34m)\u001b[0m \u001b[0;34m+\u001b[0m \u001b[0;34m'.wav'\u001b[0m\u001b[0;34m\u001b[0m\u001b[0;34m\u001b[0m\u001b[0m\n\u001b[0;32m---> 13\u001b[0;31m         \u001b[0maudio_segment\u001b[0m\u001b[0;34m.\u001b[0m\u001b[0mexport\u001b[0m\u001b[0;34m(\u001b[0m\u001b[0mnew_path\u001b[0m\u001b[0;34m,\u001b[0m \u001b[0mformat\u001b[0m\u001b[0;34m=\u001b[0m\u001b[0;34m\"wav\"\u001b[0m\u001b[0;34m)\u001b[0m\u001b[0;34m\u001b[0m\u001b[0;34m\u001b[0m\u001b[0m\n\u001b[0m\u001b[1;32m     14\u001b[0m         \u001b[0;31m#new_files.append((new_path, genre))\u001b[0m\u001b[0;34m\u001b[0m\u001b[0;34m\u001b[0m\u001b[0;34m\u001b[0m\u001b[0m\n\u001b[1;32m     15\u001b[0m         \u001b[0mstart\u001b[0m \u001b[0;34m+=\u001b[0m \u001b[0;36m3000\u001b[0m\u001b[0;34m\u001b[0m\u001b[0;34m\u001b[0m\u001b[0m\n",
            "\u001b[0;32m/usr/local/lib/python3.7/dist-packages/pydub/audio_segment.py\u001b[0m in \u001b[0;36mexport\u001b[0;34m(self, out_f, format, codec, bitrate, parameters, tags, id3v2_version, cover)\u001b[0m\n\u001b[1;32m    865\u001b[0m                     'or call export(format=\"raw\") with no codec or parameters')\n\u001b[1;32m    866\u001b[0m \u001b[0;34m\u001b[0m\u001b[0m\n\u001b[0;32m--> 867\u001b[0;31m         \u001b[0mout_f\u001b[0m\u001b[0;34m,\u001b[0m \u001b[0m_\u001b[0m \u001b[0;34m=\u001b[0m \u001b[0m_fd_or_path_or_tempfile\u001b[0m\u001b[0;34m(\u001b[0m\u001b[0mout_f\u001b[0m\u001b[0;34m,\u001b[0m \u001b[0;34m'wb+'\u001b[0m\u001b[0;34m)\u001b[0m\u001b[0;34m\u001b[0m\u001b[0;34m\u001b[0m\u001b[0m\n\u001b[0m\u001b[1;32m    868\u001b[0m         \u001b[0mout_f\u001b[0m\u001b[0;34m.\u001b[0m\u001b[0mseek\u001b[0m\u001b[0;34m(\u001b[0m\u001b[0;36m0\u001b[0m\u001b[0;34m)\u001b[0m\u001b[0;34m\u001b[0m\u001b[0;34m\u001b[0m\u001b[0m\n\u001b[1;32m    869\u001b[0m \u001b[0;34m\u001b[0m\u001b[0m\n",
            "\u001b[0;32m/usr/local/lib/python3.7/dist-packages/pydub/utils.py\u001b[0m in \u001b[0;36m_fd_or_path_or_tempfile\u001b[0;34m(fd, mode, tempfile)\u001b[0m\n\u001b[1;32m     58\u001b[0m \u001b[0;34m\u001b[0m\u001b[0m\n\u001b[1;32m     59\u001b[0m     \u001b[0;32mif\u001b[0m \u001b[0misinstance\u001b[0m\u001b[0;34m(\u001b[0m\u001b[0mfd\u001b[0m\u001b[0;34m,\u001b[0m \u001b[0mbasestring\u001b[0m\u001b[0;34m)\u001b[0m\u001b[0;34m:\u001b[0m\u001b[0;34m\u001b[0m\u001b[0;34m\u001b[0m\u001b[0m\n\u001b[0;32m---> 60\u001b[0;31m         \u001b[0mfd\u001b[0m \u001b[0;34m=\u001b[0m \u001b[0mopen\u001b[0m\u001b[0;34m(\u001b[0m\u001b[0mfd\u001b[0m\u001b[0;34m,\u001b[0m \u001b[0mmode\u001b[0m\u001b[0;34m=\u001b[0m\u001b[0mmode\u001b[0m\u001b[0;34m)\u001b[0m\u001b[0;34m\u001b[0m\u001b[0;34m\u001b[0m\u001b[0m\n\u001b[0m\u001b[1;32m     61\u001b[0m         \u001b[0mclose_fd\u001b[0m \u001b[0;34m=\u001b[0m \u001b[0;32mTrue\u001b[0m\u001b[0;34m\u001b[0m\u001b[0;34m\u001b[0m\u001b[0m\n\u001b[1;32m     62\u001b[0m \u001b[0;34m\u001b[0m\u001b[0m\n",
            "\u001b[0;31mOSError\u001b[0m: [Errno 5] Input/output error: 'drive/My Drive/GTZAN Data/sliced_audios/metal.00018.0.wav'"
          ]
        }
      ]
    },
    {
      "cell_type": "code",
      "metadata": {
        "id": "p1Vzqi7B6h9h"
      },
      "source": [
        "import os\n",
        "\n",
        "all_files = os.listdir('drive/MyDrive/GTZAN Data/sliced_audios')"
      ],
      "execution_count": 12,
      "outputs": []
    },
    {
      "cell_type": "code",
      "metadata": {
        "colab": {
          "base_uri": "https://localhost:8080/"
        },
        "id": "omL3dBZef4sE",
        "outputId": "91b414ee-ec48-4aa7-a5a0-d1de9fb2fe30"
      },
      "source": [
        "len(all_files)"
      ],
      "execution_count": 13,
      "outputs": [
        {
          "output_type": "execute_result",
          "data": {
            "text/plain": [
              "9990"
            ]
          },
          "metadata": {
            "tags": []
          },
          "execution_count": 13
        }
      ]
    },
    {
      "cell_type": "code",
      "metadata": {
        "colab": {
          "base_uri": "https://localhost:8080/",
          "height": 35
        },
        "id": "iys1G8uDf_yf",
        "outputId": "18f673f7-a439-429a-e204-cd081160dfa7"
      },
      "source": [
        ""
      ],
      "execution_count": null,
      "outputs": [
        {
          "output_type": "execute_result",
          "data": {
            "application/vnd.google.colaboratory.intrinsic+json": {
              "type": "string"
            },
            "text/plain": [
              "'blues.00098.9.wav'"
            ]
          },
          "metadata": {
            "tags": []
          },
          "execution_count": 44
        }
      ]
    },
    {
      "cell_type": "code",
      "metadata": {
        "colab": {
          "base_uri": "https://localhost:8080/"
        },
        "id": "eGDrPPflPzHr",
        "outputId": "ed0fdb0f-e1eb-4bd7-9a89-fc17c5b145a6"
      },
      "source": [
        "\n",
        "all_files = list(reversed(all_files))\n",
        "all_files\n",
        "\n"
      ],
      "execution_count": 14,
      "outputs": [
        {
          "output_type": "execute_result",
          "data": {
            "text/plain": [
              "['blues.00098.9.wav',\n",
              " 'blues.00098.8.wav',\n",
              " 'blues.00098.7.wav',\n",
              " 'blues.00098.6.wav',\n",
              " 'blues.00098.5.wav',\n",
              " 'blues.00098.4.wav',\n",
              " 'blues.00098.3.wav',\n",
              " 'blues.00098.2.wav',\n",
              " 'blues.00098.1.wav',\n",
              " 'blues.00098.0.wav',\n",
              " 'blues.00097.9.wav',\n",
              " 'blues.00097.8.wav',\n",
              " 'blues.00097.7.wav',\n",
              " 'blues.00097.6.wav',\n",
              " 'blues.00097.5.wav',\n",
              " 'blues.00097.4.wav',\n",
              " 'blues.00097.3.wav',\n",
              " 'blues.00097.2.wav',\n",
              " 'blues.00097.1.wav',\n",
              " 'blues.00097.0.wav',\n",
              " 'blues.00096.9.wav',\n",
              " 'blues.00096.8.wav',\n",
              " 'blues.00096.7.wav',\n",
              " 'blues.00096.6.wav',\n",
              " 'blues.00096.5.wav',\n",
              " 'blues.00096.4.wav',\n",
              " 'blues.00096.3.wav',\n",
              " 'blues.00096.2.wav',\n",
              " 'blues.00096.1.wav',\n",
              " 'blues.00096.0.wav',\n",
              " 'blues.00095.9.wav',\n",
              " 'blues.00095.8.wav',\n",
              " 'blues.00095.7.wav',\n",
              " 'blues.00095.6.wav',\n",
              " 'blues.00095.5.wav',\n",
              " 'blues.00095.4.wav',\n",
              " 'blues.00095.3.wav',\n",
              " 'blues.00095.2.wav',\n",
              " 'blues.00095.1.wav',\n",
              " 'blues.00095.0.wav',\n",
              " 'blues.00094.9.wav',\n",
              " 'blues.00094.8.wav',\n",
              " 'blues.00094.7.wav',\n",
              " 'blues.00094.6.wav',\n",
              " 'blues.00094.5.wav',\n",
              " 'blues.00094.4.wav',\n",
              " 'blues.00094.3.wav',\n",
              " 'blues.00094.2.wav',\n",
              " 'blues.00094.1.wav',\n",
              " 'blues.00094.0.wav',\n",
              " 'blues.00093.9.wav',\n",
              " 'blues.00093.8.wav',\n",
              " 'blues.00093.7.wav',\n",
              " 'blues.00093.6.wav',\n",
              " 'blues.00093.5.wav',\n",
              " 'blues.00093.4.wav',\n",
              " 'blues.00093.3.wav',\n",
              " 'blues.00093.2.wav',\n",
              " 'blues.00093.1.wav',\n",
              " 'blues.00093.0.wav',\n",
              " 'blues.00092.9.wav',\n",
              " 'blues.00092.8.wav',\n",
              " 'blues.00092.7.wav',\n",
              " 'blues.00092.6.wav',\n",
              " 'blues.00092.5.wav',\n",
              " 'blues.00092.4.wav',\n",
              " 'blues.00092.3.wav',\n",
              " 'blues.00092.2.wav',\n",
              " 'blues.00092.1.wav',\n",
              " 'blues.00092.0.wav',\n",
              " 'blues.00091.9.wav',\n",
              " 'blues.00091.8.wav',\n",
              " 'blues.00091.7.wav',\n",
              " 'blues.00091.6.wav',\n",
              " 'blues.00091.5.wav',\n",
              " 'blues.00091.4.wav',\n",
              " 'blues.00091.3.wav',\n",
              " 'blues.00091.2.wav',\n",
              " 'blues.00091.1.wav',\n",
              " 'blues.00091.0.wav',\n",
              " 'blues.00090.9.wav',\n",
              " 'blues.00090.8.wav',\n",
              " 'blues.00090.7.wav',\n",
              " 'blues.00090.6.wav',\n",
              " 'blues.00090.5.wav',\n",
              " 'blues.00090.4.wav',\n",
              " 'blues.00090.3.wav',\n",
              " 'blues.00090.2.wav',\n",
              " 'blues.00090.1.wav',\n",
              " 'blues.00090.0.wav',\n",
              " 'blues.00089.9.wav',\n",
              " 'blues.00089.8.wav',\n",
              " 'blues.00089.7.wav',\n",
              " 'blues.00089.6.wav',\n",
              " 'blues.00089.5.wav',\n",
              " 'blues.00089.4.wav',\n",
              " 'blues.00089.3.wav',\n",
              " 'blues.00089.2.wav',\n",
              " 'blues.00089.1.wav',\n",
              " 'blues.00089.0.wav',\n",
              " 'blues.00088.9.wav',\n",
              " 'blues.00088.8.wav',\n",
              " 'blues.00088.7.wav',\n",
              " 'blues.00088.6.wav',\n",
              " 'blues.00088.5.wav',\n",
              " 'blues.00088.4.wav',\n",
              " 'blues.00088.3.wav',\n",
              " 'blues.00088.2.wav',\n",
              " 'blues.00088.1.wav',\n",
              " 'blues.00088.0.wav',\n",
              " 'blues.00087.9.wav',\n",
              " 'blues.00087.8.wav',\n",
              " 'blues.00087.7.wav',\n",
              " 'blues.00087.6.wav',\n",
              " 'blues.00087.5.wav',\n",
              " 'blues.00087.4.wav',\n",
              " 'blues.00087.3.wav',\n",
              " 'blues.00087.2.wav',\n",
              " 'blues.00087.1.wav',\n",
              " 'blues.00087.0.wav',\n",
              " 'blues.00086.9.wav',\n",
              " 'blues.00086.8.wav',\n",
              " 'blues.00086.7.wav',\n",
              " 'blues.00086.6.wav',\n",
              " 'blues.00086.5.wav',\n",
              " 'blues.00086.4.wav',\n",
              " 'blues.00086.3.wav',\n",
              " 'blues.00086.2.wav',\n",
              " 'blues.00086.1.wav',\n",
              " 'blues.00086.0.wav',\n",
              " 'blues.00085.9.wav',\n",
              " 'blues.00085.8.wav',\n",
              " 'blues.00085.7.wav',\n",
              " 'blues.00085.6.wav',\n",
              " 'blues.00085.5.wav',\n",
              " 'blues.00085.4.wav',\n",
              " 'blues.00085.3.wav',\n",
              " 'blues.00085.2.wav',\n",
              " 'blues.00085.1.wav',\n",
              " 'blues.00085.0.wav',\n",
              " 'blues.00084.9.wav',\n",
              " 'blues.00084.8.wav',\n",
              " 'blues.00084.7.wav',\n",
              " 'blues.00084.6.wav',\n",
              " 'blues.00084.5.wav',\n",
              " 'blues.00084.4.wav',\n",
              " 'blues.00084.3.wav',\n",
              " 'blues.00084.2.wav',\n",
              " 'blues.00084.1.wav',\n",
              " 'blues.00084.0.wav',\n",
              " 'blues.00083.9.wav',\n",
              " 'blues.00083.8.wav',\n",
              " 'blues.00083.7.wav',\n",
              " 'blues.00083.6.wav',\n",
              " 'blues.00083.5.wav',\n",
              " 'blues.00083.4.wav',\n",
              " 'blues.00083.3.wav',\n",
              " 'blues.00083.2.wav',\n",
              " 'blues.00083.1.wav',\n",
              " 'blues.00083.0.wav',\n",
              " 'blues.00082.9.wav',\n",
              " 'blues.00082.8.wav',\n",
              " 'blues.00082.7.wav',\n",
              " 'blues.00082.6.wav',\n",
              " 'blues.00082.5.wav',\n",
              " 'blues.00082.4.wav',\n",
              " 'blues.00082.3.wav',\n",
              " 'blues.00082.2.wav',\n",
              " 'blues.00082.1.wav',\n",
              " 'blues.00082.0.wav',\n",
              " 'blues.00081.9.wav',\n",
              " 'blues.00081.8.wav',\n",
              " 'blues.00081.7.wav',\n",
              " 'blues.00081.6.wav',\n",
              " 'blues.00081.5.wav',\n",
              " 'blues.00081.4.wav',\n",
              " 'blues.00081.3.wav',\n",
              " 'blues.00081.2.wav',\n",
              " 'blues.00081.1.wav',\n",
              " 'blues.00081.0.wav',\n",
              " 'blues.00080.9.wav',\n",
              " 'blues.00080.8.wav',\n",
              " 'blues.00080.7.wav',\n",
              " 'blues.00080.6.wav',\n",
              " 'blues.00080.5.wav',\n",
              " 'blues.00080.4.wav',\n",
              " 'blues.00080.3.wav',\n",
              " 'blues.00080.2.wav',\n",
              " 'blues.00080.1.wav',\n",
              " 'blues.00080.0.wav',\n",
              " 'blues.00079.9.wav',\n",
              " 'blues.00079.8.wav',\n",
              " 'blues.00079.7.wav',\n",
              " 'blues.00079.6.wav',\n",
              " 'blues.00079.5.wav',\n",
              " 'blues.00079.4.wav',\n",
              " 'blues.00079.3.wav',\n",
              " 'blues.00079.2.wav',\n",
              " 'blues.00079.1.wav',\n",
              " 'blues.00079.0.wav',\n",
              " 'blues.00078.9.wav',\n",
              " 'blues.00078.8.wav',\n",
              " 'blues.00078.7.wav',\n",
              " 'blues.00078.6.wav',\n",
              " 'blues.00078.5.wav',\n",
              " 'blues.00078.4.wav',\n",
              " 'blues.00078.3.wav',\n",
              " 'blues.00078.2.wav',\n",
              " 'blues.00078.1.wav',\n",
              " 'blues.00078.0.wav',\n",
              " 'blues.00077.9.wav',\n",
              " 'blues.00077.8.wav',\n",
              " 'blues.00077.7.wav',\n",
              " 'blues.00077.6.wav',\n",
              " 'blues.00077.5.wav',\n",
              " 'blues.00077.4.wav',\n",
              " 'blues.00077.3.wav',\n",
              " 'blues.00077.2.wav',\n",
              " 'blues.00077.1.wav',\n",
              " 'blues.00077.0.wav',\n",
              " 'blues.00076.9.wav',\n",
              " 'blues.00076.8.wav',\n",
              " 'blues.00076.7.wav',\n",
              " 'blues.00076.6.wav',\n",
              " 'blues.00076.5.wav',\n",
              " 'blues.00076.4.wav',\n",
              " 'blues.00076.3.wav',\n",
              " 'blues.00076.2.wav',\n",
              " 'blues.00076.1.wav',\n",
              " 'blues.00076.0.wav',\n",
              " 'blues.00075.9.wav',\n",
              " 'blues.00075.8.wav',\n",
              " 'blues.00075.7.wav',\n",
              " 'blues.00075.6.wav',\n",
              " 'blues.00075.5.wav',\n",
              " 'blues.00075.4.wav',\n",
              " 'blues.00075.3.wav',\n",
              " 'blues.00075.2.wav',\n",
              " 'blues.00075.1.wav',\n",
              " 'blues.00075.0.wav',\n",
              " 'blues.00074.9.wav',\n",
              " 'blues.00074.8.wav',\n",
              " 'blues.00074.7.wav',\n",
              " 'blues.00074.6.wav',\n",
              " 'blues.00074.5.wav',\n",
              " 'blues.00074.4.wav',\n",
              " 'blues.00074.3.wav',\n",
              " 'blues.00074.2.wav',\n",
              " 'blues.00074.1.wav',\n",
              " 'blues.00074.0.wav',\n",
              " 'blues.00073.9.wav',\n",
              " 'blues.00073.8.wav',\n",
              " 'blues.00073.7.wav',\n",
              " 'blues.00073.6.wav',\n",
              " 'blues.00073.5.wav',\n",
              " 'blues.00073.4.wav',\n",
              " 'blues.00073.3.wav',\n",
              " 'blues.00073.2.wav',\n",
              " 'blues.00073.1.wav',\n",
              " 'blues.00073.0.wav',\n",
              " 'blues.00072.9.wav',\n",
              " 'blues.00072.8.wav',\n",
              " 'blues.00072.7.wav',\n",
              " 'blues.00072.6.wav',\n",
              " 'blues.00072.5.wav',\n",
              " 'blues.00072.4.wav',\n",
              " 'blues.00072.3.wav',\n",
              " 'blues.00072.2.wav',\n",
              " 'blues.00072.1.wav',\n",
              " 'blues.00072.0.wav',\n",
              " 'blues.00071.9.wav',\n",
              " 'blues.00071.8.wav',\n",
              " 'blues.00071.7.wav',\n",
              " 'blues.00071.6.wav',\n",
              " 'blues.00071.5.wav',\n",
              " 'blues.00071.4.wav',\n",
              " 'blues.00071.3.wav',\n",
              " 'blues.00071.2.wav',\n",
              " 'blues.00071.1.wav',\n",
              " 'blues.00071.0.wav',\n",
              " 'blues.00070.9.wav',\n",
              " 'blues.00070.8.wav',\n",
              " 'blues.00070.7.wav',\n",
              " 'blues.00070.6.wav',\n",
              " 'blues.00070.5.wav',\n",
              " 'blues.00070.4.wav',\n",
              " 'blues.00070.3.wav',\n",
              " 'blues.00070.2.wav',\n",
              " 'blues.00070.1.wav',\n",
              " 'blues.00070.0.wav',\n",
              " 'blues.00069.9.wav',\n",
              " 'blues.00069.8.wav',\n",
              " 'blues.00069.7.wav',\n",
              " 'blues.00069.6.wav',\n",
              " 'blues.00069.5.wav',\n",
              " 'blues.00069.4.wav',\n",
              " 'blues.00069.3.wav',\n",
              " 'blues.00069.2.wav',\n",
              " 'blues.00069.1.wav',\n",
              " 'blues.00069.0.wav',\n",
              " 'blues.00068.9.wav',\n",
              " 'blues.00068.8.wav',\n",
              " 'blues.00068.7.wav',\n",
              " 'blues.00068.6.wav',\n",
              " 'blues.00068.5.wav',\n",
              " 'blues.00068.4.wav',\n",
              " 'blues.00068.3.wav',\n",
              " 'blues.00068.2.wav',\n",
              " 'blues.00068.1.wav',\n",
              " 'blues.00068.0.wav',\n",
              " 'blues.00067.9.wav',\n",
              " 'blues.00067.8.wav',\n",
              " 'blues.00067.7.wav',\n",
              " 'blues.00067.6.wav',\n",
              " 'blues.00067.5.wav',\n",
              " 'blues.00067.4.wav',\n",
              " 'blues.00067.3.wav',\n",
              " 'blues.00067.2.wav',\n",
              " 'blues.00067.1.wav',\n",
              " 'blues.00067.0.wav',\n",
              " 'blues.00066.9.wav',\n",
              " 'blues.00066.8.wav',\n",
              " 'blues.00066.7.wav',\n",
              " 'blues.00066.6.wav',\n",
              " 'blues.00066.5.wav',\n",
              " 'blues.00066.4.wav',\n",
              " 'blues.00066.3.wav',\n",
              " 'blues.00066.2.wav',\n",
              " 'blues.00066.1.wav',\n",
              " 'blues.00066.0.wav',\n",
              " 'blues.00065.9.wav',\n",
              " 'blues.00065.8.wav',\n",
              " 'blues.00065.7.wav',\n",
              " 'blues.00065.6.wav',\n",
              " 'blues.00065.5.wav',\n",
              " 'blues.00065.4.wav',\n",
              " 'blues.00065.3.wav',\n",
              " 'blues.00065.2.wav',\n",
              " 'blues.00065.1.wav',\n",
              " 'blues.00065.0.wav',\n",
              " 'blues.00064.9.wav',\n",
              " 'blues.00064.8.wav',\n",
              " 'blues.00064.7.wav',\n",
              " 'blues.00064.6.wav',\n",
              " 'blues.00064.5.wav',\n",
              " 'blues.00064.4.wav',\n",
              " 'blues.00064.3.wav',\n",
              " 'blues.00064.2.wav',\n",
              " 'blues.00064.1.wav',\n",
              " 'blues.00064.0.wav',\n",
              " 'blues.00063.9.wav',\n",
              " 'blues.00063.8.wav',\n",
              " 'blues.00063.7.wav',\n",
              " 'blues.00063.6.wav',\n",
              " 'blues.00063.5.wav',\n",
              " 'blues.00063.4.wav',\n",
              " 'blues.00063.3.wav',\n",
              " 'blues.00063.2.wav',\n",
              " 'blues.00063.1.wav',\n",
              " 'blues.00063.0.wav',\n",
              " 'blues.00062.9.wav',\n",
              " 'blues.00062.8.wav',\n",
              " 'blues.00062.7.wav',\n",
              " 'blues.00062.6.wav',\n",
              " 'blues.00062.5.wav',\n",
              " 'blues.00062.4.wav',\n",
              " 'blues.00062.3.wav',\n",
              " 'blues.00062.2.wav',\n",
              " 'blues.00062.1.wav',\n",
              " 'blues.00062.0.wav',\n",
              " 'blues.00061.9.wav',\n",
              " 'blues.00061.8.wav',\n",
              " 'blues.00061.7.wav',\n",
              " 'blues.00061.6.wav',\n",
              " 'blues.00061.5.wav',\n",
              " 'blues.00061.4.wav',\n",
              " 'blues.00061.3.wav',\n",
              " 'blues.00061.2.wav',\n",
              " 'blues.00061.1.wav',\n",
              " 'blues.00061.0.wav',\n",
              " 'blues.00060.9.wav',\n",
              " 'blues.00060.8.wav',\n",
              " 'blues.00060.7.wav',\n",
              " 'blues.00060.6.wav',\n",
              " 'blues.00060.5.wav',\n",
              " 'blues.00060.4.wav',\n",
              " 'blues.00060.3.wav',\n",
              " 'blues.00060.2.wav',\n",
              " 'blues.00060.1.wav',\n",
              " 'blues.00060.0.wav',\n",
              " 'blues.00059.9.wav',\n",
              " 'blues.00059.8.wav',\n",
              " 'blues.00059.7.wav',\n",
              " 'blues.00059.6.wav',\n",
              " 'blues.00059.5.wav',\n",
              " 'blues.00059.4.wav',\n",
              " 'blues.00059.3.wav',\n",
              " 'blues.00059.2.wav',\n",
              " 'blues.00059.1.wav',\n",
              " 'blues.00059.0.wav',\n",
              " 'blues.00058.9.wav',\n",
              " 'blues.00058.8.wav',\n",
              " 'blues.00058.7.wav',\n",
              " 'blues.00058.6.wav',\n",
              " 'blues.00058.5.wav',\n",
              " 'blues.00058.4.wav',\n",
              " 'blues.00058.3.wav',\n",
              " 'blues.00058.2.wav',\n",
              " 'blues.00058.1.wav',\n",
              " 'blues.00058.0.wav',\n",
              " 'blues.00057.9.wav',\n",
              " 'blues.00057.8.wav',\n",
              " 'blues.00057.7.wav',\n",
              " 'blues.00057.6.wav',\n",
              " 'blues.00057.5.wav',\n",
              " 'blues.00057.4.wav',\n",
              " 'blues.00057.3.wav',\n",
              " 'blues.00057.2.wav',\n",
              " 'blues.00057.1.wav',\n",
              " 'blues.00057.0.wav',\n",
              " 'blues.00056.9.wav',\n",
              " 'blues.00056.8.wav',\n",
              " 'blues.00056.7.wav',\n",
              " 'blues.00056.6.wav',\n",
              " 'blues.00056.5.wav',\n",
              " 'blues.00056.4.wav',\n",
              " 'blues.00056.3.wav',\n",
              " 'blues.00056.2.wav',\n",
              " 'blues.00056.1.wav',\n",
              " 'blues.00056.0.wav',\n",
              " 'blues.00055.9.wav',\n",
              " 'blues.00055.8.wav',\n",
              " 'blues.00055.7.wav',\n",
              " 'blues.00055.6.wav',\n",
              " 'blues.00055.5.wav',\n",
              " 'blues.00055.4.wav',\n",
              " 'blues.00055.3.wav',\n",
              " 'blues.00055.2.wav',\n",
              " 'blues.00055.1.wav',\n",
              " 'blues.00055.0.wav',\n",
              " 'blues.00054.9.wav',\n",
              " 'blues.00054.8.wav',\n",
              " 'blues.00054.7.wav',\n",
              " 'blues.00054.6.wav',\n",
              " 'blues.00054.5.wav',\n",
              " 'blues.00054.4.wav',\n",
              " 'blues.00054.3.wav',\n",
              " 'blues.00054.2.wav',\n",
              " 'blues.00054.1.wav',\n",
              " 'blues.00054.0.wav',\n",
              " 'blues.00053.9.wav',\n",
              " 'blues.00053.8.wav',\n",
              " 'blues.00053.7.wav',\n",
              " 'blues.00053.6.wav',\n",
              " 'blues.00053.5.wav',\n",
              " 'blues.00053.4.wav',\n",
              " 'blues.00053.3.wav',\n",
              " 'blues.00053.2.wav',\n",
              " 'blues.00053.1.wav',\n",
              " 'blues.00053.0.wav',\n",
              " 'blues.00052.9.wav',\n",
              " 'blues.00052.8.wav',\n",
              " 'blues.00052.7.wav',\n",
              " 'blues.00052.6.wav',\n",
              " 'blues.00052.5.wav',\n",
              " 'blues.00052.4.wav',\n",
              " 'blues.00052.3.wav',\n",
              " 'blues.00052.2.wav',\n",
              " 'blues.00052.1.wav',\n",
              " 'blues.00052.0.wav',\n",
              " 'blues.00051.9.wav',\n",
              " 'blues.00051.8.wav',\n",
              " 'blues.00051.7.wav',\n",
              " 'blues.00051.6.wav',\n",
              " 'blues.00051.5.wav',\n",
              " 'blues.00051.4.wav',\n",
              " 'blues.00051.3.wav',\n",
              " 'blues.00051.2.wav',\n",
              " 'blues.00051.1.wav',\n",
              " 'blues.00051.0.wav',\n",
              " 'blues.00050.9.wav',\n",
              " 'blues.00050.8.wav',\n",
              " 'blues.00050.7.wav',\n",
              " 'blues.00050.6.wav',\n",
              " 'blues.00050.5.wav',\n",
              " 'blues.00050.4.wav',\n",
              " 'blues.00050.3.wav',\n",
              " 'blues.00050.2.wav',\n",
              " 'blues.00050.1.wav',\n",
              " 'blues.00050.0.wav',\n",
              " 'blues.00049.9.wav',\n",
              " 'blues.00049.8.wav',\n",
              " 'blues.00049.7.wav',\n",
              " 'blues.00049.6.wav',\n",
              " 'blues.00049.5.wav',\n",
              " 'blues.00049.4.wav',\n",
              " 'blues.00049.3.wav',\n",
              " 'blues.00049.2.wav',\n",
              " 'blues.00049.1.wav',\n",
              " 'blues.00049.0.wav',\n",
              " 'blues.00048.9.wav',\n",
              " 'blues.00048.8.wav',\n",
              " 'blues.00048.7.wav',\n",
              " 'blues.00048.6.wav',\n",
              " 'blues.00048.5.wav',\n",
              " 'blues.00048.4.wav',\n",
              " 'blues.00048.3.wav',\n",
              " 'blues.00048.2.wav',\n",
              " 'blues.00048.1.wav',\n",
              " 'blues.00048.0.wav',\n",
              " 'blues.00047.9.wav',\n",
              " 'blues.00047.8.wav',\n",
              " 'blues.00047.7.wav',\n",
              " 'blues.00047.6.wav',\n",
              " 'blues.00047.5.wav',\n",
              " 'blues.00047.4.wav',\n",
              " 'blues.00047.3.wav',\n",
              " 'blues.00047.2.wav',\n",
              " 'blues.00047.1.wav',\n",
              " 'blues.00047.0.wav',\n",
              " 'blues.00046.9.wav',\n",
              " 'blues.00046.8.wav',\n",
              " 'blues.00046.7.wav',\n",
              " 'blues.00046.6.wav',\n",
              " 'blues.00046.5.wav',\n",
              " 'blues.00046.4.wav',\n",
              " 'blues.00046.3.wav',\n",
              " 'blues.00046.2.wav',\n",
              " 'blues.00046.1.wav',\n",
              " 'blues.00046.0.wav',\n",
              " 'blues.00045.9.wav',\n",
              " 'blues.00045.8.wav',\n",
              " 'blues.00045.7.wav',\n",
              " 'blues.00045.6.wav',\n",
              " 'blues.00045.5.wav',\n",
              " 'blues.00045.4.wav',\n",
              " 'blues.00045.3.wav',\n",
              " 'blues.00045.2.wav',\n",
              " 'blues.00045.1.wav',\n",
              " 'blues.00045.0.wav',\n",
              " 'blues.00044.9.wav',\n",
              " 'blues.00044.8.wav',\n",
              " 'blues.00044.7.wav',\n",
              " 'blues.00044.6.wav',\n",
              " 'blues.00044.5.wav',\n",
              " 'blues.00044.4.wav',\n",
              " 'blues.00044.3.wav',\n",
              " 'blues.00044.2.wav',\n",
              " 'blues.00044.1.wav',\n",
              " 'blues.00044.0.wav',\n",
              " 'blues.00043.9.wav',\n",
              " 'blues.00043.8.wav',\n",
              " 'blues.00043.7.wav',\n",
              " 'blues.00043.6.wav',\n",
              " 'blues.00043.5.wav',\n",
              " 'blues.00043.4.wav',\n",
              " 'blues.00043.3.wav',\n",
              " 'blues.00043.2.wav',\n",
              " 'blues.00043.1.wav',\n",
              " 'blues.00043.0.wav',\n",
              " 'blues.00042.9.wav',\n",
              " 'blues.00042.8.wav',\n",
              " 'blues.00042.7.wav',\n",
              " 'blues.00042.6.wav',\n",
              " 'blues.00042.5.wav',\n",
              " 'blues.00042.4.wav',\n",
              " 'blues.00042.3.wav',\n",
              " 'blues.00042.2.wav',\n",
              " 'blues.00042.1.wav',\n",
              " 'blues.00042.0.wav',\n",
              " 'blues.00041.9.wav',\n",
              " 'blues.00041.8.wav',\n",
              " 'blues.00041.7.wav',\n",
              " 'blues.00041.6.wav',\n",
              " 'blues.00041.5.wav',\n",
              " 'blues.00041.4.wav',\n",
              " 'blues.00041.3.wav',\n",
              " 'blues.00041.2.wav',\n",
              " 'blues.00041.1.wav',\n",
              " 'blues.00041.0.wav',\n",
              " 'blues.00040.9.wav',\n",
              " 'blues.00040.8.wav',\n",
              " 'blues.00040.7.wav',\n",
              " 'blues.00040.6.wav',\n",
              " 'blues.00040.5.wav',\n",
              " 'blues.00040.4.wav',\n",
              " 'blues.00040.3.wav',\n",
              " 'blues.00040.2.wav',\n",
              " 'blues.00040.1.wav',\n",
              " 'blues.00040.0.wav',\n",
              " 'blues.00039.9.wav',\n",
              " 'blues.00039.8.wav',\n",
              " 'blues.00039.7.wav',\n",
              " 'blues.00039.6.wav',\n",
              " 'blues.00039.5.wav',\n",
              " 'blues.00039.4.wav',\n",
              " 'blues.00039.3.wav',\n",
              " 'blues.00039.2.wav',\n",
              " 'blues.00039.1.wav',\n",
              " 'blues.00039.0.wav',\n",
              " 'blues.00038.9.wav',\n",
              " 'blues.00038.8.wav',\n",
              " 'blues.00038.7.wav',\n",
              " 'blues.00038.6.wav',\n",
              " 'blues.00038.5.wav',\n",
              " 'blues.00038.4.wav',\n",
              " 'blues.00038.3.wav',\n",
              " 'blues.00038.2.wav',\n",
              " 'blues.00038.1.wav',\n",
              " 'blues.00038.0.wav',\n",
              " 'blues.00037.9.wav',\n",
              " 'blues.00037.8.wav',\n",
              " 'blues.00037.7.wav',\n",
              " 'blues.00037.6.wav',\n",
              " 'blues.00037.5.wav',\n",
              " 'blues.00037.4.wav',\n",
              " 'blues.00037.3.wav',\n",
              " 'blues.00037.2.wav',\n",
              " 'blues.00037.1.wav',\n",
              " 'blues.00037.0.wav',\n",
              " 'blues.00036.9.wav',\n",
              " 'blues.00036.8.wav',\n",
              " 'blues.00036.7.wav',\n",
              " 'blues.00036.6.wav',\n",
              " 'blues.00036.5.wav',\n",
              " 'blues.00036.4.wav',\n",
              " 'blues.00036.3.wav',\n",
              " 'blues.00036.2.wav',\n",
              " 'blues.00036.1.wav',\n",
              " 'blues.00036.0.wav',\n",
              " 'blues.00035.9.wav',\n",
              " 'blues.00035.8.wav',\n",
              " 'blues.00035.7.wav',\n",
              " 'blues.00035.6.wav',\n",
              " 'blues.00035.5.wav',\n",
              " 'blues.00035.4.wav',\n",
              " 'blues.00035.3.wav',\n",
              " 'blues.00035.2.wav',\n",
              " 'blues.00035.1.wav',\n",
              " 'blues.00035.0.wav',\n",
              " 'blues.00034.9.wav',\n",
              " 'blues.00034.8.wav',\n",
              " 'blues.00034.7.wav',\n",
              " 'blues.00034.6.wav',\n",
              " 'blues.00034.5.wav',\n",
              " 'blues.00034.4.wav',\n",
              " 'blues.00034.3.wav',\n",
              " 'blues.00034.2.wav',\n",
              " 'blues.00034.1.wav',\n",
              " 'blues.00034.0.wav',\n",
              " 'blues.00033.9.wav',\n",
              " 'blues.00033.8.wav',\n",
              " 'blues.00033.7.wav',\n",
              " 'blues.00033.6.wav',\n",
              " 'blues.00033.5.wav',\n",
              " 'blues.00033.4.wav',\n",
              " 'blues.00033.3.wav',\n",
              " 'blues.00033.2.wav',\n",
              " 'blues.00033.1.wav',\n",
              " 'blues.00033.0.wav',\n",
              " 'blues.00032.9.wav',\n",
              " 'blues.00032.8.wav',\n",
              " 'blues.00032.7.wav',\n",
              " 'blues.00032.6.wav',\n",
              " 'blues.00032.5.wav',\n",
              " 'blues.00032.4.wav',\n",
              " 'blues.00032.3.wav',\n",
              " 'blues.00032.2.wav',\n",
              " 'blues.00032.1.wav',\n",
              " 'blues.00032.0.wav',\n",
              " 'blues.00031.9.wav',\n",
              " 'blues.00031.8.wav',\n",
              " 'blues.00031.7.wav',\n",
              " 'blues.00031.6.wav',\n",
              " 'blues.00031.5.wav',\n",
              " 'blues.00031.4.wav',\n",
              " 'blues.00031.3.wav',\n",
              " 'blues.00031.2.wav',\n",
              " 'blues.00031.1.wav',\n",
              " 'blues.00031.0.wav',\n",
              " 'blues.00030.9.wav',\n",
              " 'blues.00030.8.wav',\n",
              " 'blues.00030.7.wav',\n",
              " 'blues.00030.6.wav',\n",
              " 'blues.00030.5.wav',\n",
              " 'blues.00030.4.wav',\n",
              " 'blues.00030.3.wav',\n",
              " 'blues.00030.2.wav',\n",
              " 'blues.00030.1.wav',\n",
              " 'blues.00030.0.wav',\n",
              " 'blues.00029.9.wav',\n",
              " 'blues.00029.8.wav',\n",
              " 'blues.00029.7.wav',\n",
              " 'blues.00029.6.wav',\n",
              " 'blues.00029.5.wav',\n",
              " 'blues.00029.4.wav',\n",
              " 'blues.00029.3.wav',\n",
              " 'blues.00029.2.wav',\n",
              " 'blues.00029.1.wav',\n",
              " 'blues.00029.0.wav',\n",
              " 'blues.00028.9.wav',\n",
              " 'blues.00028.8.wav',\n",
              " 'blues.00028.7.wav',\n",
              " 'blues.00028.6.wav',\n",
              " 'blues.00028.5.wav',\n",
              " 'blues.00028.4.wav',\n",
              " 'blues.00028.3.wav',\n",
              " 'blues.00028.2.wav',\n",
              " 'blues.00028.1.wav',\n",
              " 'blues.00028.0.wav',\n",
              " 'blues.00027.9.wav',\n",
              " 'blues.00027.8.wav',\n",
              " 'blues.00027.7.wav',\n",
              " 'blues.00027.6.wav',\n",
              " 'blues.00027.5.wav',\n",
              " 'blues.00027.4.wav',\n",
              " 'blues.00027.3.wav',\n",
              " 'blues.00027.2.wav',\n",
              " 'blues.00027.1.wav',\n",
              " 'blues.00027.0.wav',\n",
              " 'blues.00026.9.wav',\n",
              " 'blues.00026.8.wav',\n",
              " 'blues.00026.7.wav',\n",
              " 'blues.00026.6.wav',\n",
              " 'blues.00026.5.wav',\n",
              " 'blues.00026.4.wav',\n",
              " 'blues.00026.3.wav',\n",
              " 'blues.00026.2.wav',\n",
              " 'blues.00026.1.wav',\n",
              " 'blues.00026.0.wav',\n",
              " 'blues.00025.9.wav',\n",
              " 'blues.00025.8.wav',\n",
              " 'blues.00025.7.wav',\n",
              " 'blues.00025.6.wav',\n",
              " 'blues.00025.5.wav',\n",
              " 'blues.00025.4.wav',\n",
              " 'blues.00025.3.wav',\n",
              " 'blues.00025.2.wav',\n",
              " 'blues.00025.1.wav',\n",
              " 'blues.00025.0.wav',\n",
              " 'blues.00024.9.wav',\n",
              " 'blues.00024.8.wav',\n",
              " 'blues.00024.7.wav',\n",
              " 'blues.00024.6.wav',\n",
              " 'blues.00024.5.wav',\n",
              " 'blues.00024.4.wav',\n",
              " 'blues.00024.3.wav',\n",
              " 'blues.00024.2.wav',\n",
              " 'blues.00024.1.wav',\n",
              " 'blues.00024.0.wav',\n",
              " 'blues.00023.9.wav',\n",
              " 'blues.00023.8.wav',\n",
              " 'blues.00023.7.wav',\n",
              " 'blues.00023.6.wav',\n",
              " 'blues.00023.5.wav',\n",
              " 'blues.00023.4.wav',\n",
              " 'blues.00023.3.wav',\n",
              " 'blues.00023.2.wav',\n",
              " 'blues.00023.1.wav',\n",
              " 'blues.00023.0.wav',\n",
              " 'blues.00022.9.wav',\n",
              " 'blues.00022.8.wav',\n",
              " 'blues.00022.7.wav',\n",
              " 'blues.00022.6.wav',\n",
              " 'blues.00022.5.wav',\n",
              " 'blues.00022.4.wav',\n",
              " 'blues.00022.3.wav',\n",
              " 'blues.00022.2.wav',\n",
              " 'blues.00022.1.wav',\n",
              " 'blues.00022.0.wav',\n",
              " 'blues.00021.9.wav',\n",
              " 'blues.00021.8.wav',\n",
              " 'blues.00021.7.wav',\n",
              " 'blues.00021.6.wav',\n",
              " 'blues.00021.5.wav',\n",
              " 'blues.00021.4.wav',\n",
              " 'blues.00021.3.wav',\n",
              " 'blues.00021.2.wav',\n",
              " 'blues.00021.1.wav',\n",
              " 'blues.00021.0.wav',\n",
              " 'blues.00020.9.wav',\n",
              " 'blues.00020.8.wav',\n",
              " 'blues.00020.7.wav',\n",
              " 'blues.00020.6.wav',\n",
              " 'blues.00020.5.wav',\n",
              " 'blues.00020.4.wav',\n",
              " 'blues.00020.3.wav',\n",
              " 'blues.00020.2.wav',\n",
              " 'blues.00020.1.wav',\n",
              " 'blues.00020.0.wav',\n",
              " 'blues.00019.9.wav',\n",
              " 'blues.00019.8.wav',\n",
              " 'blues.00019.7.wav',\n",
              " 'blues.00019.6.wav',\n",
              " 'blues.00019.5.wav',\n",
              " 'blues.00019.4.wav',\n",
              " 'blues.00019.3.wav',\n",
              " 'blues.00019.2.wav',\n",
              " 'blues.00019.1.wav',\n",
              " 'blues.00019.0.wav',\n",
              " 'blues.00018.9.wav',\n",
              " 'blues.00018.8.wav',\n",
              " 'blues.00018.7.wav',\n",
              " 'blues.00018.6.wav',\n",
              " 'blues.00018.5.wav',\n",
              " 'blues.00018.4.wav',\n",
              " 'blues.00018.3.wav',\n",
              " 'blues.00018.2.wav',\n",
              " 'blues.00018.1.wav',\n",
              " 'blues.00018.0.wav',\n",
              " 'blues.00017.9.wav',\n",
              " 'blues.00017.8.wav',\n",
              " 'blues.00017.7.wav',\n",
              " 'blues.00017.6.wav',\n",
              " 'blues.00017.5.wav',\n",
              " 'blues.00017.4.wav',\n",
              " 'blues.00017.3.wav',\n",
              " 'blues.00017.2.wav',\n",
              " 'blues.00017.1.wav',\n",
              " 'blues.00017.0.wav',\n",
              " 'blues.00016.9.wav',\n",
              " 'blues.00016.8.wav',\n",
              " 'blues.00016.7.wav',\n",
              " 'blues.00016.6.wav',\n",
              " 'blues.00016.5.wav',\n",
              " 'blues.00016.4.wav',\n",
              " 'blues.00016.3.wav',\n",
              " 'blues.00016.2.wav',\n",
              " 'blues.00016.1.wav',\n",
              " 'blues.00016.0.wav',\n",
              " 'blues.00015.9.wav',\n",
              " 'blues.00015.8.wav',\n",
              " 'blues.00015.7.wav',\n",
              " 'blues.00015.6.wav',\n",
              " 'blues.00015.5.wav',\n",
              " 'blues.00015.4.wav',\n",
              " 'blues.00015.3.wav',\n",
              " 'blues.00015.2.wav',\n",
              " 'blues.00015.1.wav',\n",
              " 'blues.00015.0.wav',\n",
              " 'blues.00014.9.wav',\n",
              " 'blues.00014.8.wav',\n",
              " 'blues.00014.7.wav',\n",
              " 'blues.00014.6.wav',\n",
              " 'blues.00014.5.wav',\n",
              " 'blues.00014.4.wav',\n",
              " 'blues.00014.3.wav',\n",
              " 'blues.00014.2.wav',\n",
              " 'blues.00014.1.wav',\n",
              " 'blues.00014.0.wav',\n",
              " 'blues.00013.9.wav',\n",
              " 'blues.00013.8.wav',\n",
              " 'blues.00013.7.wav',\n",
              " 'blues.00013.6.wav',\n",
              " 'blues.00013.5.wav',\n",
              " 'blues.00013.4.wav',\n",
              " 'blues.00013.3.wav',\n",
              " 'blues.00013.2.wav',\n",
              " 'blues.00013.1.wav',\n",
              " 'blues.00013.0.wav',\n",
              " 'blues.00012.9.wav',\n",
              " 'blues.00012.8.wav',\n",
              " 'blues.00012.7.wav',\n",
              " 'blues.00012.6.wav',\n",
              " 'blues.00012.5.wav',\n",
              " 'blues.00012.4.wav',\n",
              " 'blues.00012.3.wav',\n",
              " 'blues.00012.2.wav',\n",
              " 'blues.00012.1.wav',\n",
              " 'blues.00012.0.wav',\n",
              " 'blues.00011.9.wav',\n",
              " 'blues.00011.8.wav',\n",
              " 'blues.00011.7.wav',\n",
              " 'blues.00011.6.wav',\n",
              " 'blues.00011.5.wav',\n",
              " 'blues.00011.4.wav',\n",
              " 'blues.00011.3.wav',\n",
              " 'blues.00011.2.wav',\n",
              " 'blues.00011.1.wav',\n",
              " 'blues.00011.0.wav',\n",
              " 'blues.00010.9.wav',\n",
              " 'blues.00010.8.wav',\n",
              " 'blues.00010.7.wav',\n",
              " 'blues.00010.6.wav',\n",
              " 'blues.00010.5.wav',\n",
              " 'blues.00010.4.wav',\n",
              " 'blues.00010.3.wav',\n",
              " 'blues.00010.2.wav',\n",
              " 'blues.00010.1.wav',\n",
              " 'blues.00010.0.wav',\n",
              " 'blues.00009.9.wav',\n",
              " 'blues.00009.8.wav',\n",
              " 'blues.00009.7.wav',\n",
              " 'blues.00009.6.wav',\n",
              " 'blues.00009.5.wav',\n",
              " 'blues.00009.4.wav',\n",
              " 'blues.00009.3.wav',\n",
              " 'blues.00009.2.wav',\n",
              " 'blues.00009.1.wav',\n",
              " 'blues.00009.0.wav',\n",
              " 'blues.00008.9.wav',\n",
              " 'blues.00008.8.wav',\n",
              " 'blues.00008.7.wav',\n",
              " 'blues.00008.6.wav',\n",
              " 'blues.00008.5.wav',\n",
              " 'blues.00008.4.wav',\n",
              " 'blues.00008.3.wav',\n",
              " 'blues.00008.2.wav',\n",
              " 'blues.00008.1.wav',\n",
              " 'blues.00008.0.wav',\n",
              " 'blues.00007.9.wav',\n",
              " 'blues.00007.8.wav',\n",
              " 'blues.00007.7.wav',\n",
              " 'blues.00007.6.wav',\n",
              " 'blues.00007.5.wav',\n",
              " 'blues.00007.4.wav',\n",
              " 'blues.00007.3.wav',\n",
              " 'blues.00007.2.wav',\n",
              " 'blues.00007.1.wav',\n",
              " 'blues.00007.0.wav',\n",
              " 'blues.00006.9.wav',\n",
              " 'blues.00006.8.wav',\n",
              " 'blues.00006.7.wav',\n",
              " 'blues.00006.6.wav',\n",
              " 'blues.00006.5.wav',\n",
              " 'blues.00006.4.wav',\n",
              " 'blues.00006.3.wav',\n",
              " 'blues.00006.2.wav',\n",
              " 'blues.00006.1.wav',\n",
              " 'blues.00006.0.wav',\n",
              " 'blues.00005.9.wav',\n",
              " 'blues.00005.8.wav',\n",
              " 'blues.00005.7.wav',\n",
              " 'blues.00005.6.wav',\n",
              " 'blues.00005.5.wav',\n",
              " 'blues.00005.4.wav',\n",
              " 'blues.00005.3.wav',\n",
              " 'blues.00005.2.wav',\n",
              " 'blues.00005.1.wav',\n",
              " 'blues.00005.0.wav',\n",
              " 'blues.00004.9.wav',\n",
              " 'blues.00004.8.wav',\n",
              " 'blues.00004.7.wav',\n",
              " 'blues.00004.6.wav',\n",
              " 'blues.00004.5.wav',\n",
              " 'blues.00004.4.wav',\n",
              " 'blues.00004.3.wav',\n",
              " 'blues.00004.2.wav',\n",
              " 'blues.00004.1.wav',\n",
              " 'blues.00004.0.wav',\n",
              " 'blues.00003.9.wav',\n",
              " 'blues.00003.8.wav',\n",
              " 'blues.00003.7.wav',\n",
              " 'blues.00003.6.wav',\n",
              " 'blues.00003.5.wav',\n",
              " 'blues.00003.4.wav',\n",
              " 'blues.00003.3.wav',\n",
              " 'blues.00003.2.wav',\n",
              " 'blues.00003.1.wav',\n",
              " 'blues.00003.0.wav',\n",
              " 'blues.00002.9.wav',\n",
              " 'blues.00002.8.wav',\n",
              " 'blues.00002.7.wav',\n",
              " 'blues.00002.6.wav',\n",
              " 'blues.00002.5.wav',\n",
              " 'blues.00002.4.wav',\n",
              " 'blues.00002.3.wav',\n",
              " 'blues.00002.2.wav',\n",
              " 'blues.00002.1.wav',\n",
              " 'blues.00002.0.wav',\n",
              " 'blues.00001.9.wav',\n",
              " 'blues.00001.8.wav',\n",
              " 'blues.00001.7.wav',\n",
              " 'blues.00001.6.wav',\n",
              " 'blues.00001.5.wav',\n",
              " 'blues.00001.4.wav',\n",
              " 'blues.00001.3.wav',\n",
              " 'blues.00001.2.wav',\n",
              " 'blues.00001.1.wav',\n",
              " 'blues.00001.0.wav',\n",
              " 'blues.00000.9.wav',\n",
              " 'blues.00000.8.wav',\n",
              " 'blues.00000.7.wav',\n",
              " 'blues.00000.6.wav',\n",
              " 'blues.00000.5.wav',\n",
              " 'blues.00000.4.wav',\n",
              " 'blues.00000.3.wav',\n",
              " 'blues.00000.2.wav',\n",
              " 'blues.00000.1.wav',\n",
              " 'blues.00000.0.wav',\n",
              " 'classical.00098.9.wav',\n",
              " 'classical.00098.8.wav',\n",
              " 'classical.00098.7.wav',\n",
              " 'classical.00098.6.wav',\n",
              " 'classical.00098.5.wav',\n",
              " 'classical.00098.4.wav',\n",
              " 'classical.00098.3.wav',\n",
              " 'classical.00098.2.wav',\n",
              " 'classical.00098.1.wav',\n",
              " 'classical.00098.0.wav',\n",
              " ...]"
            ]
          },
          "metadata": {
            "tags": []
          },
          "execution_count": 14
        }
      ]
    },
    {
      "cell_type": "markdown",
      "metadata": {
        "id": "k3bh__5npxCH"
      },
      "source": [
        "#Make a Dictionary mapping sliced audio to its genres"
      ]
    },
    {
      "cell_type": "code",
      "metadata": {
        "id": "DwnTug_juM6t"
      },
      "source": [
        "def get_spectrogram(file):\n",
        "  time_series, sample_rate = librosa.load(file, sr = 44100)\n",
        "  mel_spec = librosa.feature.melspectrogram(time_series, sr = sample_rate)\n",
        "  mel_spec = librosa.core.amplitude_to_db(mel_spec)\n",
        "\n",
        "  return mel_spec"
      ],
      "execution_count": 15,
      "outputs": []
    },
    {
      "cell_type": "code",
      "metadata": {
        "id": "a3qVzakap9tz"
      },
      "source": [
        "file_to_genre = {}\n",
        "for file in all_files:\n",
        "  file_to_genre[file] = file[:file.index('.')]\n",
        "\n"
      ],
      "execution_count": 16,
      "outputs": []
    },
    {
      "cell_type": "markdown",
      "metadata": {
        "id": "1XxGiW_9qQ6y"
      },
      "source": [
        "#Make a Dictionary mapping genre to a one hot encoding of their label"
      ]
    },
    {
      "cell_type": "code",
      "metadata": {
        "id": "v4ypyPnEs-YW"
      },
      "source": [
        "import numpy as np\n",
        "def one_hot_encode(label, num_classes = 10):\n",
        "  hot = np.zeros(num_classes)\n",
        "  hot[label] = 1\n",
        "  return hot\n",
        "\n"
      ],
      "execution_count": 17,
      "outputs": []
    },
    {
      "cell_type": "code",
      "metadata": {
        "id": "4Dj5HZLbqouH",
        "colab": {
          "base_uri": "https://localhost:8080/"
        },
        "outputId": "743b3715-7ec6-44a7-c4cd-20495e713cdc"
      },
      "source": [
        "# First, correspong each genre to an integer to be one hot encoded\n",
        "genre_to_id = {'blues': 0, 'classical': 1, 'country': 2, \n",
        "               'disco': 3, 'hiphop': 4, 'jazz': 5,\n",
        "               'metal': 6, 'pop': 7, 'reggae': 8, \n",
        "               'rock':9}\n",
        "genre_to_hot = {}\n",
        "for genre in file_to_genre.values():\n",
        "  genre_to_hot[genre] = one_hot_encode(genre_to_id[genre])\n",
        "\n",
        "genre_to_hot\n"
      ],
      "execution_count": 18,
      "outputs": [
        {
          "output_type": "execute_result",
          "data": {
            "text/plain": [
              "{'blues': array([1., 0., 0., 0., 0., 0., 0., 0., 0., 0.]),\n",
              " 'classical': array([0., 1., 0., 0., 0., 0., 0., 0., 0., 0.]),\n",
              " 'country': array([0., 0., 1., 0., 0., 0., 0., 0., 0., 0.]),\n",
              " 'disco': array([0., 0., 0., 1., 0., 0., 0., 0., 0., 0.]),\n",
              " 'hiphop': array([0., 0., 0., 0., 1., 0., 0., 0., 0., 0.]),\n",
              " 'jazz': array([0., 0., 0., 0., 0., 1., 0., 0., 0., 0.]),\n",
              " 'metal': array([0., 0., 0., 0., 0., 0., 1., 0., 0., 0.]),\n",
              " 'pop': array([0., 0., 0., 0., 0., 0., 0., 1., 0., 0.]),\n",
              " 'reggae': array([0., 0., 0., 0., 0., 0., 0., 0., 1., 0.]),\n",
              " 'rock': array([0., 0., 0., 0., 0., 0., 0., 0., 0., 1.])}"
            ]
          },
          "metadata": {
            "tags": []
          },
          "execution_count": 18
        }
      ]
    },
    {
      "cell_type": "markdown",
      "metadata": {
        "id": "6NTyzu3F4LgD"
      },
      "source": [
        "#Make Mel Spectrograms"
      ]
    },
    {
      "cell_type": "code",
      "metadata": {
        "id": "xDwoTYlU5Rvs"
      },
      "source": [
        "import librosa"
      ],
      "execution_count": 21,
      "outputs": []
    },
    {
      "cell_type": "markdown",
      "metadata": {
        "id": "uvWVk5Jtr6AA"
      },
      "source": [
        "# Make a list of all spectrograms"
      ]
    },
    {
      "cell_type": "code",
      "metadata": {
        "id": "Ten6uSP_tEVl"
      },
      "source": [
        "from IPython.display import Audio\n",
        "\n",
        "Audio('drive/MyDrive/Data/'+file)"
      ],
      "execution_count": null,
      "outputs": []
    },
    {
      "cell_type": "code",
      "metadata": {
        "id": "JF--OihBUlTk"
      },
      "source": [
        "audio_specs = []\n",
        "for file in all_files:\n",
        "\n",
        "  audio_specs.append(get_spectrogram('drive/MyDrive/GTZAN Data/sliced_audios/'+file))\n",
        "\n",
        "\n",
        "  "
      ],
      "execution_count": null,
      "outputs": []
    },
    {
      "cell_type": "code",
      "metadata": {
        "colab": {
          "base_uri": "https://localhost:8080/"
        },
        "id": "g60wQqGJbIGc",
        "outputId": "29c94cac-8440-44b6-b787-3726f07a825d"
      },
      "source": [
        "len(audio_specs)"
      ],
      "execution_count": null,
      "outputs": [
        {
          "output_type": "execute_result",
          "data": {
            "text/plain": [
              "999"
            ]
          },
          "metadata": {
            "tags": []
          },
          "execution_count": 45
        }
      ]
    },
    {
      "cell_type": "markdown",
      "metadata": {
        "id": "VojB119JsDH5"
      },
      "source": [
        "#Cleaning up Spectrogram Data"
      ]
    },
    {
      "cell_type": "code",
      "metadata": {
        "colab": {
          "base_uri": "https://localhost:8080/"
        },
        "id": "nwgjBAQoUAbB",
        "outputId": "501bb669-c773-4ca5-cf5f-ec3ab20556ee"
      },
      "source": [
        "\n",
        "from statistics import mode\n",
        "col_shapes = [spec.shape[1] for spec in audio_specs]\n",
        "\n",
        "#print(col_shapes.count(2586) )\n",
        "#print(col_shapes.count(2585))\n",
        "print(len([shape for shape in col_shapes if shape > 259]))\n",
        "print(len([shape for shape in col_shapes if shape < 259]))\n",
        "print(mode(col_shapes))\n",
        "#print(len(all_audio_specs))"
      ],
      "execution_count": null,
      "outputs": [
        {
          "output_type": "stream",
          "text": [
            "0\n",
            "4\n",
            "259\n"
          ],
          "name": "stdout"
        }
      ]
    },
    {
      "cell_type": "code",
      "metadata": {
        "id": "OzHCINaMflJQ"
      },
      "source": [
        "#remove = []\n",
        "#print(len(audio_specs))\n",
        "for i in range(len(audio_specs)):\n",
        "  if audio_specs[i].shape[1] > 253:\n",
        "      idxs = np.arange(253, audio_specs[i].shape[1])\n",
        "      audio_specs[i] = np.delete(audio_specs[i], [idxs], axis=1)\n",
        "#for spec in audio_specs:\n",
        "\n",
        "  #print(spec.shape)\n",
        "\n",
        "\n",
        "\n"
      ],
      "execution_count": null,
      "outputs": []
    },
    {
      "cell_type": "markdown",
      "metadata": {
        "id": "RRH_-CqFsKro"
      },
      "source": [
        "#Save spectrograms to an NPY file"
      ]
    },
    {
      "cell_type": "code",
      "metadata": {
        "id": "WbpR0O9dkolJ"
      },
      "source": [
        "from numpy import asarray\n",
        "from numpy import save\n",
        "\n",
        "audio_specs= asarray(audio_specs)\n",
        "save('audio_specs.npy',audio_specs)"
      ],
      "execution_count": null,
      "outputs": []
    },
    {
      "cell_type": "code",
      "metadata": {
        "id": "IZOoe5PuwJEs"
      },
      "source": [
        "import numpy as np\n",
        "audio_specs = np.load('drive/My Drive/audio_specs.npy')"
      ],
      "execution_count": null,
      "outputs": []
    },
    {
      "cell_type": "code",
      "metadata": {
        "colab": {
          "base_uri": "https://localhost:8080/"
        },
        "id": "SmFFE44ukfTf",
        "outputId": "de56d98c-f4dd-40ec-cd75-10fc14aa0bd0"
      },
      "source": [
        "len(audio_specs)"
      ],
      "execution_count": null,
      "outputs": [
        {
          "output_type": "execute_result",
          "data": {
            "text/plain": [
              "999"
            ]
          },
          "metadata": {
            "tags": []
          },
          "execution_count": 37
        }
      ]
    },
    {
      "cell_type": "markdown",
      "metadata": {
        "id": "FSOs1IM7V272"
      },
      "source": [
        "Make Training and Validation Sets"
      ]
    },
    {
      "cell_type": "code",
      "metadata": {
        "colab": {
          "base_uri": "https://localhost:8080/"
        },
        "id": "pCY4yFY8dtz-",
        "outputId": "3e0634f0-1197-4d8e-d02a-63ec53cecd30"
      },
      "source": [
        "#all_labels = genre_to_hot.values()\n",
        "#all_labels[:50]\n",
        "all_labels = []\n",
        "for genre in file_to_genre.values():\n",
        "  all_labels.append(genre_to_hot[genre])\n",
        "\n",
        "len(all_labels)"
      ],
      "execution_count": null,
      "outputs": [
        {
          "output_type": "execute_result",
          "data": {
            "text/plain": [
              "9990"
            ]
          },
          "metadata": {
            "tags": []
          },
          "execution_count": 39
        }
      ]
    },
    {
      "cell_type": "code",
      "metadata": {
        "id": "YYugZ9ZjV6lF",
        "colab": {
          "base_uri": "https://localhost:8080/"
        },
        "outputId": "26017b63-43f4-449e-d130-c6437b5859b8"
      },
      "source": [
        "# Read in all values and shuffle\n",
        "import numpy as np\n",
        "cutoff = 0.8\n",
        "inputs = np.array(audio_specs) \n",
        "idxs = np.arange(len(audio_specs))\n",
        "np.random.shuffle(idxs)\n",
        "print(idxs)\n",
        "train_set = inputs[idxs][:int(len(audio_specs) * cutoff)]\n",
        "train_labels = np.array(all_labels)[idxs][:int(len(audio_specs) * cutoff)]\n",
        "test_set = inputs[idxs][int(len(audio_specs) * cutoff):]\n",
        "test_labels = np.array(all_labels)[idxs][int(len(audio_specs) * cutoff):]\n",
        "print(train_set[0])\n",
        "\n",
        "#799\n",
        "\n"
      ],
      "execution_count": null,
      "outputs": [
        {
          "output_type": "stream",
          "text": [
            "[423 603 623 809 233 866 763 536 262 739 537 887 778 720 551 212 686  53\n",
            " 839 284 895 179 287 907 693 977 911 471 126 495 500 990 364 460 538 681\n",
            " 474 429 781 710 407 550 184 717 943 912 672 811 171 559 613 577 930 638\n",
            " 909 519 736 886 320 158 525 450 566 327 410 890 573 697 316 515 244 565\n",
            " 929 727 365 232 321 649 862 914 541 756 704 558 908 312 689 569   2 657\n",
            " 496 979 587 462 104 281 263 989  33 755  57 172 988 481 640 103 805 742\n",
            " 827 752 703 242 240 354 134 416 675 389 149 221 592 574 679 113 664 193\n",
            " 220 798 894 749 348 860 106 985 539 115 876  40 621 169 885 769 518 842\n",
            " 182 877 888  45 987 595 795 464 488 648 427  37 626 369 643 753 406 376\n",
            " 713 730 949 254  69  42  19 265 440 370 591 501 901 434 466 358 461  81\n",
            " 323 674  38 789 617 528 192 386 530 531 417 575 234 654 415 540 794 120\n",
            " 394 668 355 489 215 880 937 269 289 620 784 177 313 696 513 310  13 915\n",
            " 308 627 385  51 757  85 190 356 237 807 594 998 266 509 437 345 286 760\n",
            " 535  61 861 922 542  74 850 457 272 480 470 100 543 678 411 853 996 176\n",
            " 981 716 741 628  72 125 199 165  62 328 606 746 319 188 958 639 882   0\n",
            " 274 155 552 944 854 709  54 838 960 731 189 153 891 872 296 219 118 207\n",
            " 336 374 765 982 708  76 486 138 166 309 510 185 873 712 121 921 800 666\n",
            "  16 597 205 804 849 705 601 663 750 836 660 790 636 487 658 706 366 147\n",
            " 899 152 641 622 582 685 209  70 584 748 604 123 400 555 482 419 425 351\n",
            " 253 986 796 344 966  94 609  23 413 913 952 785  14 175 632 819 661 669\n",
            " 492 204 432 904 442 208 264 655 562 396 529 651 412 702 160 995 732 687\n",
            "  25 737 808 662 124  22  50 304 841 813 347  55 245 372  75 398 905  66\n",
            " 300 170 307 646 734 851 953 527 384 968 991  48 917 570 767 454 780 802\n",
            " 919 268 339 984 797  26 624 579 252 255 684 837 302 723 735 476 448 698\n",
            " 766 393 349 801 857 128 140  89  87 167  59 967 479 465 499   3  99  46\n",
            " 346 504 228 972 164 865 107 964 260 563 352  39 227 926 650 707 611 523\n",
            " 576 250 553 428  97 629 371 148 214 956 343 133  15 803 738 283 549  83\n",
            "  30 408 210 560 409 598 777 677 216 431 799 868 745 324 421 701 420  63\n",
            " 292 463 110 332 983 932 211 945 863 306 823 223 695 858 520 258  41 200\n",
            " 874 467 754 329 644   7 761 534 111   5 357 494 774 218 342 759 963 251\n",
            " 363 743 770 728 815 294 243 447 830   4  90 567 814 101 261 436 545 902\n",
            " 978 896 764  80 744 238 970 934 521 508 959 194 812 775 616 806  11 729\n",
            " 524 112 297 483 108 590 870 625 277 522 665 869 593 498 145 786 279  71\n",
            " 589 957 142 337 291 946 928 230  58 910 453 379 779 875 955 119 378   1\n",
            " 581 568 965 414 993 831   6 733 976 925  60 772 826 997  56 168 201 859\n",
            " 401 607 578 680 322 942 846 683 315 373 719 273 288  47 793 947 502 353\n",
            " 938  18 900 390 335 129 367 580 600 387 773 282 825 835 923 971 340 226\n",
            " 239 791 472 834 473 186 954  32 146 884 975 217 298 878 610 787 278 330\n",
            " 864  78 783 505  20  27 305 388 533 130 572 109 405 163 699 688 331 897\n",
            " 181 585 301  17 350 816 758 690 711 249 368 924 517 391 546 229 810 974\n",
            " 969 893 903 516 548 962 642 114 898 493  73 271 656 961 455 485 144 871\n",
            " 449 615 318 614 935 341 832 143 198 906  98 359 725 931 183 637 403 399\n",
            "  10 127 918 927 503 840 771 948 174  64 203 818 676 507 941 196 131  24\n",
            " 889  35 333  84 845 526 456 920 458 747  31  91 682 833 992 512 426 303\n",
            " 939 362 439 484 402 612 334 718   9 883 338 722 187 647 105 556 259 241\n",
            " 762 247 879 375 468 667 619 829 116 511 404 892 392  44 692 653 380 132\n",
            " 154 280 248 225 206 231 547 633 564 844 314 102 157 634 631 452 383 451\n",
            " 441 276 317  67 554 173 847  29 377  79 980  21 557 602 881 435 776  86\n",
            " 824 630 236 726 290  28  92 571  52 788 645 438  93  65 586 257 156  96\n",
            " 848 691 285 178 673 740 256 715 295 477 588 933 478 150 275 506 491 855\n",
            " 191 195 139 916 137  36  12 360 422   8 599 270 768 159 532 950 311 652\n",
            " 951  68  95 635 700 514 235 180 397 583 828 444 267 430 161 670 822 820\n",
            "  88 714 469 852 141 395  77 782 326 443 843 475 213 544 497 973 162 151\n",
            " 671 867 751 381 135 608 721 117 459 299 445 817 222  49 792 596  43 936\n",
            " 202 605 433 122 361  34 994 325 659 446 382 694 856 197 224 940 418 821\n",
            " 561 618 724 246  82 136 424 490 293]\n",
            "[[  9.352372   16.78954    14.703014  ...   2.5554476 -10.393173\n",
            "   -9.302081 ]\n",
            " [ 24.027613   24.102432   25.353937  ...  16.206076   16.418297\n",
            "   25.149384 ]\n",
            " [ 26.234818   21.953485   34.933624  ...  37.60895    36.936554\n",
            "   43.495235 ]\n",
            " ...\n",
            " [-10.393173  -10.393173  -10.393173  ... -10.393173  -10.393173\n",
            "  -10.393173 ]\n",
            " [-10.393173  -10.393173  -10.393173  ... -10.393173  -10.393173\n",
            "  -10.393173 ]\n",
            " [-10.393173  -10.393173  -10.393173  ... -10.393173  -10.393173\n",
            "  -10.393173 ]]\n"
          ],
          "name": "stdout"
        }
      ]
    },
    {
      "cell_type": "code",
      "metadata": {
        "colab": {
          "base_uri": "https://localhost:8080/"
        },
        "id": "jVGBklawnEth",
        "outputId": "35b565f5-d80f-4542-82a6-a29b9ec0a6da"
      },
      "source": [
        "inputs[292]"
      ],
      "execution_count": null,
      "outputs": [
        {
          "output_type": "execute_result",
          "data": {
            "text/plain": [
              "array([[ 20.53364 ,  20.233936,  17.772264, ...,  25.689217,  23.90738 ,\n",
              "         20.048178],\n",
              "       [ 31.731358,  32.97166 ,  33.98305 , ...,  27.780706,  28.905878,\n",
              "         25.125666],\n",
              "       [ 24.461105,  24.361794,  31.879084, ...,  29.394882,  29.86574 ,\n",
              "         23.567589],\n",
              "       ...,\n",
              "       [-15.90139 , -15.90139 , -15.90139 , ..., -15.90139 , -15.90139 ,\n",
              "        -15.90139 ],\n",
              "       [-15.90139 , -15.90139 , -15.90139 , ..., -15.90139 , -15.90139 ,\n",
              "        -15.90139 ],\n",
              "       [-15.90139 , -15.90139 , -15.90139 , ..., -15.90139 , -15.90139 ,\n",
              "        -15.90139 ]], dtype=float32)"
            ]
          },
          "metadata": {
            "tags": []
          },
          "execution_count": 62
        }
      ]
    },
    {
      "cell_type": "code",
      "metadata": {
        "colab": {
          "base_uri": "https://localhost:8080/"
        },
        "id": "q0rr3QEzfyUs",
        "outputId": "475be9aa-f9cd-4ee6-f81d-d01146544817"
      },
      "source": [
        ""
      ],
      "execution_count": null,
      "outputs": [
        {
          "output_type": "execute_result",
          "data": {
            "text/plain": [
              "array([[1., 0., 0., ..., 0., 0., 0.],\n",
              "       [1., 0., 0., ..., 0., 0., 0.],\n",
              "       [1., 0., 0., ..., 0., 0., 0.],\n",
              "       ...,\n",
              "       [1., 0., 0., ..., 0., 0., 0.],\n",
              "       [1., 0., 0., ..., 0., 0., 0.],\n",
              "       [1., 0., 0., ..., 0., 0., 0.]])"
            ]
          },
          "metadata": {
            "tags": []
          },
          "execution_count": 46
        }
      ]
    },
    {
      "cell_type": "code",
      "metadata": {
        "colab": {
          "base_uri": "https://localhost:8080/"
        },
        "id": "-vsOcWmKnGII",
        "outputId": "c36f58a8-472e-42ae-a701-3ca979c8915e"
      },
      "source": [
        "pip install keras-utils"
      ],
      "execution_count": null,
      "outputs": [
        {
          "output_type": "stream",
          "text": [
            "Collecting keras-utils\n",
            "  Downloading keras-utils-1.0.13.tar.gz (2.4 kB)\n",
            "Requirement already satisfied: Keras>=2.1.5 in /usr/local/lib/python3.7/dist-packages (from keras-utils) (2.4.3)\n",
            "Requirement already satisfied: scipy>=0.14 in /usr/local/lib/python3.7/dist-packages (from Keras>=2.1.5->keras-utils) (1.4.1)\n",
            "Requirement already satisfied: pyyaml in /usr/local/lib/python3.7/dist-packages (from Keras>=2.1.5->keras-utils) (3.13)\n",
            "Requirement already satisfied: numpy>=1.9.1 in /usr/local/lib/python3.7/dist-packages (from Keras>=2.1.5->keras-utils) (1.19.5)\n",
            "Requirement already satisfied: h5py in /usr/local/lib/python3.7/dist-packages (from Keras>=2.1.5->keras-utils) (3.1.0)\n",
            "Requirement already satisfied: cached-property in /usr/local/lib/python3.7/dist-packages (from h5py->Keras>=2.1.5->keras-utils) (1.5.2)\n",
            "Building wheels for collected packages: keras-utils\n",
            "  Building wheel for keras-utils (setup.py) ... \u001b[?25l\u001b[?25hdone\n",
            "  Created wheel for keras-utils: filename=keras_utils-1.0.13-py3-none-any.whl size=2657 sha256=34f284b89f8c3aeebf8ed7e56937cf563181c6da1d04ebdd615da3152e7b0587\n",
            "  Stored in directory: /root/.cache/pip/wheels/d0/dd/3b/493952a5240d486a83805d65360dedadbadeae71d25e2c877f\n",
            "Successfully built keras-utils\n",
            "Installing collected packages: keras-utils\n",
            "Successfully installed keras-utils-1.0.13\n"
          ],
          "name": "stdout"
        }
      ]
    },
    {
      "cell_type": "code",
      "metadata": {
        "id": "UqVng5rTWM_w"
      },
      "source": [
        "def one_hot_encode(label, num_classes):\n",
        "  hot = np.zeros(num_classes)\n",
        "  hot[label] = 1\n",
        "  return hot"
      ],
      "execution_count": null,
      "outputs": []
    },
    {
      "cell_type": "code",
      "metadata": {
        "id": "CG-oVK_xkpUp"
      },
      "source": [
        "\n",
        "genre_to_id = {'blues': [1,0,0,0,0,0,0,0,0,0], 'classical': [0,1,0,0,0,0,0,0,0,0], 'country': [0,0,1,0,0,0,0,0,0,0], \n",
        "               'disco': [0,0,0,1,0,0,0,0,0,0], 'hiphop': [0,0,0,0,1,0,0,0,0,0], 'jazz': [0,0,0,0,0,1,0,0,0,0],\n",
        "               'metal': [0,0,0,0,0,0,1,0,0,0], 'pop': [0,0,0,0,0,0,0,1,0,0], 'reggae': [0,0,0,0,0,0,0,0,1,0], \n",
        "               'rock': [0,0,0,0,0,0,0,0,0,1]}\n",
        "\n",
        "train_labels = list(train_labels)\n",
        "for i in range(len(train_labels)):\n",
        "  \n",
        "  train_labels[i] = genre_to_id[train_labels[i]]\n",
        "  \n",
        "\n",
        "\n",
        "test_labels = list(test_labels)\n",
        "for i in range(len(test_labels)):\n",
        "  test_labels[i] = genre_to_id[test_labels[i]]\n",
        "\n"
      ],
      "execution_count": null,
      "outputs": []
    },
    {
      "cell_type": "code",
      "metadata": {
        "id": "9pzljE7N46n8"
      },
      "source": [
        "test_labels = np.array(test_labels)\n",
        "train_labels = np.array(train_labels)"
      ],
      "execution_count": null,
      "outputs": []
    },
    {
      "cell_type": "code",
      "metadata": {
        "id": "nvM0azp4XTnH"
      },
      "source": [
        "\n",
        "import tensorflow as tf"
      ],
      "execution_count": null,
      "outputs": []
    },
    {
      "cell_type": "markdown",
      "metadata": {
        "id": "TFCX3a5R0FNL"
      },
      "source": [
        "**CRNN Model**"
      ]
    },
    {
      "cell_type": "code",
      "metadata": {
        "id": "Tuzf4tw20KUN"
      },
      "source": [
        "N_LAYERS = 3\n",
        "FILTER_LENGTH = 5\n",
        "CONV_FILTER_COUNT = 56\n",
        "batch_size = 32\n",
        "LSTM_COUNT = 96\n",
        "EPOCH_COUNT = 70\n",
        "NUM_HIDDEN = 64\n",
        "L2_regularization = 0.003\n",
        "\n",
        "def conv_recurrent_model_build(model_input, num_classes = 10, n_layers = 3, filter_size = 5, num_filters = 56,lstm_cnt = 96, num_hidden = 64, l2_reg = 0.001):\n",
        "    print('Building model...')\n",
        "    layer = model_input\n",
        "    \n",
        "    ### 3 1D Convolution Layers\n",
        "    for i in range(n_layers):\n",
        "        # give name to the layers\n",
        "        layer = Conv1D(\n",
        "                filters=num_filters,\n",
        "                kernel_size=filter_size,\n",
        "                kernel_regularizer=regularizers.l2(l2_reg),  \n",
        "                name='convolution_' + str(i + 1)\n",
        "            )(layer)\n",
        "        layer = BatchNormalization(momentum=0.9)(layer)\n",
        "        layer = Activation('relu')(layer)\n",
        "        layer = MaxPooling1D(2)(layer)\n",
        "        layer = Dropout(0.5)(layer)\n",
        "    \n",
        "    ## LSTM Layer\n",
        "    layer = LSTM(lstm_cnt, activation=\"relu\", return_sequences=False)(layer)\n",
        "    layer = Dropout(0.5)(layer)\n",
        "    \n",
        "    ## Dense Layer\n",
        "    layer = Dense(num_hidden, kernel_regularizer=regularizers.l2(l2_reg), name='dense1')(layer)\n",
        "    layer = Dropout(0.5)(layer)\n",
        "    \n",
        "    ## Softmax Output\n",
        "    layer = Dense(num_classes)(layer)\n",
        "    layer = Activation('softmax', name='output_realtime')(layer)\n",
        "    model_output = layer\n",
        "    model = Model(model_input, model_output)\n",
        "    \n",
        "    \n",
        "    opt = SGD(learning_rate=0.01)\n",
        "    model.compile(\n",
        "            loss='categorical_crossentropy',\n",
        "            optimizer=opt,\n",
        "            metrics=['accuracy']\n",
        "        )\n",
        "    \n",
        "    #print(model.summary())\n",
        "    return model"
      ],
      "execution_count": null,
      "outputs": []
    },
    {
      "cell_type": "code",
      "metadata": {
        "id": "bnuZPiCFPncu"
      },
      "source": [
        "def train_model(x_train, y_train, x_val, y_val):\n",
        "    \n",
        "    n_features = x_train.shape[2]\n",
        "    input_shape = (None, n_features)\n",
        "    model_input = Input(input_shape, name='input')\n",
        "    \n",
        "    model = conv_recurrent_model_build(model_input)\n",
        "\n",
        "    checkpoint = ModelCheckpoint('best_params.hd5', monitor='val_accuracy', verbose=1,\n",
        "                                          save_best_only=True, mode='max')\n",
        "    \n",
        "    reducelr = ReduceLROnPlateau(\n",
        "                monitor='val_accuracy', factor=0.5, patience=10, min_delta=0.01,\n",
        "                verbose=1\n",
        "            )\n",
        "    callbacks = [checkpoint, reducelr]\n",
        "\n",
        "    # Fit the model and get training history\n",
        "    \n",
        "    history = model.fit(x_train, y_train, batch_size=32, epochs=EPOCH_COUNT,\n",
        "                        validation_data=(x_val, y_val), verbose=1, callbacks=callbacks)\n",
        "\n",
        "    return model, history"
      ],
      "execution_count": null,
      "outputs": []
    },
    {
      "cell_type": "code",
      "metadata": {
        "id": "C7aCVObaPs1b"
      },
      "source": [
        "def show_summary_stats(history):\n",
        "    # List all data in history\n",
        "    print(history.history.keys())\n",
        "\n",
        "    # Summarize history for accuracy\n",
        "    plt.plot(history.history['accuracy'])\n",
        "    plt.plot(history.history['val_accuracy'])\n",
        "    plt.title('model accuracy')\n",
        "    plt.ylabel('accuracy')\n",
        "    plt.xlabel('epoch')\n",
        "    plt.legend(['train', 'test'], loc='upper left')\n",
        "    plt.show()\n",
        "\n",
        "    # Summarize history for loss\n",
        "    plt.plot(history.history['loss'])\n",
        "    plt.plot(history.history['val_loss'])\n",
        "    plt.title('model loss')\n",
        "    plt.ylabel('loss')\n",
        "    plt.xlabel('epoch')\n",
        "    plt.legend(['train', 'test'], loc='upper left')\n",
        "    plt.show()"
      ],
      "execution_count": null,
      "outputs": []
    },
    {
      "cell_type": "code",
      "metadata": {
        "id": "9z-6m5lKgq6L"
      },
      "source": [
        "import numpy as np\n",
        "import os\n",
        "from os.path import isfile\n",
        "import keras\n",
        "from keras.models import Sequential, Model\n",
        "from keras.layers import Input, Dense, TimeDistributed, LSTM, Dropout, Activation\n",
        "from keras.layers import Conv1D, MaxPooling1D, Flatten, Conv2D, BatchNormalization, Lambda\n",
        "from keras.layers.advanced_activations import ELU\n",
        "from keras.callbacks import ModelCheckpoint, TensorBoard, ReduceLROnPlateau\n",
        "from keras import backend\n",
        "from keras.utils import np_utils\n",
        "from keras.optimizers import RMSprop, SGD\n",
        "\n",
        "from keras import regularizers\n",
        "\n",
        "import librosa.display\n",
        "import matplotlib.pyplot as plt\n",
        "%matplotlib inline"
      ],
      "execution_count": null,
      "outputs": []
    },
    {
      "cell_type": "code",
      "metadata": {
        "colab": {
          "base_uri": "https://localhost:8080/"
        },
        "id": "UJw5l1l4gY2H",
        "outputId": "8ff77e39-132b-42fe-e866-201ae0dcf5c1"
      },
      "source": [
        "\n",
        "model, history  = train_model(train_set, train_labels, test_set, test_labels)"
      ],
      "execution_count": null,
      "outputs": [
        {
          "output_type": "stream",
          "text": [
            "Building model...\n",
            "WARNING:tensorflow:Layer lstm will not use cuDNN kernels since it doesn't meet the criteria. It will use a generic GPU kernel as fallback when running on GPU.\n",
            "Epoch 1/70\n",
            "25/25 [==============================] - 58s 130ms/step - loss: 1.8830 - accuracy: 0.5428 - val_loss: 0.8801 - val_accuracy: 1.0000\n",
            "\n",
            "Epoch 00001: val_accuracy improved from -inf to 1.00000, saving model to best_params.hd5\n",
            "INFO:tensorflow:Assets written to: best_params.hd5/assets\n",
            "Epoch 2/70\n",
            "25/25 [==============================] - 2s 69ms/step - loss: 0.4220 - accuracy: 0.9844 - val_loss: 0.4357 - val_accuracy: 1.0000\n",
            "\n",
            "Epoch 00002: val_accuracy did not improve from 1.00000\n",
            "Epoch 3/70\n",
            "25/25 [==============================] - 2s 68ms/step - loss: 0.3298 - accuracy: 0.9944 - val_loss: 0.3382 - val_accuracy: 1.0000\n",
            "\n",
            "Epoch 00003: val_accuracy did not improve from 1.00000\n",
            "Epoch 4/70\n",
            "25/25 [==============================] - 2s 75ms/step - loss: 0.3181 - accuracy: 0.9966 - val_loss: 0.3125 - val_accuracy: 1.0000\n",
            "\n",
            "Epoch 00004: val_accuracy did not improve from 1.00000\n",
            "Epoch 5/70\n",
            "25/25 [==============================] - 2s 70ms/step - loss: 0.3075 - accuracy: 0.9996 - val_loss: 0.3201 - val_accuracy: 1.0000\n",
            "\n",
            "Epoch 00005: val_accuracy did not improve from 1.00000\n",
            "Epoch 6/70\n",
            "25/25 [==============================] - 2s 69ms/step - loss: 0.3039 - accuracy: 0.9999 - val_loss: 0.3199 - val_accuracy: 1.0000\n",
            "\n",
            "Epoch 00006: val_accuracy did not improve from 1.00000\n",
            "Epoch 7/70\n",
            "25/25 [==============================] - 2s 72ms/step - loss: 0.3018 - accuracy: 1.0000 - val_loss: 0.3042 - val_accuracy: 1.0000\n",
            "\n",
            "Epoch 00007: val_accuracy did not improve from 1.00000\n",
            "Epoch 8/70\n",
            "25/25 [==============================] - 2s 69ms/step - loss: 0.3036 - accuracy: 1.0000 - val_loss: 0.3029 - val_accuracy: 1.0000\n",
            "\n",
            "Epoch 00008: val_accuracy did not improve from 1.00000\n",
            "Epoch 9/70\n",
            "25/25 [==============================] - 2s 70ms/step - loss: 0.3000 - accuracy: 1.0000 - val_loss: 0.3006 - val_accuracy: 1.0000\n",
            "\n",
            "Epoch 00009: val_accuracy did not improve from 1.00000\n",
            "Epoch 10/70\n",
            "25/25 [==============================] - 2s 70ms/step - loss: 0.2985 - accuracy: 1.0000 - val_loss: 0.2997 - val_accuracy: 1.0000\n",
            "\n",
            "Epoch 00010: val_accuracy did not improve from 1.00000\n",
            "Epoch 11/70\n",
            "25/25 [==============================] - 2s 68ms/step - loss: 0.3014 - accuracy: 0.9988 - val_loss: 0.3036 - val_accuracy: 1.0000\n",
            "\n",
            "Epoch 00011: val_accuracy did not improve from 1.00000\n",
            "\n",
            "Epoch 00011: ReduceLROnPlateau reducing learning rate to 0.004999999888241291.\n",
            "Epoch 12/70\n",
            "25/25 [==============================] - 2s 68ms/step - loss: 0.2980 - accuracy: 1.0000 - val_loss: 0.2988 - val_accuracy: 1.0000\n",
            "\n",
            "Epoch 00012: val_accuracy did not improve from 1.00000\n",
            "Epoch 13/70\n",
            "25/25 [==============================] - 3s 102ms/step - loss: 0.2987 - accuracy: 1.0000 - val_loss: 0.2995 - val_accuracy: 1.0000\n",
            "\n",
            "Epoch 00013: val_accuracy did not improve from 1.00000\n",
            "Epoch 14/70\n",
            "25/25 [==============================] - 2s 98ms/step - loss: 0.2998 - accuracy: 1.0000 - val_loss: 0.2983 - val_accuracy: 1.0000\n",
            "\n",
            "Epoch 00014: val_accuracy did not improve from 1.00000\n",
            "Epoch 15/70\n",
            "25/25 [==============================] - 2s 92ms/step - loss: 0.2986 - accuracy: 1.0000 - val_loss: 0.2978 - val_accuracy: 1.0000\n",
            "\n",
            "Epoch 00015: val_accuracy did not improve from 1.00000\n",
            "Epoch 16/70\n",
            "25/25 [==============================] - 2s 101ms/step - loss: 0.2967 - accuracy: 1.0000 - val_loss: 0.2973 - val_accuracy: 1.0000\n",
            "\n",
            "Epoch 00016: val_accuracy did not improve from 1.00000\n",
            "Epoch 17/70\n",
            "25/25 [==============================] - 3s 101ms/step - loss: 0.2980 - accuracy: 0.9996 - val_loss: 0.2973 - val_accuracy: 1.0000\n",
            "\n",
            "Epoch 00017: val_accuracy did not improve from 1.00000\n",
            "Epoch 18/70\n",
            "25/25 [==============================] - 3s 102ms/step - loss: 0.2959 - accuracy: 1.0000 - val_loss: 0.2969 - val_accuracy: 1.0000\n",
            "\n",
            "Epoch 00018: val_accuracy did not improve from 1.00000\n",
            "Epoch 19/70\n",
            "25/25 [==============================] - 2s 68ms/step - loss: 0.2967 - accuracy: 1.0000 - val_loss: 0.2965 - val_accuracy: 1.0000\n",
            "\n",
            "Epoch 00019: val_accuracy did not improve from 1.00000\n",
            "Epoch 20/70\n",
            "25/25 [==============================] - 2s 68ms/step - loss: 0.2973 - accuracy: 1.0000 - val_loss: 0.2967 - val_accuracy: 1.0000\n",
            "\n",
            "Epoch 00020: val_accuracy did not improve from 1.00000\n",
            "Epoch 21/70\n",
            "25/25 [==============================] - 2s 69ms/step - loss: 0.2977 - accuracy: 0.9992 - val_loss: 0.2959 - val_accuracy: 1.0000\n",
            "\n",
            "Epoch 00021: val_accuracy did not improve from 1.00000\n",
            "\n",
            "Epoch 00021: ReduceLROnPlateau reducing learning rate to 0.0024999999441206455.\n",
            "Epoch 22/70\n",
            "25/25 [==============================] - 2s 69ms/step - loss: 0.2983 - accuracy: 1.0000 - val_loss: 0.2964 - val_accuracy: 1.0000\n",
            "\n",
            "Epoch 00022: val_accuracy did not improve from 1.00000\n",
            "Epoch 23/70\n",
            "25/25 [==============================] - 2s 67ms/step - loss: 0.2959 - accuracy: 1.0000 - val_loss: 0.2966 - val_accuracy: 1.0000\n",
            "\n",
            "Epoch 00023: val_accuracy did not improve from 1.00000\n",
            "Epoch 24/70\n",
            "25/25 [==============================] - 2s 68ms/step - loss: 0.2966 - accuracy: 1.0000 - val_loss: 0.2960 - val_accuracy: 1.0000\n",
            "\n",
            "Epoch 00024: val_accuracy did not improve from 1.00000\n",
            "Epoch 25/70\n",
            "25/25 [==============================] - 2s 70ms/step - loss: 0.2959 - accuracy: 1.0000 - val_loss: 0.2961 - val_accuracy: 1.0000\n",
            "\n",
            "Epoch 00025: val_accuracy did not improve from 1.00000\n",
            "Epoch 26/70\n",
            "25/25 [==============================] - 2s 69ms/step - loss: 0.2970 - accuracy: 1.0000 - val_loss: 0.2959 - val_accuracy: 1.0000\n",
            "\n",
            "Epoch 00026: val_accuracy did not improve from 1.00000\n",
            "Epoch 27/70\n",
            "25/25 [==============================] - 2s 69ms/step - loss: 0.2956 - accuracy: 1.0000 - val_loss: 0.2957 - val_accuracy: 1.0000\n",
            "\n",
            "Epoch 00027: val_accuracy did not improve from 1.00000\n",
            "Epoch 28/70\n",
            "25/25 [==============================] - 2s 70ms/step - loss: 0.2963 - accuracy: 1.0000 - val_loss: 0.2956 - val_accuracy: 1.0000\n",
            "\n",
            "Epoch 00028: val_accuracy did not improve from 1.00000\n",
            "Epoch 29/70\n",
            "25/25 [==============================] - 2s 69ms/step - loss: 0.2957 - accuracy: 1.0000 - val_loss: 0.2955 - val_accuracy: 1.0000\n",
            "\n",
            "Epoch 00029: val_accuracy did not improve from 1.00000\n",
            "Epoch 30/70\n",
            "25/25 [==============================] - 2s 67ms/step - loss: 0.2952 - accuracy: 1.0000 - val_loss: 0.2955 - val_accuracy: 1.0000\n",
            "\n",
            "Epoch 00030: val_accuracy did not improve from 1.00000\n",
            "Epoch 31/70\n",
            "25/25 [==============================] - 2s 67ms/step - loss: 0.2952 - accuracy: 1.0000 - val_loss: 0.2952 - val_accuracy: 1.0000\n",
            "\n",
            "Epoch 00031: val_accuracy did not improve from 1.00000\n",
            "\n",
            "Epoch 00031: ReduceLROnPlateau reducing learning rate to 0.0012499999720603228.\n",
            "Epoch 32/70\n",
            "25/25 [==============================] - 2s 64ms/step - loss: 0.2955 - accuracy: 1.0000 - val_loss: 0.2953 - val_accuracy: 1.0000\n",
            "\n",
            "Epoch 00032: val_accuracy did not improve from 1.00000\n",
            "Epoch 33/70\n",
            "25/25 [==============================] - 2s 65ms/step - loss: 0.2954 - accuracy: 1.0000 - val_loss: 0.2953 - val_accuracy: 1.0000\n",
            "\n",
            "Epoch 00033: val_accuracy did not improve from 1.00000\n",
            "Epoch 34/70\n",
            "25/25 [==============================] - 2s 66ms/step - loss: 0.2956 - accuracy: 0.9994 - val_loss: 0.2951 - val_accuracy: 1.0000\n",
            "\n",
            "Epoch 00034: val_accuracy did not improve from 1.00000\n",
            "Epoch 35/70\n",
            "25/25 [==============================] - 2s 64ms/step - loss: 0.2952 - accuracy: 1.0000 - val_loss: 0.2951 - val_accuracy: 1.0000\n",
            "\n",
            "Epoch 00035: val_accuracy did not improve from 1.00000\n",
            "Epoch 36/70\n",
            "25/25 [==============================] - 2s 65ms/step - loss: 0.2971 - accuracy: 1.0000 - val_loss: 0.2951 - val_accuracy: 1.0000\n",
            "\n",
            "Epoch 00036: val_accuracy did not improve from 1.00000\n",
            "Epoch 37/70\n",
            "25/25 [==============================] - 2s 65ms/step - loss: 0.2952 - accuracy: 1.0000 - val_loss: 0.2950 - val_accuracy: 1.0000\n",
            "\n",
            "Epoch 00037: val_accuracy did not improve from 1.00000\n",
            "Epoch 38/70\n",
            "25/25 [==============================] - 2s 69ms/step - loss: 0.2957 - accuracy: 1.0000 - val_loss: 0.2948 - val_accuracy: 1.0000\n",
            "\n",
            "Epoch 00038: val_accuracy did not improve from 1.00000\n",
            "Epoch 39/70\n",
            "25/25 [==============================] - 2s 67ms/step - loss: 0.2953 - accuracy: 1.0000 - val_loss: 0.2948 - val_accuracy: 1.0000\n",
            "\n",
            "Epoch 00039: val_accuracy did not improve from 1.00000\n",
            "Epoch 40/70\n",
            "25/25 [==============================] - 2s 67ms/step - loss: 0.2945 - accuracy: 1.0000 - val_loss: 0.2949 - val_accuracy: 1.0000\n",
            "\n",
            "Epoch 00040: val_accuracy did not improve from 1.00000\n",
            "Epoch 41/70\n",
            "25/25 [==============================] - 2s 65ms/step - loss: 0.2958 - accuracy: 1.0000 - val_loss: 0.2947 - val_accuracy: 1.0000\n",
            "\n",
            "Epoch 00041: val_accuracy did not improve from 1.00000\n",
            "\n",
            "Epoch 00041: ReduceLROnPlateau reducing learning rate to 0.0006249999860301614.\n",
            "Epoch 42/70\n",
            "25/25 [==============================] - 2s 67ms/step - loss: 0.2971 - accuracy: 0.9992 - val_loss: 0.2948 - val_accuracy: 1.0000\n",
            "\n",
            "Epoch 00042: val_accuracy did not improve from 1.00000\n",
            "Epoch 43/70\n",
            "25/25 [==============================] - 2s 67ms/step - loss: 0.2940 - accuracy: 1.0000 - val_loss: 0.2948 - val_accuracy: 1.0000\n",
            "\n",
            "Epoch 00043: val_accuracy did not improve from 1.00000\n",
            "Epoch 44/70\n",
            "25/25 [==============================] - 2s 74ms/step - loss: 0.2948 - accuracy: 1.0000 - val_loss: 0.2947 - val_accuracy: 1.0000\n",
            "\n",
            "Epoch 00044: val_accuracy did not improve from 1.00000\n",
            "Epoch 45/70\n",
            "25/25 [==============================] - 2s 68ms/step - loss: 0.2949 - accuracy: 1.0000 - val_loss: 0.2947 - val_accuracy: 1.0000\n",
            "\n",
            "Epoch 00045: val_accuracy did not improve from 1.00000\n",
            "Epoch 46/70\n",
            "25/25 [==============================] - 2s 96ms/step - loss: 0.2956 - accuracy: 0.9993 - val_loss: 0.2947 - val_accuracy: 1.0000\n",
            "\n",
            "Epoch 00046: val_accuracy did not improve from 1.00000\n",
            "Epoch 47/70\n",
            "25/25 [==============================] - 2s 97ms/step - loss: 0.2954 - accuracy: 0.9996 - val_loss: 0.2946 - val_accuracy: 1.0000\n",
            "\n",
            "Epoch 00047: val_accuracy did not improve from 1.00000\n",
            "Epoch 48/70\n",
            "25/25 [==============================] - 2s 101ms/step - loss: 0.2948 - accuracy: 1.0000 - val_loss: 0.2946 - val_accuracy: 1.0000\n",
            "\n",
            "Epoch 00048: val_accuracy did not improve from 1.00000\n",
            "Epoch 49/70\n",
            "25/25 [==============================] - 3s 104ms/step - loss: 0.2942 - accuracy: 1.0000 - val_loss: 0.2945 - val_accuracy: 1.0000\n",
            "\n",
            "Epoch 00049: val_accuracy did not improve from 1.00000\n",
            "Epoch 50/70\n",
            "25/25 [==============================] - 2s 96ms/step - loss: 0.2957 - accuracy: 1.0000 - val_loss: 0.2946 - val_accuracy: 1.0000\n",
            "\n",
            "Epoch 00050: val_accuracy did not improve from 1.00000\n",
            "Epoch 51/70\n",
            "25/25 [==============================] - 2s 92ms/step - loss: 0.2944 - accuracy: 1.0000 - val_loss: 0.2945 - val_accuracy: 1.0000\n",
            "\n",
            "Epoch 00051: val_accuracy did not improve from 1.00000\n",
            "\n",
            "Epoch 00051: ReduceLROnPlateau reducing learning rate to 0.0003124999930150807.\n",
            "Epoch 52/70\n",
            "25/25 [==============================] - 2s 69ms/step - loss: 0.2975 - accuracy: 0.9976 - val_loss: 0.2945 - val_accuracy: 1.0000\n",
            "\n",
            "Epoch 00052: val_accuracy did not improve from 1.00000\n",
            "Epoch 53/70\n",
            "25/25 [==============================] - 2s 74ms/step - loss: 0.2951 - accuracy: 0.9986 - val_loss: 0.2946 - val_accuracy: 1.0000\n",
            "\n",
            "Epoch 00053: val_accuracy did not improve from 1.00000\n",
            "Epoch 54/70\n",
            "25/25 [==============================] - 2s 68ms/step - loss: 0.2966 - accuracy: 0.9996 - val_loss: 0.2945 - val_accuracy: 1.0000\n",
            "\n",
            "Epoch 00054: val_accuracy did not improve from 1.00000\n",
            "Epoch 55/70\n",
            "25/25 [==============================] - 2s 70ms/step - loss: 0.2941 - accuracy: 1.0000 - val_loss: 0.2944 - val_accuracy: 1.0000\n",
            "\n",
            "Epoch 00055: val_accuracy did not improve from 1.00000\n",
            "Epoch 56/70\n",
            "25/25 [==============================] - 2s 69ms/step - loss: 0.2940 - accuracy: 1.0000 - val_loss: 0.2945 - val_accuracy: 1.0000\n",
            "\n",
            "Epoch 00056: val_accuracy did not improve from 1.00000\n",
            "Epoch 57/70\n",
            "25/25 [==============================] - 2s 70ms/step - loss: 0.2957 - accuracy: 1.0000 - val_loss: 0.2945 - val_accuracy: 1.0000\n",
            "\n",
            "Epoch 00057: val_accuracy did not improve from 1.00000\n",
            "Epoch 58/70\n",
            "25/25 [==============================] - 2s 68ms/step - loss: 0.2959 - accuracy: 1.0000 - val_loss: 0.2945 - val_accuracy: 1.0000\n",
            "\n",
            "Epoch 00058: val_accuracy did not improve from 1.00000\n",
            "Epoch 59/70\n",
            "25/25 [==============================] - 2s 68ms/step - loss: 0.2938 - accuracy: 1.0000 - val_loss: 0.2945 - val_accuracy: 1.0000\n",
            "\n",
            "Epoch 00059: val_accuracy did not improve from 1.00000\n",
            "Epoch 60/70\n",
            "25/25 [==============================] - 2s 70ms/step - loss: 0.2951 - accuracy: 0.9992 - val_loss: 0.2944 - val_accuracy: 1.0000\n",
            "\n",
            "Epoch 00060: val_accuracy did not improve from 1.00000\n",
            "Epoch 61/70\n",
            "25/25 [==============================] - 2s 69ms/step - loss: 0.2944 - accuracy: 1.0000 - val_loss: 0.2944 - val_accuracy: 1.0000\n",
            "\n",
            "Epoch 00061: val_accuracy did not improve from 1.00000\n",
            "\n",
            "Epoch 00061: ReduceLROnPlateau reducing learning rate to 0.00015624999650754035.\n",
            "Epoch 62/70\n",
            "25/25 [==============================] - 2s 72ms/step - loss: 0.2944 - accuracy: 1.0000 - val_loss: 0.2944 - val_accuracy: 1.0000\n",
            "\n",
            "Epoch 00062: val_accuracy did not improve from 1.00000\n",
            "Epoch 63/70\n",
            "25/25 [==============================] - 2s 66ms/step - loss: 0.2938 - accuracy: 1.0000 - val_loss: 0.2945 - val_accuracy: 1.0000\n",
            "\n",
            "Epoch 00063: val_accuracy did not improve from 1.00000\n",
            "Epoch 64/70\n",
            "25/25 [==============================] - 2s 75ms/step - loss: 0.2946 - accuracy: 1.0000 - val_loss: 0.2944 - val_accuracy: 1.0000\n",
            "\n",
            "Epoch 00064: val_accuracy did not improve from 1.00000\n",
            "Epoch 65/70\n",
            "25/25 [==============================] - 2s 70ms/step - loss: 0.2966 - accuracy: 1.0000 - val_loss: 0.2944 - val_accuracy: 1.0000\n",
            "\n",
            "Epoch 00065: val_accuracy did not improve from 1.00000\n",
            "Epoch 66/70\n",
            "25/25 [==============================] - 2s 68ms/step - loss: 0.2953 - accuracy: 1.0000 - val_loss: 0.2945 - val_accuracy: 1.0000\n",
            "\n",
            "Epoch 00066: val_accuracy did not improve from 1.00000\n",
            "Epoch 67/70\n",
            "25/25 [==============================] - 2s 65ms/step - loss: 0.2941 - accuracy: 1.0000 - val_loss: 0.2944 - val_accuracy: 1.0000\n",
            "\n",
            "Epoch 00067: val_accuracy did not improve from 1.00000\n",
            "Epoch 68/70\n",
            "25/25 [==============================] - 2s 65ms/step - loss: 0.2940 - accuracy: 1.0000 - val_loss: 0.2944 - val_accuracy: 1.0000\n",
            "\n",
            "Epoch 00068: val_accuracy did not improve from 1.00000\n",
            "Epoch 69/70\n",
            "25/25 [==============================] - 2s 72ms/step - loss: 0.2943 - accuracy: 1.0000 - val_loss: 0.2943 - val_accuracy: 1.0000\n",
            "\n",
            "Epoch 00069: val_accuracy did not improve from 1.00000\n",
            "Epoch 70/70\n",
            "25/25 [==============================] - 2s 65ms/step - loss: 0.2943 - accuracy: 1.0000 - val_loss: 0.2944 - val_accuracy: 1.0000\n",
            "\n",
            "Epoch 00070: val_accuracy did not improve from 1.00000\n"
          ],
          "name": "stdout"
        }
      ]
    },
    {
      "cell_type": "code",
      "metadata": {
        "colab": {
          "base_uri": "https://localhost:8080/"
        },
        "id": "sPAzb2WwhIFt",
        "outputId": "ce495343-bca1-423c-ac23-f5e478b8a827"
      },
      "source": [
        "train_labels.shape"
      ],
      "execution_count": null,
      "outputs": [
        {
          "output_type": "execute_result",
          "data": {
            "text/plain": [
              "(349,)"
            ]
          },
          "metadata": {
            "tags": []
          },
          "execution_count": 54
        }
      ]
    },
    {
      "cell_type": "code",
      "metadata": {
        "colab": {
          "base_uri": "https://localhost:8080/"
        },
        "id": "JEd9xf2hiISH",
        "outputId": "3a184f27-7585-4689-cd2c-b65cc6f7c5c7"
      },
      "source": [
        "train_set.shape"
      ],
      "execution_count": null,
      "outputs": [
        {
          "output_type": "execute_result",
          "data": {
            "text/plain": [
              "(349, 128, 2586)"
            ]
          },
          "metadata": {
            "tags": []
          },
          "execution_count": 55
        }
      ]
    },
    {
      "cell_type": "code",
      "metadata": {
        "colab": {
          "base_uri": "https://localhost:8080/",
          "height": 590
        },
        "id": "ZxF-kUUJiPps",
        "outputId": "4966da85-27e6-45e5-97fc-cd59639419a9"
      },
      "source": [
        "show_summary_stats(history)"
      ],
      "execution_count": null,
      "outputs": [
        {
          "output_type": "stream",
          "text": [
            "dict_keys(['loss', 'accuracy', 'val_loss', 'val_accuracy', 'lr'])\n"
          ],
          "name": "stdout"
        },
        {
          "output_type": "display_data",
          "data": {
            "image/png": "[encoded data removed]",
            "text/plain": [
              "<Figure size 432x288 with 1 Axes>"
            ]
          },
          "metadata": {
            "tags": [],
            "needs_background": "light"
          }
        },
        {
          "output_type": "display_data",
          "data": {
            "image/png": "[encoded data removed]",
            "text/plain": [
              "<Figure size 432x288 with 1 Axes>"
            ]
          },
          "metadata": {
            "tags": [],
            "needs_background": "light"
          }
        }
      ]
    },
    {
      "cell_type": "markdown",
      "metadata": {
        "id": "BEmKlvsXox9A"
      },
      "source": [
        "# DNN Model"
      ]
    },
    {
      "cell_type": "code",
      "metadata": {
        "id": "NKd7YB48B9CF"
      },
      "source": [
        "from sklearn.model_selection import train_test_split\n",
        "from sklearn.preprocessing import LabelEncoder, StandardScaler\n",
        "\n",
        "data = pd.read_csv('drive/MyDrive/GTZAN Data/features_3_sec.csv')\n",
        "\n",
        "all_labels = data['label'].unique()\n",
        "label_encoder = LabelEncoder()\n",
        "labels = data['label']\n",
        "label_encoder.fit(labels)\n",
        "\n",
        "data.insert(60, 'label_id', 9999)\n",
        "data.insert(1, 'filename_full', '')\n",
        "for i in range(len(data)):\n",
        "    label = data.loc[i,'label']\n",
        "    label_id =label_encoder.transform([label])\n",
        "    data.loc[i,'label_id']=label_id.item()\n",
        "    data.loc[i,'filename_full']=str(data.loc[i,'filename']).split('.')[0]+\".\"+str(data.loc[i,'filename']).split('.')[1]+\".\"+str(data.loc[i,'filename']).split('.')[3]\n",
        "data['label_id']=data['label_id'].astype(int)\n",
        "\n",
        "features_full = data.drop(['filename','filename_full', 'length','label', 'label_id'], axis = 1)\n",
        "target_full = data['label_id'].astype('int')\n",
        "features, features_test, target, target_test = train_test_split(features_full, target_full, test_size=0.25, random_state = 42, shuffle = True)"
      ],
      "execution_count": 32,
      "outputs": []
    },
    {
      "cell_type": "code",
      "metadata": {
        "id": "OimJMD3pF15R"
      },
      "source": [
        "scaler = StandardScaler()\n",
        "features = pd.DataFrame(scaler.fit_transform(features), columns=features.columns)\n",
        "features_test = pd.DataFrame(scaler.transform(features_test), columns=features_test.columns)"
      ],
      "execution_count": 40,
      "outputs": []
    },
    {
      "cell_type": "code",
      "metadata": {
        "id": "JLB3T3CC9dvB"
      },
      "source": [
        "import tensorflow as tf\n",
        "import tensorflow.keras as k\n",
        "from keras.wrappers.scikit_learn import KerasClassifier\n",
        "import matplotlib.pyplot as plt\n",
        "from sklearn.metrics import accuracy_score\n",
        "\n",
        "def make_model():\n",
        "\n",
        "  init = 'glorot_uniform'\n",
        "  model = k.models.Sequential([\n",
        "        k.layers.Dense(1024, activation='relu', kernel_initializer=init, input_shape=(features.shape[1],)),\n",
        "        k.layers.Dropout(0.4),\n",
        "        k.layers.BatchNormalization(), \n",
        "          \n",
        "        k.layers.Dense(512, activation='relu', kernel_initializer=init),\n",
        "        k.layers.Dropout(0.4),\n",
        "        k.layers.BatchNormalization(),                                                  \n",
        "        \n",
        "        k.layers.Dense(256, activation='relu', kernel_initializer=init),\n",
        "        k.layers.Dropout(0.4),\n",
        "        k.layers.BatchNormalization(),\n",
        "          \n",
        "        k.layers.Dense(128, kernel_initializer=init, activation='relu'),\n",
        "        k.layers.Dropout(0.4),\n",
        "        k.layers.BatchNormalization(),\n",
        "          \n",
        "        k.layers.Dense(64, kernel_initializer=init, activation='relu'),\n",
        "        k.layers.Dropout(0.4),\n",
        "        k.layers.BatchNormalization(),\n",
        "\n",
        "        k.layers.Dense(10, activation='softmax'),\n",
        "      ])\n",
        "  \n",
        "  model.compile(loss='categorical_crossentropy', optimizer='rmsprop', metrics=['accuracy'])\n",
        "  return model"
      ],
      "execution_count": 49,
      "outputs": []
    },
    {
      "cell_type": "code",
      "metadata": {
        "colab": {
          "base_uri": "https://localhost:8080/",
          "height": 1000
        },
        "id": "niYFGQ8GBSW7",
        "outputId": "94330efd-d278-433c-ee21-0539e85a4db6"
      },
      "source": [
        "model =  KerasClassifier(build_fn=make_model, epochs=100, batch_size=128)\n",
        "history = model.fit(features, target)\n",
        "pd.DataFrame(history.history).plot(figsize=(12,6))\n",
        "plt.xlabel(\"epochs\")\n",
        "plt.ylabel(\"loss and accuracy\") \n",
        "plt.show()"
      ],
      "execution_count": 52,
      "outputs": [
        {
          "output_type": "stream",
          "text": [
            "Epoch 1/100\n",
            "59/59 [==============================] - 2s 7ms/step - loss: 2.0694 - accuracy: 0.2918\n",
            "Epoch 2/100\n",
            "59/59 [==============================] - 0s 7ms/step - loss: 1.4974 - accuracy: 0.4764\n",
            "Epoch 3/100\n",
            "59/59 [==============================] - 0s 7ms/step - loss: 1.2533 - accuracy: 0.5689\n",
            "Epoch 4/100\n",
            "59/59 [==============================] - 0s 7ms/step - loss: 1.0984 - accuracy: 0.6245\n",
            "Epoch 5/100\n",
            "59/59 [==============================] - 0s 7ms/step - loss: 0.9914 - accuracy: 0.6735\n",
            "Epoch 6/100\n",
            "59/59 [==============================] - 0s 7ms/step - loss: 0.9077 - accuracy: 0.7044\n",
            "Epoch 7/100\n",
            "59/59 [==============================] - 0s 7ms/step - loss: 0.8369 - accuracy: 0.7245\n",
            "Epoch 8/100\n",
            "59/59 [==============================] - 0s 7ms/step - loss: 0.7793 - accuracy: 0.7449\n",
            "Epoch 9/100\n",
            "59/59 [==============================] - 0s 7ms/step - loss: 0.7414 - accuracy: 0.7678\n",
            "Epoch 10/100\n",
            "59/59 [==============================] - 0s 8ms/step - loss: 0.6924 - accuracy: 0.7846\n",
            "Epoch 11/100\n",
            "59/59 [==============================] - 0s 7ms/step - loss: 0.6519 - accuracy: 0.7951\n",
            "Epoch 12/100\n",
            "59/59 [==============================] - 0s 7ms/step - loss: 0.6218 - accuracy: 0.8034\n",
            "Epoch 13/100\n",
            "59/59 [==============================] - 0s 8ms/step - loss: 0.5947 - accuracy: 0.8186\n",
            "Epoch 14/100\n",
            "59/59 [==============================] - 0s 8ms/step - loss: 0.5436 - accuracy: 0.8362\n",
            "Epoch 15/100\n",
            "59/59 [==============================] - 0s 8ms/step - loss: 0.5207 - accuracy: 0.8402\n",
            "Epoch 16/100\n",
            "59/59 [==============================] - 0s 8ms/step - loss: 0.5083 - accuracy: 0.8394\n",
            "Epoch 17/100\n",
            "59/59 [==============================] - 0s 8ms/step - loss: 0.4758 - accuracy: 0.8554\n",
            "Epoch 18/100\n",
            "59/59 [==============================] - 0s 7ms/step - loss: 0.4601 - accuracy: 0.8578\n",
            "Epoch 19/100\n",
            "59/59 [==============================] - 0s 7ms/step - loss: 0.4206 - accuracy: 0.8712\n",
            "Epoch 20/100\n",
            "59/59 [==============================] - 0s 7ms/step - loss: 0.4055 - accuracy: 0.8835\n",
            "Epoch 21/100\n",
            "59/59 [==============================] - 0s 7ms/step - loss: 0.4029 - accuracy: 0.8817\n",
            "Epoch 22/100\n",
            "59/59 [==============================] - 0s 7ms/step - loss: 0.3740 - accuracy: 0.8880\n",
            "Epoch 23/100\n",
            "59/59 [==============================] - 0s 7ms/step - loss: 0.3731 - accuracy: 0.8900\n",
            "Epoch 24/100\n",
            "59/59 [==============================] - 0s 7ms/step - loss: 0.3535 - accuracy: 0.8971\n",
            "Epoch 25/100\n",
            "59/59 [==============================] - 0s 7ms/step - loss: 0.3321 - accuracy: 0.8994\n",
            "Epoch 26/100\n",
            "59/59 [==============================] - 0s 7ms/step - loss: 0.3251 - accuracy: 0.9019\n",
            "Epoch 27/100\n",
            "59/59 [==============================] - 0s 7ms/step - loss: 0.3222 - accuracy: 0.9078\n",
            "Epoch 28/100\n",
            "59/59 [==============================] - 0s 7ms/step - loss: 0.3028 - accuracy: 0.9104\n",
            "Epoch 29/100\n",
            "59/59 [==============================] - 0s 7ms/step - loss: 0.3161 - accuracy: 0.9126\n",
            "Epoch 30/100\n",
            "59/59 [==============================] - 0s 7ms/step - loss: 0.2965 - accuracy: 0.9151\n",
            "Epoch 31/100\n",
            "59/59 [==============================] - 0s 6ms/step - loss: 0.2821 - accuracy: 0.9156\n",
            "Epoch 32/100\n",
            "59/59 [==============================] - 0s 7ms/step - loss: 0.2792 - accuracy: 0.9175\n",
            "Epoch 33/100\n",
            "59/59 [==============================] - 0s 7ms/step - loss: 0.2858 - accuracy: 0.9179\n",
            "Epoch 34/100\n",
            "59/59 [==============================] - 0s 8ms/step - loss: 0.2456 - accuracy: 0.9310\n",
            "Epoch 35/100\n",
            "59/59 [==============================] - 0s 7ms/step - loss: 0.2569 - accuracy: 0.9277\n",
            "Epoch 36/100\n",
            "59/59 [==============================] - 0s 7ms/step - loss: 0.2380 - accuracy: 0.9303\n",
            "Epoch 37/100\n",
            "59/59 [==============================] - 0s 8ms/step - loss: 0.2480 - accuracy: 0.9302\n",
            "Epoch 38/100\n",
            "59/59 [==============================] - 0s 7ms/step - loss: 0.2310 - accuracy: 0.9322\n",
            "Epoch 39/100\n",
            "59/59 [==============================] - 0s 7ms/step - loss: 0.2370 - accuracy: 0.9303\n",
            "Epoch 40/100\n",
            "59/59 [==============================] - 0s 7ms/step - loss: 0.2293 - accuracy: 0.9345\n",
            "Epoch 41/100\n",
            "59/59 [==============================] - 0s 8ms/step - loss: 0.2280 - accuracy: 0.9329\n",
            "Epoch 42/100\n",
            "59/59 [==============================] - 0s 8ms/step - loss: 0.2157 - accuracy: 0.9397\n",
            "Epoch 43/100\n",
            "59/59 [==============================] - 0s 8ms/step - loss: 0.2115 - accuracy: 0.9378\n",
            "Epoch 44/100\n",
            "59/59 [==============================] - 0s 7ms/step - loss: 0.1942 - accuracy: 0.9414\n",
            "Epoch 45/100\n",
            "59/59 [==============================] - 0s 7ms/step - loss: 0.1965 - accuracy: 0.9442\n",
            "Epoch 46/100\n",
            "59/59 [==============================] - 0s 8ms/step - loss: 0.2030 - accuracy: 0.9426\n",
            "Epoch 47/100\n",
            "59/59 [==============================] - 0s 8ms/step - loss: 0.1876 - accuracy: 0.9482\n",
            "Epoch 48/100\n",
            "59/59 [==============================] - 0s 8ms/step - loss: 0.1847 - accuracy: 0.9486\n",
            "Epoch 49/100\n",
            "59/59 [==============================] - 0s 7ms/step - loss: 0.1988 - accuracy: 0.9447\n",
            "Epoch 50/100\n",
            "59/59 [==============================] - 0s 8ms/step - loss: 0.1818 - accuracy: 0.9509\n",
            "Epoch 51/100\n",
            "59/59 [==============================] - 0s 8ms/step - loss: 0.1860 - accuracy: 0.9486\n",
            "Epoch 52/100\n",
            "59/59 [==============================] - 0s 8ms/step - loss: 0.1875 - accuracy: 0.9478\n",
            "Epoch 53/100\n",
            "59/59 [==============================] - 0s 8ms/step - loss: 0.1702 - accuracy: 0.9529\n",
            "Epoch 54/100\n",
            "59/59 [==============================] - 0s 8ms/step - loss: 0.1714 - accuracy: 0.9519\n",
            "Epoch 55/100\n",
            "59/59 [==============================] - 0s 8ms/step - loss: 0.1696 - accuracy: 0.9530\n",
            "Epoch 56/100\n",
            "59/59 [==============================] - 0s 8ms/step - loss: 0.1647 - accuracy: 0.9514\n",
            "Epoch 57/100\n",
            "59/59 [==============================] - 0s 8ms/step - loss: 0.1828 - accuracy: 0.9475\n",
            "Epoch 58/100\n",
            "59/59 [==============================] - 0s 8ms/step - loss: 0.1720 - accuracy: 0.9518\n",
            "Epoch 59/100\n",
            "59/59 [==============================] - 0s 8ms/step - loss: 0.1599 - accuracy: 0.9544\n",
            "Epoch 60/100\n",
            "59/59 [==============================] - 0s 8ms/step - loss: 0.1566 - accuracy: 0.9570\n",
            "Epoch 61/100\n",
            "59/59 [==============================] - 0s 8ms/step - loss: 0.1571 - accuracy: 0.9568\n",
            "Epoch 62/100\n",
            "59/59 [==============================] - 0s 8ms/step - loss: 0.1590 - accuracy: 0.9558\n",
            "Epoch 63/100\n",
            "59/59 [==============================] - 0s 8ms/step - loss: 0.1607 - accuracy: 0.9541\n",
            "Epoch 64/100\n",
            "59/59 [==============================] - 0s 8ms/step - loss: 0.1518 - accuracy: 0.9585\n",
            "Epoch 65/100\n",
            "59/59 [==============================] - 0s 8ms/step - loss: 0.1449 - accuracy: 0.9582\n",
            "Epoch 66/100\n",
            "59/59 [==============================] - 0s 8ms/step - loss: 0.1546 - accuracy: 0.9561\n",
            "Epoch 67/100\n",
            "59/59 [==============================] - 0s 7ms/step - loss: 0.1541 - accuracy: 0.9554\n",
            "Epoch 68/100\n",
            "59/59 [==============================] - 0s 8ms/step - loss: 0.1570 - accuracy: 0.9574\n",
            "Epoch 69/100\n",
            "59/59 [==============================] - 0s 7ms/step - loss: 0.1439 - accuracy: 0.9577\n",
            "Epoch 70/100\n",
            "59/59 [==============================] - 0s 8ms/step - loss: 0.1425 - accuracy: 0.9573\n",
            "Epoch 71/100\n",
            "59/59 [==============================] - 0s 8ms/step - loss: 0.1597 - accuracy: 0.9553\n",
            "Epoch 72/100\n",
            "59/59 [==============================] - 0s 8ms/step - loss: 0.1336 - accuracy: 0.9616\n",
            "Epoch 73/100\n",
            "59/59 [==============================] - 0s 7ms/step - loss: 0.1403 - accuracy: 0.9558\n",
            "Epoch 74/100\n",
            "59/59 [==============================] - 0s 8ms/step - loss: 0.1391 - accuracy: 0.9596\n",
            "Epoch 75/100\n",
            "59/59 [==============================] - 0s 7ms/step - loss: 0.1337 - accuracy: 0.9618\n",
            "Epoch 76/100\n",
            "59/59 [==============================] - 0s 7ms/step - loss: 0.1422 - accuracy: 0.9612\n",
            "Epoch 77/100\n",
            "59/59 [==============================] - 0s 8ms/step - loss: 0.1198 - accuracy: 0.9684\n",
            "Epoch 78/100\n",
            "59/59 [==============================] - 0s 8ms/step - loss: 0.1446 - accuracy: 0.9609\n",
            "Epoch 79/100\n",
            "59/59 [==============================] - 0s 8ms/step - loss: 0.1277 - accuracy: 0.9626\n",
            "Epoch 80/100\n",
            "59/59 [==============================] - 0s 8ms/step - loss: 0.1269 - accuracy: 0.9630\n",
            "Epoch 81/100\n",
            "59/59 [==============================] - 0s 8ms/step - loss: 0.1258 - accuracy: 0.9633\n",
            "Epoch 82/100\n",
            "59/59 [==============================] - 0s 7ms/step - loss: 0.1231 - accuracy: 0.9650\n",
            "Epoch 83/100\n",
            "59/59 [==============================] - 0s 7ms/step - loss: 0.1346 - accuracy: 0.9640\n",
            "Epoch 84/100\n",
            "59/59 [==============================] - 0s 8ms/step - loss: 0.1237 - accuracy: 0.9661\n",
            "Epoch 85/100\n",
            "59/59 [==============================] - 0s 8ms/step - loss: 0.1197 - accuracy: 0.9654\n",
            "Epoch 86/100\n",
            "59/59 [==============================] - 0s 7ms/step - loss: 0.1222 - accuracy: 0.9658\n",
            "Epoch 87/100\n",
            "59/59 [==============================] - 0s 8ms/step - loss: 0.1227 - accuracy: 0.9682\n",
            "Epoch 88/100\n",
            "59/59 [==============================] - 0s 8ms/step - loss: 0.1250 - accuracy: 0.9664\n",
            "Epoch 89/100\n",
            "59/59 [==============================] - 0s 8ms/step - loss: 0.1221 - accuracy: 0.9662\n",
            "Epoch 90/100\n",
            "59/59 [==============================] - 0s 8ms/step - loss: 0.1231 - accuracy: 0.9653\n",
            "Epoch 91/100\n",
            "59/59 [==============================] - 0s 8ms/step - loss: 0.1215 - accuracy: 0.9653\n",
            "Epoch 92/100\n",
            "59/59 [==============================] - 0s 8ms/step - loss: 0.1219 - accuracy: 0.9673\n",
            "Epoch 93/100\n",
            "59/59 [==============================] - 0s 8ms/step - loss: 0.1219 - accuracy: 0.9672\n",
            "Epoch 94/100\n",
            "59/59 [==============================] - 0s 7ms/step - loss: 0.1047 - accuracy: 0.9729\n",
            "Epoch 95/100\n",
            "59/59 [==============================] - 0s 7ms/step - loss: 0.1029 - accuracy: 0.9709\n",
            "Epoch 96/100\n",
            "59/59 [==============================] - 0s 7ms/step - loss: 0.1151 - accuracy: 0.9689\n",
            "Epoch 97/100\n",
            "59/59 [==============================] - 0s 7ms/step - loss: 0.1062 - accuracy: 0.9716\n",
            "Epoch 98/100\n",
            "59/59 [==============================] - 0s 7ms/step - loss: 0.1018 - accuracy: 0.9713\n",
            "Epoch 99/100\n",
            "59/59 [==============================] - 0s 7ms/step - loss: 0.1018 - accuracy: 0.9717\n",
            "Epoch 100/100\n",
            "59/59 [==============================] - 0s 7ms/step - loss: 0.1138 - accuracy: 0.9689\n"
          ],
          "name": "stdout"
        },
        {
          "output_type": "display_data",
          "data": {
            "image/png": "[encoded data removed]",
            "text/plain": [
              "<Figure size 864x432 with 1 Axes>"
            ]
          },
          "metadata": {
            "tags": [],
            "needs_background": "light"
          }
        }
      ]
    },
    {
      "cell_type": "code",
      "metadata": {
        "colab": {
          "base_uri": "https://localhost:8080/"
        },
        "id": "nDsfiKmxGMEd",
        "outputId": "ae1af067-a7ed-4f73-bf30-0f2f1572b028"
      },
      "source": [
        "preds = model.predict(features_test)\n",
        "accuracy = accuracy_score(target_test, preds)\n",
        "print('accuracy score = {:.4f}'.format(accuracy))"
      ],
      "execution_count": 51,
      "outputs": [
        {
          "output_type": "stream",
          "text": [
            "/usr/local/lib/python3.7/dist-packages/tensorflow/python/keras/engine/sequential.py:455: UserWarning: `model.predict_classes()` is deprecated and will be removed after 2021-01-01. Please use instead:* `np.argmax(model.predict(x), axis=-1)`,   if your model does multi-class classification   (e.g. if it uses a `softmax` last-layer activation).* `(model.predict(x) > 0.5).astype(\"int32\")`,   if your model does binary classification   (e.g. if it uses a `sigmoid` last-layer activation).\n",
            "  warnings.warn('`model.predict_classes()` is deprecated and '\n"
          ],
          "name": "stderr"
        },
        {
          "output_type": "stream",
          "text": [
            "accuracy score = 0.9335\n"
          ],
          "name": "stdout"
        }
      ]
    }
  ]
}